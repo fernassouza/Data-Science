{
  "nbformat": 4,
  "nbformat_minor": 0,
  "metadata": {
    "colab": {
      "name": "Projeto Churn.ipynb",
      "provenance": [],
      "collapsed_sections": [],
      "authorship_tag": "ABX9TyPXlGlK6PU9xwAL7/l9kGT1",
      "include_colab_link": true
    },
    "kernelspec": {
      "name": "python3",
      "display_name": "Python 3"
    }
  },
  "cells": [
    {
      "cell_type": "markdown",
      "metadata": {
        "id": "view-in-github",
        "colab_type": "text"
      },
      "source": [
        "<a href=\"https://colab.research.google.com/github/fernassouza/Data-Science/blob/master/Projeto_Churn.ipynb\" target=\"_parent\"><img src=\"https://colab.research.google.com/assets/colab-badge.svg\" alt=\"Open In Colab\"/></a>"
      ]
    },
    {
      "cell_type": "markdown",
      "metadata": {
        "id": "w3mDLg_7xN-A"
      },
      "source": [
        "#### **Data Science**\n",
        "***by Fernando Souza***\n",
        "\n",
        "**CHURN PREDICITON**\n",
        "\n",
        "Churn é uma métrica usada para indicar o quanto sua empresa perdeu de receita ou clientes.\n",
        "\n",
        "É de extrema importância entender o motivo de abandono dos clientes para conquistar um crescimento saudável. Com o crescimento do modelo de negócios por assinatura, o Churn se tornou mais conhecido.\n",
        "\n",
        "Essa métrica está dentro de um conjunto de serviços conhecido como Saas(software as a service). Trata-se de um modelo de licenciamento e entrega de software, onde a empresa fornecedora é responsável pela infraestrutura necessária (servidores, conectividade, segurança, atualizações, etc.).\n"
      ]
    },
    {
      "cell_type": "markdown",
      "metadata": {
        "id": "HV2q1cbVIWuU"
      },
      "source": [
        "**Aquisição dos Dados**\n",
        "\n",
        "Os dados utilizados neste projeto foram originalmente disponibilizados na [plataforma de ensino da IBM Developer](https://developer.ibm.com/technologies/data-science/patterns/predict-customer-churn-using-watson-studio-and-jupyter-notebooks/#), e tratam de um problema típico de uma companhia de telecomunicações. O *dataset* completo pode ser encontrado [neste link](https://raw.githubusercontent.com/carlosfab/dsnp2/master/datasets/WA_Fn-UseC_-Telco-Customer-Churn.csv).\n",
        "\n",
        "Apesar de não haver informações explícitas disponíveis, os nomes das colunas permitem um entendimento a respeito do problema."
      ]
    },
    {
      "cell_type": "code",
      "metadata": {
        "id": "o8Ab2oyt1CST",
        "outputId": "4616a12a-9ac5-4f03-df6a-56a9ee59db79",
        "colab": {
          "base_uri": "https://localhost:8080/",
          "height": 313
        }
      },
      "source": [
        "# importando as bibliotecas\n",
        "!pip install scikit-plot -q\n",
        "\n",
        "from warnings import simplefilter\n",
        "simplefilter(action='ignore', category=FutureWarning)\n",
        "\n",
        "import pandas as pd\n",
        "import numpy as np\n",
        "import matplotlib.pyplot as plt\n",
        "import seaborn as sns\n",
        "from sklearn.preprocessing import LabelEncoder, StandardScaler\n",
        "from sklearn.model_selection import train_test_split, cross_val_score, GridSearchCV\n",
        "from imblearn.under_sampling import RandomUnderSampler\n",
        "from imblearn.over_sampling import SMOTE\n",
        "from imblearn.pipeline import Pipeline\n",
        "from sklearn.linear_model import LogisticRegression\n",
        "from sklearn.metrics import accuracy_score, recall_score, precision_score, f1_score,classification_report\n",
        "from scikitplot.metrics import plot_confusion_matrix\n",
        "from statistics import mean\n",
        "\n",
        "# importando o dataset\n",
        "df = pd.read_csv('https://raw.githubusercontent.com/carlosfab/dsnp2/master/datasets/WA_Fn-UseC_-Telco-Customer-Churn.csv')\n",
        "df.head()"
      ],
      "execution_count": 1,
      "outputs": [
        {
          "output_type": "execute_result",
          "data": {
            "text/html": [
              "<div>\n",
              "<style scoped>\n",
              "    .dataframe tbody tr th:only-of-type {\n",
              "        vertical-align: middle;\n",
              "    }\n",
              "\n",
              "    .dataframe tbody tr th {\n",
              "        vertical-align: top;\n",
              "    }\n",
              "\n",
              "    .dataframe thead th {\n",
              "        text-align: right;\n",
              "    }\n",
              "</style>\n",
              "<table border=\"1\" class=\"dataframe\">\n",
              "  <thead>\n",
              "    <tr style=\"text-align: right;\">\n",
              "      <th></th>\n",
              "      <th>customerID</th>\n",
              "      <th>gender</th>\n",
              "      <th>SeniorCitizen</th>\n",
              "      <th>Partner</th>\n",
              "      <th>Dependents</th>\n",
              "      <th>tenure</th>\n",
              "      <th>PhoneService</th>\n",
              "      <th>MultipleLines</th>\n",
              "      <th>InternetService</th>\n",
              "      <th>OnlineSecurity</th>\n",
              "      <th>OnlineBackup</th>\n",
              "      <th>DeviceProtection</th>\n",
              "      <th>TechSupport</th>\n",
              "      <th>StreamingTV</th>\n",
              "      <th>StreamingMovies</th>\n",
              "      <th>Contract</th>\n",
              "      <th>PaperlessBilling</th>\n",
              "      <th>PaymentMethod</th>\n",
              "      <th>MonthlyCharges</th>\n",
              "      <th>TotalCharges</th>\n",
              "      <th>Churn</th>\n",
              "    </tr>\n",
              "  </thead>\n",
              "  <tbody>\n",
              "    <tr>\n",
              "      <th>0</th>\n",
              "      <td>7590-VHVEG</td>\n",
              "      <td>Female</td>\n",
              "      <td>0</td>\n",
              "      <td>Yes</td>\n",
              "      <td>No</td>\n",
              "      <td>1</td>\n",
              "      <td>No</td>\n",
              "      <td>No phone service</td>\n",
              "      <td>DSL</td>\n",
              "      <td>No</td>\n",
              "      <td>Yes</td>\n",
              "      <td>No</td>\n",
              "      <td>No</td>\n",
              "      <td>No</td>\n",
              "      <td>No</td>\n",
              "      <td>Month-to-month</td>\n",
              "      <td>Yes</td>\n",
              "      <td>Electronic check</td>\n",
              "      <td>29.85</td>\n",
              "      <td>29.85</td>\n",
              "      <td>No</td>\n",
              "    </tr>\n",
              "    <tr>\n",
              "      <th>1</th>\n",
              "      <td>5575-GNVDE</td>\n",
              "      <td>Male</td>\n",
              "      <td>0</td>\n",
              "      <td>No</td>\n",
              "      <td>No</td>\n",
              "      <td>34</td>\n",
              "      <td>Yes</td>\n",
              "      <td>No</td>\n",
              "      <td>DSL</td>\n",
              "      <td>Yes</td>\n",
              "      <td>No</td>\n",
              "      <td>Yes</td>\n",
              "      <td>No</td>\n",
              "      <td>No</td>\n",
              "      <td>No</td>\n",
              "      <td>One year</td>\n",
              "      <td>No</td>\n",
              "      <td>Mailed check</td>\n",
              "      <td>56.95</td>\n",
              "      <td>1889.5</td>\n",
              "      <td>No</td>\n",
              "    </tr>\n",
              "    <tr>\n",
              "      <th>2</th>\n",
              "      <td>3668-QPYBK</td>\n",
              "      <td>Male</td>\n",
              "      <td>0</td>\n",
              "      <td>No</td>\n",
              "      <td>No</td>\n",
              "      <td>2</td>\n",
              "      <td>Yes</td>\n",
              "      <td>No</td>\n",
              "      <td>DSL</td>\n",
              "      <td>Yes</td>\n",
              "      <td>Yes</td>\n",
              "      <td>No</td>\n",
              "      <td>No</td>\n",
              "      <td>No</td>\n",
              "      <td>No</td>\n",
              "      <td>Month-to-month</td>\n",
              "      <td>Yes</td>\n",
              "      <td>Mailed check</td>\n",
              "      <td>53.85</td>\n",
              "      <td>108.15</td>\n",
              "      <td>Yes</td>\n",
              "    </tr>\n",
              "    <tr>\n",
              "      <th>3</th>\n",
              "      <td>7795-CFOCW</td>\n",
              "      <td>Male</td>\n",
              "      <td>0</td>\n",
              "      <td>No</td>\n",
              "      <td>No</td>\n",
              "      <td>45</td>\n",
              "      <td>No</td>\n",
              "      <td>No phone service</td>\n",
              "      <td>DSL</td>\n",
              "      <td>Yes</td>\n",
              "      <td>No</td>\n",
              "      <td>Yes</td>\n",
              "      <td>Yes</td>\n",
              "      <td>No</td>\n",
              "      <td>No</td>\n",
              "      <td>One year</td>\n",
              "      <td>No</td>\n",
              "      <td>Bank transfer (automatic)</td>\n",
              "      <td>42.30</td>\n",
              "      <td>1840.75</td>\n",
              "      <td>No</td>\n",
              "    </tr>\n",
              "    <tr>\n",
              "      <th>4</th>\n",
              "      <td>9237-HQITU</td>\n",
              "      <td>Female</td>\n",
              "      <td>0</td>\n",
              "      <td>No</td>\n",
              "      <td>No</td>\n",
              "      <td>2</td>\n",
              "      <td>Yes</td>\n",
              "      <td>No</td>\n",
              "      <td>Fiber optic</td>\n",
              "      <td>No</td>\n",
              "      <td>No</td>\n",
              "      <td>No</td>\n",
              "      <td>No</td>\n",
              "      <td>No</td>\n",
              "      <td>No</td>\n",
              "      <td>Month-to-month</td>\n",
              "      <td>Yes</td>\n",
              "      <td>Electronic check</td>\n",
              "      <td>70.70</td>\n",
              "      <td>151.65</td>\n",
              "      <td>Yes</td>\n",
              "    </tr>\n",
              "  </tbody>\n",
              "</table>\n",
              "</div>"
            ],
            "text/plain": [
              "   customerID  gender  SeniorCitizen  ... MonthlyCharges TotalCharges  Churn\n",
              "0  7590-VHVEG  Female              0  ...          29.85        29.85     No\n",
              "1  5575-GNVDE    Male              0  ...          56.95       1889.5     No\n",
              "2  3668-QPYBK    Male              0  ...          53.85       108.15    Yes\n",
              "3  7795-CFOCW    Male              0  ...          42.30      1840.75     No\n",
              "4  9237-HQITU  Female              0  ...          70.70       151.65    Yes\n",
              "\n",
              "[5 rows x 21 columns]"
            ]
          },
          "metadata": {
            "tags": []
          },
          "execution_count": 1
        }
      ]
    },
    {
      "cell_type": "markdown",
      "metadata": {
        "id": "LKAQyE1kUxwS"
      },
      "source": [
        "Como podemos ver nas primeiras 5 linhas do dataset, existe informações importantes que nos ajudarão a entender melhor o problema e na construção do modelo para prever possíveis  desistências futuras."
      ]
    },
    {
      "cell_type": "markdown",
      "metadata": {
        "id": "yivLYBJ3WIst"
      },
      "source": [
        "Abaixo será verificado o tamanho do dataset."
      ]
    },
    {
      "cell_type": "code",
      "metadata": {
        "id": "QdhxBBBgC7Ll",
        "outputId": "0ca5e14f-d384-4043-edb6-c16b2d762aac",
        "colab": {
          "base_uri": "https://localhost:8080/",
          "height": 54
        }
      },
      "source": [
        "# tamanho do dataset\n",
        "print(\"Linhas:\\t\\t{}\".format(df.shape[0]))\n",
        "print(\"Colunas:\\t{}\".format(df.shape[1]))"
      ],
      "execution_count": 2,
      "outputs": [
        {
          "output_type": "stream",
          "text": [
            "Linhas:\t\t7043\n",
            "Colunas:\t21\n"
          ],
          "name": "stdout"
        }
      ]
    },
    {
      "cell_type": "markdown",
      "metadata": {
        "id": "45T71VqLWOKf"
      },
      "source": [
        "Será verificado se existem dados ausentes, os nomes das colunas, os total de valores únicos por coluna e o tipo de cada variável."
      ]
    },
    {
      "cell_type": "code",
      "metadata": {
        "id": "4t4DKtYD2SIM",
        "outputId": "3b71d20a-1717-4e5b-e525-19cd20a0186a",
        "colab": {
          "base_uri": "https://localhost:8080/",
          "height": 1000
        }
      },
      "source": [
        "# dados ausente, nomes das feature, valores únicos e tipos dos objetos\n",
        "print(f'Dados ausente = {df.isnull().sum().values.sum()}\\n')\n",
        "print(df.isnull().sum() / df.shape[0])\n",
        "print(f'\\nNome das features:\\n {df.columns.values}')\n",
        "print(f'\\nValores únicos por coluna:\\n{df.nunique()}')\n",
        "print(f'\\nTipos de variáveis por coluna:\\n{df.dtypes}')"
      ],
      "execution_count": 3,
      "outputs": [
        {
          "output_type": "stream",
          "text": [
            "Dados ausente = 0\n",
            "\n",
            "customerID          0.0\n",
            "gender              0.0\n",
            "SeniorCitizen       0.0\n",
            "Partner             0.0\n",
            "Dependents          0.0\n",
            "tenure              0.0\n",
            "PhoneService        0.0\n",
            "MultipleLines       0.0\n",
            "InternetService     0.0\n",
            "OnlineSecurity      0.0\n",
            "OnlineBackup        0.0\n",
            "DeviceProtection    0.0\n",
            "TechSupport         0.0\n",
            "StreamingTV         0.0\n",
            "StreamingMovies     0.0\n",
            "Contract            0.0\n",
            "PaperlessBilling    0.0\n",
            "PaymentMethod       0.0\n",
            "MonthlyCharges      0.0\n",
            "TotalCharges        0.0\n",
            "Churn               0.0\n",
            "dtype: float64\n",
            "\n",
            "Nome das features:\n",
            " ['customerID' 'gender' 'SeniorCitizen' 'Partner' 'Dependents' 'tenure'\n",
            " 'PhoneService' 'MultipleLines' 'InternetService' 'OnlineSecurity'\n",
            " 'OnlineBackup' 'DeviceProtection' 'TechSupport' 'StreamingTV'\n",
            " 'StreamingMovies' 'Contract' 'PaperlessBilling' 'PaymentMethod'\n",
            " 'MonthlyCharges' 'TotalCharges' 'Churn']\n",
            "\n",
            "Valores únicos por coluna:\n",
            "customerID          7043\n",
            "gender                 2\n",
            "SeniorCitizen          2\n",
            "Partner                2\n",
            "Dependents             2\n",
            "tenure                73\n",
            "PhoneService           2\n",
            "MultipleLines          3\n",
            "InternetService        3\n",
            "OnlineSecurity         3\n",
            "OnlineBackup           3\n",
            "DeviceProtection       3\n",
            "TechSupport            3\n",
            "StreamingTV            3\n",
            "StreamingMovies        3\n",
            "Contract               3\n",
            "PaperlessBilling       2\n",
            "PaymentMethod          4\n",
            "MonthlyCharges      1585\n",
            "TotalCharges        6531\n",
            "Churn                  2\n",
            "dtype: int64\n",
            "\n",
            "Tipos de variáveis por coluna:\n",
            "customerID           object\n",
            "gender               object\n",
            "SeniorCitizen         int64\n",
            "Partner              object\n",
            "Dependents           object\n",
            "tenure                int64\n",
            "PhoneService         object\n",
            "MultipleLines        object\n",
            "InternetService      object\n",
            "OnlineSecurity       object\n",
            "OnlineBackup         object\n",
            "DeviceProtection     object\n",
            "TechSupport          object\n",
            "StreamingTV          object\n",
            "StreamingMovies      object\n",
            "Contract             object\n",
            "PaperlessBilling     object\n",
            "PaymentMethod        object\n",
            "MonthlyCharges      float64\n",
            "TotalCharges         object\n",
            "Churn                object\n",
            "dtype: object\n"
          ],
          "name": "stdout"
        }
      ]
    },
    {
      "cell_type": "markdown",
      "metadata": {
        "id": "rTSOWq_N8iON"
      },
      "source": [
        "Como verificado acima, algumas observações são necessárias:\n",
        "  * A variável alvo do dataset é a `Churn`;\n",
        "  * Não foram identificado dados faltantes no dataset;\n",
        "  * A coluna `costumerID` não tem relevância para a análise, pois trata-se de um código da operadora;\n",
        "  * A coluna `TotalCharges` está identificada como um objeto do tipo string, mas a mesma contém números.\n",
        "\n",
        "  A seguir iremos realizar essas tratativas necessárias."
      ]
    },
    {
      "cell_type": "code",
      "metadata": {
        "id": "DBAkLcSpKdsP",
        "outputId": "8ec48cd6-c2b9-4d1b-8f11-508cc2a9d4e4",
        "colab": {
          "base_uri": "https://localhost:8080/",
          "height": 54
        }
      },
      "source": [
        "# gerando uma cópia do dataset\n",
        "df_2 = df.copy()\n",
        "\n",
        "# remover coluna costumerID\n",
        "df_2.drop(\"customerID\", axis=1, inplace=True)\n",
        "\n",
        "# converter TotalCharges em float\n",
        "def converter_str_float(entrada):\n",
        "    try:\n",
        "        return float(entrada)\n",
        "    except ValueError:\n",
        "        return np.nan\n",
        "\n",
        "df_2.TotalCharges = df_2.TotalCharges.apply(converter_str_float)\n",
        "\n",
        "# verificar dados ausentes após converão\n",
        "print(\"Dados ausentes encontrados em 'TotalCharges' :\\t{}\\n\".format(df_2[\"TotalCharges\"].isnull().sum()))\n",
        "\n",
        "# preencher dados ausentes com mediana\n",
        "TCmedian = df_2.TotalCharges.median()\n",
        "df_2.TotalCharges.fillna(TCmedian, inplace=True)"
      ],
      "execution_count": 4,
      "outputs": [
        {
          "output_type": "stream",
          "text": [
            "Dados ausentes encontrados em 'TotalCharges' :\t11\n",
            "\n"
          ],
          "name": "stdout"
        }
      ]
    },
    {
      "cell_type": "markdown",
      "metadata": {
        "id": "VE21O1-rKGl2"
      },
      "source": [
        "Ao tentar a princípio converter a coluna `TotalCharges` em float, foi apresentado um erro o que não permitiu a conversão.\n",
        "\n",
        "O que foi proposto em uma função foi a de converter os possíveis e preencher com `nan` o restante e depois substitui-los pela mediana da coluna.\n",
        "\n",
        "Deixando no final toda a coluna `TotalCharges` com valor numérico."
      ]
    },
    {
      "cell_type": "markdown",
      "metadata": {
        "id": "tryFtF0rLlzT"
      },
      "source": [
        "Mesmo o dataset sendo na maioria de variáveis não numéricas ainda sim podemos ver a descrição do mesmo e iniciar a verificação de `Outliers`."
      ]
    },
    {
      "cell_type": "code",
      "metadata": {
        "id": "7e8SkUonL4fD",
        "outputId": "98bcfc33-dec6-4335-c07f-5e68b866fe0a",
        "colab": {
          "base_uri": "https://localhost:8080/",
          "height": 300
        }
      },
      "source": [
        "df_2.describe()"
      ],
      "execution_count": 5,
      "outputs": [
        {
          "output_type": "execute_result",
          "data": {
            "text/html": [
              "<div>\n",
              "<style scoped>\n",
              "    .dataframe tbody tr th:only-of-type {\n",
              "        vertical-align: middle;\n",
              "    }\n",
              "\n",
              "    .dataframe tbody tr th {\n",
              "        vertical-align: top;\n",
              "    }\n",
              "\n",
              "    .dataframe thead th {\n",
              "        text-align: right;\n",
              "    }\n",
              "</style>\n",
              "<table border=\"1\" class=\"dataframe\">\n",
              "  <thead>\n",
              "    <tr style=\"text-align: right;\">\n",
              "      <th></th>\n",
              "      <th>SeniorCitizen</th>\n",
              "      <th>tenure</th>\n",
              "      <th>MonthlyCharges</th>\n",
              "      <th>TotalCharges</th>\n",
              "    </tr>\n",
              "  </thead>\n",
              "  <tbody>\n",
              "    <tr>\n",
              "      <th>count</th>\n",
              "      <td>7043.000000</td>\n",
              "      <td>7043.000000</td>\n",
              "      <td>7043.000000</td>\n",
              "      <td>7043.000000</td>\n",
              "    </tr>\n",
              "    <tr>\n",
              "      <th>mean</th>\n",
              "      <td>0.162147</td>\n",
              "      <td>32.371149</td>\n",
              "      <td>64.761692</td>\n",
              "      <td>2281.916928</td>\n",
              "    </tr>\n",
              "    <tr>\n",
              "      <th>std</th>\n",
              "      <td>0.368612</td>\n",
              "      <td>24.559481</td>\n",
              "      <td>30.090047</td>\n",
              "      <td>2265.270398</td>\n",
              "    </tr>\n",
              "    <tr>\n",
              "      <th>min</th>\n",
              "      <td>0.000000</td>\n",
              "      <td>0.000000</td>\n",
              "      <td>18.250000</td>\n",
              "      <td>18.800000</td>\n",
              "    </tr>\n",
              "    <tr>\n",
              "      <th>25%</th>\n",
              "      <td>0.000000</td>\n",
              "      <td>9.000000</td>\n",
              "      <td>35.500000</td>\n",
              "      <td>402.225000</td>\n",
              "    </tr>\n",
              "    <tr>\n",
              "      <th>50%</th>\n",
              "      <td>0.000000</td>\n",
              "      <td>29.000000</td>\n",
              "      <td>70.350000</td>\n",
              "      <td>1397.475000</td>\n",
              "    </tr>\n",
              "    <tr>\n",
              "      <th>75%</th>\n",
              "      <td>0.000000</td>\n",
              "      <td>55.000000</td>\n",
              "      <td>89.850000</td>\n",
              "      <td>3786.600000</td>\n",
              "    </tr>\n",
              "    <tr>\n",
              "      <th>max</th>\n",
              "      <td>1.000000</td>\n",
              "      <td>72.000000</td>\n",
              "      <td>118.750000</td>\n",
              "      <td>8684.800000</td>\n",
              "    </tr>\n",
              "  </tbody>\n",
              "</table>\n",
              "</div>"
            ],
            "text/plain": [
              "       SeniorCitizen       tenure  MonthlyCharges  TotalCharges\n",
              "count    7043.000000  7043.000000     7043.000000   7043.000000\n",
              "mean        0.162147    32.371149       64.761692   2281.916928\n",
              "std         0.368612    24.559481       30.090047   2265.270398\n",
              "min         0.000000     0.000000       18.250000     18.800000\n",
              "25%         0.000000     9.000000       35.500000    402.225000\n",
              "50%         0.000000    29.000000       70.350000   1397.475000\n",
              "75%         0.000000    55.000000       89.850000   3786.600000\n",
              "max         1.000000    72.000000      118.750000   8684.800000"
            ]
          },
          "metadata": {
            "tags": []
          },
          "execution_count": 5
        }
      ]
    },
    {
      "cell_type": "markdown",
      "metadata": {
        "id": "LxBbbDZ1XFkP"
      },
      "source": [
        "A seguir será verificado se existem `Outliers` (pontos fora da curva), que podem atrapalhar no desempenho do modelo de machine learning."
      ]
    },
    {
      "cell_type": "code",
      "metadata": {
        "id": "UnKoW22uNn34",
        "outputId": "9d341369-3e32-4055-99bf-94e7b97fa430",
        "colab": {
          "base_uri": "https://localhost:8080/",
          "height": 279
        }
      },
      "source": [
        "# boxplot para verificar outliers\n",
        "fig, ax = plt.subplots(nrows=1, ncols=2, figsize=(14, 4))\n",
        "sns.boxplot(df_2.MonthlyCharges, ax=ax[0])\n",
        "sns.boxplot(df_2.TotalCharges, ax=ax[1])\n",
        "\n",
        "plt.show()"
      ],
      "execution_count": 6,
      "outputs": [
        {
          "output_type": "display_data",
          "data": {
            "image/png": "[encoded data removed]",
            "text/plain": [
              "<Figure size 1008x288 with 2 Axes>"
            ]
          },
          "metadata": {
            "tags": [],
            "needs_background": "light"
          }
        }
      ]
    },
    {
      "cell_type": "markdown",
      "metadata": {
        "id": "oLFNIV_9PVkj"
      },
      "source": [
        "Como é possível ver no boxplot acima, não existem `Outliers` nesse dataset."
      ]
    },
    {
      "cell_type": "markdown",
      "metadata": {
        "id": "ZQ6RGh4qUfGr"
      },
      "source": [
        "Serão verificados os gráficos de algumas variáveis que aparentam ser de importância para tratar a desistência ou não de clientes.\n",
        "\n",
        "Tais variáveis como: `tenure`, `Contract`, `PhoneService`, `StreamingTV`, `StreamingMovies` em relação ao `Churn`."
      ]
    },
    {
      "cell_type": "code",
      "metadata": {
        "id": "CdwVivhsRgYu",
        "outputId": "3ec01d62-397c-4e6c-ae65-fd81b3748db8",
        "colab": {
          "base_uri": "https://localhost:8080/",
          "height": 606
        }
      },
      "source": [
        "fig, ax = plt.subplots(figsize=(20, 10))\n",
        "ax = sns.countplot(x='tenure', hue='Churn', data=df_2)\n",
        "sns.set(style='darkgrid')\n",
        "sns.set_palette('hls', 3)"
      ],
      "execution_count": 7,
      "outputs": [
        {
          "output_type": "display_data",
          "data": {
            "image/png": "[encoded data removed]",
            "text/plain": [
              "<Figure size 1440x720 with 1 Axes>"
            ]
          },
          "metadata": {
            "tags": [],
            "needs_background": "light"
          }
        }
      ]
    },
    {
      "cell_type": "markdown",
      "metadata": {
        "id": "aLJjwfHpY2Nc"
      },
      "source": [
        "No gráfico acima é possível  ver que a desistência vai diminuindo conforme o tempo vai aumentando.\n",
        "\n",
        "O maior número de desistências ocorre no primeiro mês de contrato e vai decaindo."
      ]
    },
    {
      "cell_type": "code",
      "metadata": {
        "id": "l5rvdtAO3S-T",
        "outputId": "94ebcda8-84bf-47d5-8200-5f83173499f4",
        "colab": {
          "base_uri": "https://localhost:8080/",
          "height": 285
        }
      },
      "source": [
        "fig, ax = plt.subplots(figsize=(12, 4))\n",
        "ax = sns.countplot(x='Contract', hue='Churn', data=df_2)\n",
        "sns.set(style='darkgrid')\n",
        "sns.set_palette('hls', 3)"
      ],
      "execution_count": 8,
      "outputs": [
        {
          "output_type": "display_data",
          "data": {
            "image/png": "[encoded data removed]",
            "text/plain": [
              "<Figure size 864x288 with 1 Axes>"
            ]
          },
          "metadata": {
            "tags": []
          }
        }
      ]
    },
    {
      "cell_type": "markdown",
      "metadata": {
        "id": "oqChXLly-qx5"
      },
      "source": [
        "No gráfico acima é possível  ver que a maior desistência está nos contratos mês a mês."
      ]
    },
    {
      "cell_type": "code",
      "metadata": {
        "id": "W3F92CqK3gn6",
        "outputId": "024b96ef-d6b6-41be-997d-03fbdae3c043",
        "colab": {
          "base_uri": "https://localhost:8080/",
          "height": 285
        }
      },
      "source": [
        "fig, ax = plt.subplots(figsize=(12, 4))\n",
        "ax = sns.countplot(x='PhoneService', hue='Churn', data=df_2)\n",
        "sns.set(style='darkgrid')\n",
        "sns.set_palette('hls', 3)"
      ],
      "execution_count": 9,
      "outputs": [
        {
          "output_type": "display_data",
          "data": {
            "image/png": "[encoded data removed]",
            "text/plain": [
              "<Figure size 864x288 with 1 Axes>"
            ]
          },
          "metadata": {
            "tags": []
          }
        }
      ]
    },
    {
      "cell_type": "markdown",
      "metadata": {
        "id": "qMG55Jn9_eyY"
      },
      "source": [
        "Os que possuem serviço de telefonia tem mais tendência a cancelar o contrato."
      ]
    },
    {
      "cell_type": "code",
      "metadata": {
        "id": "YTYVlGM341jK",
        "outputId": "6f753dfd-0b08-49de-9e48-b97bd4adfe5e",
        "colab": {
          "base_uri": "https://localhost:8080/",
          "height": 285
        }
      },
      "source": [
        "fig, ax = plt.subplots(figsize=(12, 4))\n",
        "ax = sns.countplot(x='StreamingTV', hue='Churn', data=df_2)\n",
        "sns.set(style='darkgrid')\n",
        "sns.set_palette('hls', 3)"
      ],
      "execution_count": 10,
      "outputs": [
        {
          "output_type": "display_data",
          "data": {
            "image/png": "[encoded data removed]",
            "text/plain": [
              "<Figure size 864x288 with 1 Axes>"
            ]
          },
          "metadata": {
            "tags": []
          }
        }
      ]
    },
    {
      "cell_type": "markdown",
      "metadata": {
        "id": "zMd8s7s3-5zZ"
      },
      "source": [
        "No comparativo entre Streaming de TV, os usuários que não possuem o serviço e os que possuem tem uma diferença pequena para desistência."
      ]
    },
    {
      "cell_type": "code",
      "metadata": {
        "id": "Ad17V8O0b8uC",
        "outputId": "4af9e509-0722-419c-9d99-d9fe886f366d",
        "colab": {
          "base_uri": "https://localhost:8080/",
          "height": 288
        }
      },
      "source": [
        "fig, ax = plt.subplots(figsize=(12, 4))\n",
        "ax = sns.countplot(x='StreamingMovies', hue='Churn', data=df_2)\n",
        "sns.set(style='darkgrid')\n",
        "sns.set_palette('hls', 3)"
      ],
      "execution_count": 11,
      "outputs": [
        {
          "output_type": "display_data",
          "data": {
            "image/png": "[encoded data removed]",
            "text/plain": [
              "<Figure size 864x288 with 1 Axes>"
            ]
          },
          "metadata": {
            "tags": []
          }
        }
      ]
    },
    {
      "cell_type": "markdown",
      "metadata": {
        "id": "JdooaIsa_NRn"
      },
      "source": [
        "Assim como no Streaming de TV, o Streaming de Filmes, a diferença também é pequena para os que possuem e os que não possuem."
      ]
    },
    {
      "cell_type": "code",
      "metadata": {
        "id": "ajpRM-jNaumI",
        "outputId": "8827eb35-bdbf-4a7b-a000-198be428e984",
        "colab": {
          "base_uri": "https://localhost:8080/",
          "height": 72
        }
      },
      "source": [
        "# ver total de entradas da variável alvo\n",
        "print(df.Churn.value_counts())"
      ],
      "execution_count": 12,
      "outputs": [
        {
          "output_type": "stream",
          "text": [
            "No     5174\n",
            "Yes    1869\n",
            "Name: Churn, dtype: int64\n"
          ],
          "name": "stdout"
        }
      ]
    },
    {
      "cell_type": "markdown",
      "metadata": {
        "id": "_lr8V5Q9a2B_"
      },
      "source": [
        "Como é possível ver acima, existe um desbalanceamento muito grande na variável alvo e o mesmo deverá ser tratado."
      ]
    },
    {
      "cell_type": "markdown",
      "metadata": {
        "id": "4coGSI84AB5u"
      },
      "source": [
        "**Preparação dos Dados**\n",
        "\n",
        "Neste ponto será separada as variáveis binárias, numéricas e categóricas e converte-las para numéricas, usando o método LabelEncoder.\n",
        "\n",
        "É necessário fazer essa conversão pois alguns modelos de machine learning não trabalham muito bem com dados de texto."
      ]
    },
    {
      "cell_type": "code",
      "metadata": {
        "id": "5R8-ZgVI1yGf",
        "outputId": "af6bce19-14d8-4ed3-e05c-865541f2cee9",
        "colab": {
          "base_uri": "https://localhost:8080/",
          "height": 261
        }
      },
      "source": [
        "# pré-processando variáveis\n",
        "bin_var = df_2.nunique()[df_2.nunique() == 2].keys().tolist()\n",
        "num_var = [col for col in df_2.select_dtypes(['int', 'float']).columns.tolist() if col not in bin_var]\n",
        "cat_var = [col for col in df_2.columns.tolist() if col not in bin_var + num_var]\n",
        "\n",
        "# copiar dataframe\n",
        "df_copy = df_2.copy()\n",
        "\n",
        "# converter binários em númericas\n",
        "le = LabelEncoder()\n",
        "for i in bin_var:\n",
        "    df_copy[i] = le.fit_transform(df_copy[i])\n",
        "\n",
        "# converter categoricas em númericas\n",
        "df_copy = pd.get_dummies(df_copy, columns=cat_var)\n",
        "\n",
        "df_copy.head()"
      ],
      "execution_count": 13,
      "outputs": [
        {
          "output_type": "execute_result",
          "data": {
            "text/html": [
              "<div>\n",
              "<style scoped>\n",
              "    .dataframe tbody tr th:only-of-type {\n",
              "        vertical-align: middle;\n",
              "    }\n",
              "\n",
              "    .dataframe tbody tr th {\n",
              "        vertical-align: top;\n",
              "    }\n",
              "\n",
              "    .dataframe thead th {\n",
              "        text-align: right;\n",
              "    }\n",
              "</style>\n",
              "<table border=\"1\" class=\"dataframe\">\n",
              "  <thead>\n",
              "    <tr style=\"text-align: right;\">\n",
              "      <th></th>\n",
              "      <th>gender</th>\n",
              "      <th>SeniorCitizen</th>\n",
              "      <th>Partner</th>\n",
              "      <th>Dependents</th>\n",
              "      <th>tenure</th>\n",
              "      <th>PhoneService</th>\n",
              "      <th>PaperlessBilling</th>\n",
              "      <th>MonthlyCharges</th>\n",
              "      <th>TotalCharges</th>\n",
              "      <th>Churn</th>\n",
              "      <th>MultipleLines_No</th>\n",
              "      <th>MultipleLines_No phone service</th>\n",
              "      <th>MultipleLines_Yes</th>\n",
              "      <th>InternetService_DSL</th>\n",
              "      <th>InternetService_Fiber optic</th>\n",
              "      <th>InternetService_No</th>\n",
              "      <th>OnlineSecurity_No</th>\n",
              "      <th>OnlineSecurity_No internet service</th>\n",
              "      <th>OnlineSecurity_Yes</th>\n",
              "      <th>OnlineBackup_No</th>\n",
              "      <th>OnlineBackup_No internet service</th>\n",
              "      <th>OnlineBackup_Yes</th>\n",
              "      <th>DeviceProtection_No</th>\n",
              "      <th>DeviceProtection_No internet service</th>\n",
              "      <th>DeviceProtection_Yes</th>\n",
              "      <th>TechSupport_No</th>\n",
              "      <th>TechSupport_No internet service</th>\n",
              "      <th>TechSupport_Yes</th>\n",
              "      <th>StreamingTV_No</th>\n",
              "      <th>StreamingTV_No internet service</th>\n",
              "      <th>StreamingTV_Yes</th>\n",
              "      <th>StreamingMovies_No</th>\n",
              "      <th>StreamingMovies_No internet service</th>\n",
              "      <th>StreamingMovies_Yes</th>\n",
              "      <th>Contract_Month-to-month</th>\n",
              "      <th>Contract_One year</th>\n",
              "      <th>Contract_Two year</th>\n",
              "      <th>PaymentMethod_Bank transfer (automatic)</th>\n",
              "      <th>PaymentMethod_Credit card (automatic)</th>\n",
              "      <th>PaymentMethod_Electronic check</th>\n",
              "      <th>PaymentMethod_Mailed check</th>\n",
              "    </tr>\n",
              "  </thead>\n",
              "  <tbody>\n",
              "    <tr>\n",
              "      <th>0</th>\n",
              "      <td>0</td>\n",
              "      <td>0</td>\n",
              "      <td>1</td>\n",
              "      <td>0</td>\n",
              "      <td>1</td>\n",
              "      <td>0</td>\n",
              "      <td>1</td>\n",
              "      <td>29.85</td>\n",
              "      <td>29.85</td>\n",
              "      <td>0</td>\n",
              "      <td>0</td>\n",
              "      <td>1</td>\n",
              "      <td>0</td>\n",
              "      <td>1</td>\n",
              "      <td>0</td>\n",
              "      <td>0</td>\n",
              "      <td>1</td>\n",
              "      <td>0</td>\n",
              "      <td>0</td>\n",
              "      <td>0</td>\n",
              "      <td>0</td>\n",
              "      <td>1</td>\n",
              "      <td>1</td>\n",
              "      <td>0</td>\n",
              "      <td>0</td>\n",
              "      <td>1</td>\n",
              "      <td>0</td>\n",
              "      <td>0</td>\n",
              "      <td>1</td>\n",
              "      <td>0</td>\n",
              "      <td>0</td>\n",
              "      <td>1</td>\n",
              "      <td>0</td>\n",
              "      <td>0</td>\n",
              "      <td>1</td>\n",
              "      <td>0</td>\n",
              "      <td>0</td>\n",
              "      <td>0</td>\n",
              "      <td>0</td>\n",
              "      <td>1</td>\n",
              "      <td>0</td>\n",
              "    </tr>\n",
              "    <tr>\n",
              "      <th>1</th>\n",
              "      <td>1</td>\n",
              "      <td>0</td>\n",
              "      <td>0</td>\n",
              "      <td>0</td>\n",
              "      <td>34</td>\n",
              "      <td>1</td>\n",
              "      <td>0</td>\n",
              "      <td>56.95</td>\n",
              "      <td>1889.50</td>\n",
              "      <td>0</td>\n",
              "      <td>1</td>\n",
              "      <td>0</td>\n",
              "      <td>0</td>\n",
              "      <td>1</td>\n",
              "      <td>0</td>\n",
              "      <td>0</td>\n",
              "      <td>0</td>\n",
              "      <td>0</td>\n",
              "      <td>1</td>\n",
              "      <td>1</td>\n",
              "      <td>0</td>\n",
              "      <td>0</td>\n",
              "      <td>0</td>\n",
              "      <td>0</td>\n",
              "      <td>1</td>\n",
              "      <td>1</td>\n",
              "      <td>0</td>\n",
              "      <td>0</td>\n",
              "      <td>1</td>\n",
              "      <td>0</td>\n",
              "      <td>0</td>\n",
              "      <td>1</td>\n",
              "      <td>0</td>\n",
              "      <td>0</td>\n",
              "      <td>0</td>\n",
              "      <td>1</td>\n",
              "      <td>0</td>\n",
              "      <td>0</td>\n",
              "      <td>0</td>\n",
              "      <td>0</td>\n",
              "      <td>1</td>\n",
              "    </tr>\n",
              "    <tr>\n",
              "      <th>2</th>\n",
              "      <td>1</td>\n",
              "      <td>0</td>\n",
              "      <td>0</td>\n",
              "      <td>0</td>\n",
              "      <td>2</td>\n",
              "      <td>1</td>\n",
              "      <td>1</td>\n",
              "      <td>53.85</td>\n",
              "      <td>108.15</td>\n",
              "      <td>1</td>\n",
              "      <td>1</td>\n",
              "      <td>0</td>\n",
              "      <td>0</td>\n",
              "      <td>1</td>\n",
              "      <td>0</td>\n",
              "      <td>0</td>\n",
              "      <td>0</td>\n",
              "      <td>0</td>\n",
              "      <td>1</td>\n",
              "      <td>0</td>\n",
              "      <td>0</td>\n",
              "      <td>1</td>\n",
              "      <td>1</td>\n",
              "      <td>0</td>\n",
              "      <td>0</td>\n",
              "      <td>1</td>\n",
              "      <td>0</td>\n",
              "      <td>0</td>\n",
              "      <td>1</td>\n",
              "      <td>0</td>\n",
              "      <td>0</td>\n",
              "      <td>1</td>\n",
              "      <td>0</td>\n",
              "      <td>0</td>\n",
              "      <td>1</td>\n",
              "      <td>0</td>\n",
              "      <td>0</td>\n",
              "      <td>0</td>\n",
              "      <td>0</td>\n",
              "      <td>0</td>\n",
              "      <td>1</td>\n",
              "    </tr>\n",
              "    <tr>\n",
              "      <th>3</th>\n",
              "      <td>1</td>\n",
              "      <td>0</td>\n",
              "      <td>0</td>\n",
              "      <td>0</td>\n",
              "      <td>45</td>\n",
              "      <td>0</td>\n",
              "      <td>0</td>\n",
              "      <td>42.30</td>\n",
              "      <td>1840.75</td>\n",
              "      <td>0</td>\n",
              "      <td>0</td>\n",
              "      <td>1</td>\n",
              "      <td>0</td>\n",
              "      <td>1</td>\n",
              "      <td>0</td>\n",
              "      <td>0</td>\n",
              "      <td>0</td>\n",
              "      <td>0</td>\n",
              "      <td>1</td>\n",
              "      <td>1</td>\n",
              "      <td>0</td>\n",
              "      <td>0</td>\n",
              "      <td>0</td>\n",
              "      <td>0</td>\n",
              "      <td>1</td>\n",
              "      <td>0</td>\n",
              "      <td>0</td>\n",
              "      <td>1</td>\n",
              "      <td>1</td>\n",
              "      <td>0</td>\n",
              "      <td>0</td>\n",
              "      <td>1</td>\n",
              "      <td>0</td>\n",
              "      <td>0</td>\n",
              "      <td>0</td>\n",
              "      <td>1</td>\n",
              "      <td>0</td>\n",
              "      <td>1</td>\n",
              "      <td>0</td>\n",
              "      <td>0</td>\n",
              "      <td>0</td>\n",
              "    </tr>\n",
              "    <tr>\n",
              "      <th>4</th>\n",
              "      <td>0</td>\n",
              "      <td>0</td>\n",
              "      <td>0</td>\n",
              "      <td>0</td>\n",
              "      <td>2</td>\n",
              "      <td>1</td>\n",
              "      <td>1</td>\n",
              "      <td>70.70</td>\n",
              "      <td>151.65</td>\n",
              "      <td>1</td>\n",
              "      <td>1</td>\n",
              "      <td>0</td>\n",
              "      <td>0</td>\n",
              "      <td>0</td>\n",
              "      <td>1</td>\n",
              "      <td>0</td>\n",
              "      <td>1</td>\n",
              "      <td>0</td>\n",
              "      <td>0</td>\n",
              "      <td>1</td>\n",
              "      <td>0</td>\n",
              "      <td>0</td>\n",
              "      <td>1</td>\n",
              "      <td>0</td>\n",
              "      <td>0</td>\n",
              "      <td>1</td>\n",
              "      <td>0</td>\n",
              "      <td>0</td>\n",
              "      <td>1</td>\n",
              "      <td>0</td>\n",
              "      <td>0</td>\n",
              "      <td>1</td>\n",
              "      <td>0</td>\n",
              "      <td>0</td>\n",
              "      <td>1</td>\n",
              "      <td>0</td>\n",
              "      <td>0</td>\n",
              "      <td>0</td>\n",
              "      <td>0</td>\n",
              "      <td>1</td>\n",
              "      <td>0</td>\n",
              "    </tr>\n",
              "  </tbody>\n",
              "</table>\n",
              "</div>"
            ],
            "text/plain": [
              "   gender  ...  PaymentMethod_Mailed check\n",
              "0       0  ...                           0\n",
              "1       1  ...                           1\n",
              "2       1  ...                           1\n",
              "3       1  ...                           0\n",
              "4       0  ...                           0\n",
              "\n",
              "[5 rows x 41 columns]"
            ]
          },
          "metadata": {
            "tags": []
          },
          "execution_count": 13
        }
      ]
    },
    {
      "cell_type": "markdown",
      "metadata": {
        "id": "AxigcZmnEEMR"
      },
      "source": [
        "O resultado após a conversão é uma tabela com diversos 0 e 1.\n",
        "Com exceção das colunas que já continham números.\n",
        "\n",
        "Também foi criada uma nova cópia para podermos trabalhar sem mexer na original."
      ]
    },
    {
      "cell_type": "markdown",
      "metadata": {
        "id": "pu0b1QIsYC8T"
      },
      "source": [
        "**Separando os dados**\n",
        "\n",
        "Iremos dividir os dados entre treino e teste para poder treinar o modelo."
      ]
    },
    {
      "cell_type": "code",
      "metadata": {
        "id": "_SNXI0TzYTsu"
      },
      "source": [
        "# dividindo os dados\n",
        "X = df_copy.drop('Churn', axis=1)\n",
        "y = df_copy.Churn\n",
        "\n",
        "# dividir os dados entre treino e teste\n",
        "X_train, X_test, y_train, y_test = train_test_split(X, y)\n",
        "\n",
        "# padronizando os dados\n",
        "scaler = StandardScaler()\n",
        "X_train = scaler.fit_transform(X_train)"
      ],
      "execution_count": 14,
      "outputs": []
    },
    {
      "cell_type": "markdown",
      "metadata": {
        "id": "CwK9xWvScsD0"
      },
      "source": [
        "**Padronizando os Dados**\n",
        "\n"
      ]
    },
    {
      "cell_type": "markdown",
      "metadata": {
        "id": "_HFaoaUIbBNY"
      },
      "source": [
        "Como já foi verificado acima, existe um desbalanceamento dos dados e usaremos o SMOTE para tratá-los.\n",
        "\n",
        "SMOTE é uma técnica que trabalha selecionando exemplos próximos das features e criando novas para balancear os dados.\n",
        "\n",
        "Foi usado e SMOTE que aumenta a classe menor e RandonUnderSample que diminui a classe maior, para que elas tenham um balanceamento próximo.\n",
        "\n",
        "Será feito o balanceamento nos dados de treino."
      ]
    },
    {
      "cell_type": "code",
      "metadata": {
        "id": "NxYj165OZJOT",
        "outputId": "33d8b23c-abbd-4ca0-dc3a-8c897ef75179",
        "colab": {
          "base_uri": "https://localhost:8080/",
          "height": 269
        }
      },
      "source": [
        "# define pipeline\n",
        "over = SMOTE()\n",
        "under = RandomUnderSampler()\n",
        "steps = [('o', over), ('u', under)]\n",
        "pipeline = Pipeline(steps=steps)\n",
        "\n",
        "# transformndo o dataset\n",
        "X_train, y_train = pipeline.fit_resample(X_train, y_train)\n",
        "\n",
        "ax = sns.countplot(x=y_train)"
      ],
      "execution_count": 15,
      "outputs": [
        {
          "output_type": "display_data",
          "data": {
            "image/png": "[encoded data removed]",
            "text/plain": [
              "<Figure size 432x288 with 1 Axes>"
            ]
          },
          "metadata": {
            "tags": []
          }
        }
      ]
    },
    {
      "cell_type": "markdown",
      "metadata": {
        "id": "cw4kK2Fp6rAl"
      },
      "source": [
        "Como é possível ver no gráfico acima, os dados após tratados por SMOTE e RandomUnderSampler ficaram balanceados."
      ]
    },
    {
      "cell_type": "markdown",
      "metadata": {
        "id": "gt0GOHUz65vP"
      },
      "source": [
        "**Modelo de Machine Learninbg**\n",
        "\n",
        "Para tratar do problema de Churn, será utilizar o modelo de Regressão Logistíca, que é um modelo supervisionado usado para predizer a probabilidade de uma variável alvo. Neste caso a variável Churn."
      ]
    },
    {
      "cell_type": "markdown",
      "metadata": {
        "id": "IBiGaAIo98iR"
      },
      "source": [
        "Criando o modelo de Regressão Logística."
      ]
    },
    {
      "cell_type": "code",
      "metadata": {
        "id": "vfbeQLBbGFNS"
      },
      "source": [
        "# instanciando e treinando o modelo\n",
        "model = LogisticRegression().fit(X_train, y_train)"
      ],
      "execution_count": 16,
      "outputs": []
    },
    {
      "cell_type": "markdown",
      "metadata": {
        "id": "qxG5Gg-j-KNw"
      },
      "source": [
        "Abaixo será avaliada a acurácia do modelo com os dados de treino."
      ]
    },
    {
      "cell_type": "code",
      "metadata": {
        "id": "bljo-hanpX34",
        "outputId": "9589d4a8-e833-4aa6-cfd2-28763ba332b5",
        "colab": {
          "base_uri": "https://localhost:8080/",
          "height": 54
        }
      },
      "source": [
        "# avaliando acuracia dos dados de treino\n",
        "results = cross_val_score(model, X_train, y_train, cv = 5, scoring = 'accuracy')\n",
        "\n",
        "def intervalo(results):\n",
        "    mean = results.mean()\n",
        "    dv = results.std()\n",
        "    print(f'Acurácia média: {mean * 100:.2f}%')\n",
        "    print(f'Intervalo de acurácia: {(mean - 2 * dv) * 100:.2f}% ~ {(mean + 2 * dv) * 100:.2f}%')\n",
        "\n",
        "intervalo(results)"
      ],
      "execution_count": 17,
      "outputs": [
        {
          "output_type": "stream",
          "text": [
            "Acurácia média: 78.32%\n",
            "Intervalo de acurácia: 75.39% ~ 81.26%\n"
          ],
          "name": "stdout"
        }
      ]
    },
    {
      "cell_type": "markdown",
      "metadata": {
        "id": "E-VHgkb3-Q-A"
      },
      "source": [
        "Como resultado na acurácia, é possível verificar que está na casa dos 78%."
      ]
    },
    {
      "cell_type": "markdown",
      "metadata": {
        "id": "S6Kzepl4-bpn"
      },
      "source": [
        "A seguir será usado o GridSearchCV, que ajuda a achar o melhores hiperparâmetros para modelos de machine learning.\n",
        "\n",
        "Esse hiperparâmetros serão usados para melhorar o modelo, obtendo assim melhores resultados de predição, no caso do modelo atual."
      ]
    },
    {
      "cell_type": "code",
      "metadata": {
        "id": "d7WPuUSb8d7A",
        "outputId": "823bedcd-5e78-40b7-ff14-4e1d87d90421",
        "colab": {
          "base_uri": "https://localhost:8080/",
          "height": 182
        }
      },
      "source": [
        "# usando gridsearchCV para encontrar os melhores parametros para logistic regression\n",
        "penalty = ['l1', 'l2']\n",
        "C = [0.0001, 0.001, 0.01, 0.1, 1, 10, 100, 1000]\n",
        "class_weight = [{1:0.5, 0:0.5}, {1:0.4, 0:0.6}, {1:0.6, 0:0.4}, {1:0.7, 0:0.3}]\n",
        "solver = ['liblinear', 'saga']\n",
        "\n",
        "param_grid = dict(penalty=penalty,\n",
        "                  C=C,\n",
        "                  class_weight=class_weight,\n",
        "                  solver=solver)\n",
        "\n",
        "grid = GridSearchCV(estimator=model,\n",
        "                    param_grid=param_grid,\n",
        "                    scoring='roc_auc',\n",
        "                    verbose=1,\n",
        "                    n_jobs=-1)\n",
        "grid_result = grid.fit(X_train, y_train)\n",
        "\n",
        "print('Best Score: ', grid_result.best_score_)\n",
        "print('Best Params: ', grid_result.best_params_)"
      ],
      "execution_count": 18,
      "outputs": [
        {
          "output_type": "stream",
          "text": [
            "Fitting 5 folds for each of 128 candidates, totalling 640 fits\n"
          ],
          "name": "stdout"
        },
        {
          "output_type": "stream",
          "text": [
            "[Parallel(n_jobs=-1)]: Using backend LokyBackend with 2 concurrent workers.\n",
            "[Parallel(n_jobs=-1)]: Done 120 tasks      | elapsed:    3.6s\n",
            "[Parallel(n_jobs=-1)]: Done 450 tasks      | elapsed:   48.7s\n",
            "[Parallel(n_jobs=-1)]: Done 640 out of 640 | elapsed:  1.9min finished\n"
          ],
          "name": "stderr"
        },
        {
          "output_type": "stream",
          "text": [
            "Best Score:  0.8655436458533632\n",
            "Best Params:  {'C': 100, 'class_weight': {1: 0.4, 0: 0.6}, 'penalty': 'l1', 'solver': 'saga'}\n"
          ],
          "name": "stdout"
        },
        {
          "output_type": "stream",
          "text": [
            "/usr/local/lib/python3.6/dist-packages/sklearn/linear_model/_sag.py:330: ConvergenceWarning: The max_iter was reached which means the coef_ did not converge\n",
            "  \"the coef_ did not converge\", ConvergenceWarning)\n"
          ],
          "name": "stderr"
        }
      ]
    },
    {
      "cell_type": "markdown",
      "metadata": {
        "id": "texf7FrkAHRd"
      },
      "source": [
        "Após o GridSearchCV fazer uma busca ele retorna os resultados a serem adicionados ao modelo.\n",
        "\n",
        "No caso, foi indicado que os melhores parâmetros foram: {'C': 100, 'class_weight': {1: 0.4, 0: 0.6}, 'penalty': 'l1', 'solver': 'saga'}.\n",
        "\n",
        "Esses parâmetros serão incluídos no modelo a seguir.\n",
        "\n",
        "O modelo será treinado usando dados de treino, e depois será testado nos dados de testes. Em seguida será feita a predição e avaliação para obter os resultados do modelo."
      ]
    },
    {
      "cell_type": "code",
      "metadata": {
        "id": "GELN_T8gI29k"
      },
      "source": [
        "# instanciando modelo com melhores parâmetros \n",
        "model = LogisticRegression(C=100, class_weight={1:0.4, 0:0.6}, penalty='l1', solver='saga').fit(X_train, y_train)\n",
        "X_test = scaler.fit_transform(X_test)\n",
        "y_pred = model.predict(X_test)"
      ],
      "execution_count": null,
      "outputs": []
    },
    {
      "cell_type": "markdown",
      "metadata": {
        "id": "A1C4rkktG3od"
      },
      "source": [
        "Após a predição do modelo, foram tiradas algumas métricas para avaliação.\n",
        "\n",
        "E também gerada uma matriz de confusão, que é uma maneira de medir o desempenho para um problema de classificação, que neste caso é o se o cliente vai encerrar o contrato ou não."
      ]
    },
    {
      "cell_type": "code",
      "metadata": {
        "id": "KPVh_DwQ3wm9",
        "outputId": "13c4337a-9e31-4120-ef80-fae487fb9d0e",
        "colab": {
          "base_uri": "https://localhost:8080/",
          "height": 470
        }
      },
      "source": [
        "print(classification_report(y_test, y_pred))\n",
        "\n",
        "# plotar matriz de confusão\n",
        "plot_confusion_matrix(y_test, y_pred, normalize=True)\n",
        "plt.show()"
      ],
      "execution_count": 20,
      "outputs": [
        {
          "output_type": "stream",
          "text": [
            "              precision    recall  f1-score   support\n",
            "\n",
            "           0       0.88      0.80      0.84      1322\n",
            "           1       0.53      0.67      0.59       439\n",
            "\n",
            "    accuracy                           0.77      1761\n",
            "   macro avg       0.71      0.74      0.72      1761\n",
            "weighted avg       0.79      0.77      0.78      1761\n",
            "\n"
          ],
          "name": "stdout"
        },
        {
          "output_type": "display_data",
          "data": {
            "image/png": "[encoded data removed]",
            "text/plain": [
              "<Figure size 432x288 with 2 Axes>"
            ]
          },
          "metadata": {
            "tags": []
          }
        }
      ]
    },
    {
      "cell_type": "markdown",
      "metadata": {
        "id": "RsUWExPgQ9TR"
      },
      "source": [
        "Na tabela de classificação pode-se ver que o acurácia foi de 78% nos dados de teste, que significa que ele acertou 78% dos dados que recebeu para avaliar.\n",
        "\n",
        "A matriz de confusão indica os acertos e erros do modelo.\n",
        "\n",
        "Lado direito inferior previu corretamente quem iam cancelar, 67%.\n",
        "\n",
        "Lado esquerdo inferior previu errado quem iam cancelar, 33%.\n",
        "\n",
        "Lado direito superior previu errado quem não iam cancela, 20%.\n",
        "\n",
        "Lado esquerdo  superior previu corretamente quem não iam cancelar, 80%.\n"
      ]
    },
    {
      "cell_type": "code",
      "metadata": {
        "id": "k9uZZmhIKvES",
        "outputId": "5d4bb52b-31a3-4de6-d9b9-18b1ad41e85d",
        "colab": {
          "base_uri": "https://localhost:8080/",
          "height": 732
        }
      },
      "source": [
        "# negativas tendem a 0 (não cancelou) e positivas tendem a 1(cancelou)\n",
        "\n",
        "logweights = pd.Series(model.coef_[0], index=X.columns.values)\n",
        "weight_logreg = logweights.sort_values(ascending = False)[::].plot(kind='bar', color='green', figsize=(12, 8))\n",
        "print (weight_logreg)"
      ],
      "execution_count": 21,
      "outputs": [
        {
          "output_type": "stream",
          "text": [
            "AxesSubplot(0.125,0.125;0.775x0.755)\n"
          ],
          "name": "stdout"
        },
        {
          "output_type": "display_data",
          "data": {
            "image/png": "[encoded data removed]",
            "text/plain": [
              "<Figure size 864x576 with 1 Axes>"
            ]
          },
          "metadata": {
            "tags": []
          }
        }
      ]
    },
    {
      "cell_type": "markdown",
      "metadata": {
        "id": "XH72IKU1g2z_"
      },
      "source": [
        "O gráfico acima mostra as variáveis com maior tendência para o cliente cancelar ou não o contrato.\n",
        "\n",
        "Do lado direito estão as que são mais fortes a manterem o cliente na assinatura do serviço adquirido. Por exemplo: a primeira da direita a `tenure`, quanto maior o tempo de permanência , menor o índice de cancelamento.\n",
        "\n",
        "Em contrapartida  do lado esquerdo a variável `TotalCharges`, que é o valor total do cliente deve pagar é um grande indicio que ele cancelará o contrato com mais antecedência.\n"
      ]
    },
    {
      "cell_type": "markdown",
      "metadata": {
        "id": "6IFSn_KGMKF_"
      },
      "source": [
        "**Conclusão**\n",
        "\n",
        "Após a análise, tratativa e criação do modelo de machine learning, em cima dos dados obtidos, foi gerado um sistema para predizer e  verificar futuros clientes que podem cancelar seu contrato, avaliando as variáveis mais propensas para que isso aconteça.\n",
        "\n",
        "Medidas podem ser tomadas para mitigar essa desistência e manter os clientes por mais tempo, analisando o que faz com que um cliente encerre mais cedo seu contrato.\n"
      ]
    }
  ]
}