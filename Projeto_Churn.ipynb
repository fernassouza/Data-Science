{
  "nbformat": 4,
  "nbformat_minor": 0,
  "metadata": {
    "colab": {
      "name": "Projeto Churn.ipynb",
      "provenance": [],
      "collapsed_sections": [],
      "authorship_tag": "ABX9TyOFVEak6Y5TFqkaC2tMhzWN",
      "include_colab_link": true
    },
    "kernelspec": {
      "name": "python3",
      "display_name": "Python 3"
    }
  },
  "cells": [
    {
      "cell_type": "markdown",
      "metadata": {
        "id": "view-in-github",
        "colab_type": "text"
      },
      "source": [
        "<a href=\"https://colab.research.google.com/github/fernassouza/Data-Science/blob/master/Projeto_Churn.ipynb\" target=\"_parent\"><img src=\"https://colab.research.google.com/assets/colab-badge.svg\" alt=\"Open In Colab\"/></a>"
      ]
    },
    {
      "cell_type": "markdown",
      "metadata": {
        "id": "w3mDLg_7xN-A"
      },
      "source": [
        "#### **Data Science**\n",
        "***by Fernando Souza***\n",
        "\n",
        "**CHURN PREDICITON**\n",
        "\n",
        "Churn é uma métrica usada para indicar o quanto sua empresa perdeu de receita ou clientes.\n",
        "\n",
        "É de extrema importância entender o motivo de abandono dos clientes para conquistar um crescimento saudável. Com o crescimento do modelo de negócios por assinatura, o Churn se tornou mais conhecido.\n",
        "\n",
        "<center><img alt=\"Churn\" width=\"50%\" src=\"https://raw.githubusercontent.com/fernassouza/Data-Science/master/img/Churn_logo.png\"></center>\n",
        "\n",
        "<p align=center> <img src="https://raw.githubusercontent.com/fernassouza/Data-Science/master/img/Churn_logo.png" width="60%"></p>",
        "Essa métrica está dentro de um conjunto de serviços conhecidos como Saas(software as a service). Trata-se de um modelo de licenciamento e entrega de software, onde a empresa fornecedora é responsável pela infraestrutura necessária (servidores, conectividade, segurança, atualizações, etc.).\n"
      ]
    },
    {
      "cell_type": "markdown",
      "metadata": {
        "id": "HV2q1cbVIWuU"
      },
      "source": [
        "**Aquisição dos Dados**\n",
        "\n",
        "Os dados utilizados neste projeto foram originalmente disponibilizados na [plataforma de ensino da IBM Developer](https://developer.ibm.com/technologies/data-science/patterns/predict-customer-churn-using-watson-studio-and-jupyter-notebooks/#), e tratam de um problema típico de uma companhia de telecomunicações. O *dataset* completo pode ser encontrado [neste link](https://raw.githubusercontent.com/carlosfab/dsnp2/master/datasets/WA_Fn-UseC_-Telco-Customer-Churn.csv).\n",
        "\n",
        "Apesar de não haver informações explícitas disponíveis, os nomes das colunas permitem um entendimento a respeito do problema."
      ]
    },
    {
      "cell_type": "code",
      "metadata": {
        "id": "o8Ab2oyt1CST",
        "outputId": "361587a6-1770-4cf9-f2e1-2087a537fc9b",
        "colab": {
          "base_uri": "https://localhost:8080/",
          "height": 313
        }
      },
      "source": [
        "# importando as bibliotecas\n",
        "!pip install scikit-plot -q\n",
        "\n",
        "from warnings import simplefilter\n",
        "simplefilter(action='ignore', category=FutureWarning)\n",
        "\n",
        "import pandas as pd\n",
        "import numpy as np\n",
        "import matplotlib.pyplot as plt\n",
        "import seaborn as sns\n",
        "from sklearn.preprocessing import LabelEncoder, StandardScaler\n",
        "from sklearn.model_selection import train_test_split, cross_val_score, GridSearchCV\n",
        "from imblearn.under_sampling import RandomUnderSampler\n",
        "from imblearn.over_sampling import SMOTE\n",
        "from imblearn.pipeline import Pipeline\n",
        "from sklearn.linear_model import LogisticRegression\n",
        "from sklearn.metrics import accuracy_score, recall_score, precision_score, f1_score,classification_report\n",
        "from scikitplot.metrics import plot_confusion_matrix\n",
        "from statistics import mean\n",
        "\n",
        "# importando o dataset\n",
        "df = pd.read_csv('https://raw.githubusercontent.com/carlosfab/dsnp2/master/datasets/WA_Fn-UseC_-Telco-Customer-Churn.csv')\n",
        "df.head()"
      ],
      "execution_count": 2,
      "outputs": [
        {
          "output_type": "execute_result",
          "data": {
            "text/html": [
              "<div>\n",
              "<style scoped>\n",
              "    .dataframe tbody tr th:only-of-type {\n",
              "        vertical-align: middle;\n",
              "    }\n",
              "\n",
              "    .dataframe tbody tr th {\n",
              "        vertical-align: top;\n",
              "    }\n",
              "\n",
              "    .dataframe thead th {\n",
              "        text-align: right;\n",
              "    }\n",
              "</style>\n",
              "<table border=\"1\" class=\"dataframe\">\n",
              "  <thead>\n",
              "    <tr style=\"text-align: right;\">\n",
              "      <th></th>\n",
              "      <th>customerID</th>\n",
              "      <th>gender</th>\n",
              "      <th>SeniorCitizen</th>\n",
              "      <th>Partner</th>\n",
              "      <th>Dependents</th>\n",
              "      <th>tenure</th>\n",
              "      <th>PhoneService</th>\n",
              "      <th>MultipleLines</th>\n",
              "      <th>InternetService</th>\n",
              "      <th>OnlineSecurity</th>\n",
              "      <th>OnlineBackup</th>\n",
              "      <th>DeviceProtection</th>\n",
              "      <th>TechSupport</th>\n",
              "      <th>StreamingTV</th>\n",
              "      <th>StreamingMovies</th>\n",
              "      <th>Contract</th>\n",
              "      <th>PaperlessBilling</th>\n",
              "      <th>PaymentMethod</th>\n",
              "      <th>MonthlyCharges</th>\n",
              "      <th>TotalCharges</th>\n",
              "      <th>Churn</th>\n",
              "    </tr>\n",
              "  </thead>\n",
              "  <tbody>\n",
              "    <tr>\n",
              "      <th>0</th>\n",
              "      <td>7590-VHVEG</td>\n",
              "      <td>Female</td>\n",
              "      <td>0</td>\n",
              "      <td>Yes</td>\n",
              "      <td>No</td>\n",
              "      <td>1</td>\n",
              "      <td>No</td>\n",
              "      <td>No phone service</td>\n",
              "      <td>DSL</td>\n",
              "      <td>No</td>\n",
              "      <td>Yes</td>\n",
              "      <td>No</td>\n",
              "      <td>No</td>\n",
              "      <td>No</td>\n",
              "      <td>No</td>\n",
              "      <td>Month-to-month</td>\n",
              "      <td>Yes</td>\n",
              "      <td>Electronic check</td>\n",
              "      <td>29.85</td>\n",
              "      <td>29.85</td>\n",
              "      <td>No</td>\n",
              "    </tr>\n",
              "    <tr>\n",
              "      <th>1</th>\n",
              "      <td>5575-GNVDE</td>\n",
              "      <td>Male</td>\n",
              "      <td>0</td>\n",
              "      <td>No</td>\n",
              "      <td>No</td>\n",
              "      <td>34</td>\n",
              "      <td>Yes</td>\n",
              "      <td>No</td>\n",
              "      <td>DSL</td>\n",
              "      <td>Yes</td>\n",
              "      <td>No</td>\n",
              "      <td>Yes</td>\n",
              "      <td>No</td>\n",
              "      <td>No</td>\n",
              "      <td>No</td>\n",
              "      <td>One year</td>\n",
              "      <td>No</td>\n",
              "      <td>Mailed check</td>\n",
              "      <td>56.95</td>\n",
              "      <td>1889.5</td>\n",
              "      <td>No</td>\n",
              "    </tr>\n",
              "    <tr>\n",
              "      <th>2</th>\n",
              "      <td>3668-QPYBK</td>\n",
              "      <td>Male</td>\n",
              "      <td>0</td>\n",
              "      <td>No</td>\n",
              "      <td>No</td>\n",
              "      <td>2</td>\n",
              "      <td>Yes</td>\n",
              "      <td>No</td>\n",
              "      <td>DSL</td>\n",
              "      <td>Yes</td>\n",
              "      <td>Yes</td>\n",
              "      <td>No</td>\n",
              "      <td>No</td>\n",
              "      <td>No</td>\n",
              "      <td>No</td>\n",
              "      <td>Month-to-month</td>\n",
              "      <td>Yes</td>\n",
              "      <td>Mailed check</td>\n",
              "      <td>53.85</td>\n",
              "      <td>108.15</td>\n",
              "      <td>Yes</td>\n",
              "    </tr>\n",
              "    <tr>\n",
              "      <th>3</th>\n",
              "      <td>7795-CFOCW</td>\n",
              "      <td>Male</td>\n",
              "      <td>0</td>\n",
              "      <td>No</td>\n",
              "      <td>No</td>\n",
              "      <td>45</td>\n",
              "      <td>No</td>\n",
              "      <td>No phone service</td>\n",
              "      <td>DSL</td>\n",
              "      <td>Yes</td>\n",
              "      <td>No</td>\n",
              "      <td>Yes</td>\n",
              "      <td>Yes</td>\n",
              "      <td>No</td>\n",
              "      <td>No</td>\n",
              "      <td>One year</td>\n",
              "      <td>No</td>\n",
              "      <td>Bank transfer (automatic)</td>\n",
              "      <td>42.30</td>\n",
              "      <td>1840.75</td>\n",
              "      <td>No</td>\n",
              "    </tr>\n",
              "    <tr>\n",
              "      <th>4</th>\n",
              "      <td>9237-HQITU</td>\n",
              "      <td>Female</td>\n",
              "      <td>0</td>\n",
              "      <td>No</td>\n",
              "      <td>No</td>\n",
              "      <td>2</td>\n",
              "      <td>Yes</td>\n",
              "      <td>No</td>\n",
              "      <td>Fiber optic</td>\n",
              "      <td>No</td>\n",
              "      <td>No</td>\n",
              "      <td>No</td>\n",
              "      <td>No</td>\n",
              "      <td>No</td>\n",
              "      <td>No</td>\n",
              "      <td>Month-to-month</td>\n",
              "      <td>Yes</td>\n",
              "      <td>Electronic check</td>\n",
              "      <td>70.70</td>\n",
              "      <td>151.65</td>\n",
              "      <td>Yes</td>\n",
              "    </tr>\n",
              "  </tbody>\n",
              "</table>\n",
              "</div>"
            ],
            "text/plain": [
              "   customerID  gender  SeniorCitizen  ... MonthlyCharges TotalCharges  Churn\n",
              "0  7590-VHVEG  Female              0  ...          29.85        29.85     No\n",
              "1  5575-GNVDE    Male              0  ...          56.95       1889.5     No\n",
              "2  3668-QPYBK    Male              0  ...          53.85       108.15    Yes\n",
              "3  7795-CFOCW    Male              0  ...          42.30      1840.75     No\n",
              "4  9237-HQITU  Female              0  ...          70.70       151.65    Yes\n",
              "\n",
              "[5 rows x 21 columns]"
            ]
          },
          "metadata": {
            "tags": []
          },
          "execution_count": 2
        }
      ]
    },
    {
      "cell_type": "markdown",
      "metadata": {
        "id": "LKAQyE1kUxwS"
      },
      "source": [
        "Como podemos ver nas primeiras cinco(5) linhas do dataset, existem informações importantes que nos ajudarão a entender melhor o problema e a construir um modelo para prever possíveis desistências futuras.\n",
        "\n",
        "1.   Item da lista\n",
        "2.   Item da lista\n",
        "\n"
      ]
    },
    {
      "cell_type": "markdown",
      "metadata": {
        "id": "yivLYBJ3WIst"
      },
      "source": [
        "Abaixo será verificado o tamanho do dataset."
      ]
    },
    {
      "cell_type": "code",
      "metadata": {
        "id": "QdhxBBBgC7Ll",
        "outputId": "acf9a8e2-71c1-4584-f2a7-5537c411b822",
        "colab": {
          "base_uri": "https://localhost:8080/",
          "height": 54
        }
      },
      "source": [
        "# tamanho do dataset\n",
        "print(\"Linhas:\\t\\t{}\".format(df.shape[0]))\n",
        "print(\"Colunas:\\t{}\".format(df.shape[1]))"
      ],
      "execution_count": 3,
      "outputs": [
        {
          "output_type": "stream",
          "text": [
            "Linhas:\t\t7043\n",
            "Colunas:\t21\n"
          ],
          "name": "stdout"
        }
      ]
    },
    {
      "cell_type": "markdown",
      "metadata": {
        "id": "45T71VqLWOKf"
      },
      "source": [
        "Será verificado se existem dados ausentes, os nomes das colunas, os total de valores únicos por coluna e o tipo de cada variável."
      ]
    },
    {
      "cell_type": "code",
      "metadata": {
        "id": "4t4DKtYD2SIM",
        "outputId": "028c0e4a-ffaa-401b-9505-352a814e61f2",
        "colab": {
          "base_uri": "https://localhost:8080/",
          "height": 1000
        }
      },
      "source": [
        "# dados ausente, nomes das feature, valores únicos e tipos dos objetos\n",
        "print(f'Dados ausente = {df.isnull().sum().values.sum()}\\n')\n",
        "print(df.isnull().sum() / df.shape[0])\n",
        "print(f'\\nNome das features:\\n {df.columns.values}')\n",
        "print(f'\\nValores únicos por coluna:\\n{df.nunique()}')\n",
        "print(f'\\nTipos de variáveis por coluna:\\n{df.dtypes}')"
      ],
      "execution_count": 4,
      "outputs": [
        {
          "output_type": "stream",
          "text": [
            "Dados ausente = 0\n",
            "\n",
            "customerID          0.0\n",
            "gender              0.0\n",
            "SeniorCitizen       0.0\n",
            "Partner             0.0\n",
            "Dependents          0.0\n",
            "tenure              0.0\n",
            "PhoneService        0.0\n",
            "MultipleLines       0.0\n",
            "InternetService     0.0\n",
            "OnlineSecurity      0.0\n",
            "OnlineBackup        0.0\n",
            "DeviceProtection    0.0\n",
            "TechSupport         0.0\n",
            "StreamingTV         0.0\n",
            "StreamingMovies     0.0\n",
            "Contract            0.0\n",
            "PaperlessBilling    0.0\n",
            "PaymentMethod       0.0\n",
            "MonthlyCharges      0.0\n",
            "TotalCharges        0.0\n",
            "Churn               0.0\n",
            "dtype: float64\n",
            "\n",
            "Nome das features:\n",
            " ['customerID' 'gender' 'SeniorCitizen' 'Partner' 'Dependents' 'tenure'\n",
            " 'PhoneService' 'MultipleLines' 'InternetService' 'OnlineSecurity'\n",
            " 'OnlineBackup' 'DeviceProtection' 'TechSupport' 'StreamingTV'\n",
            " 'StreamingMovies' 'Contract' 'PaperlessBilling' 'PaymentMethod'\n",
            " 'MonthlyCharges' 'TotalCharges' 'Churn']\n",
            "\n",
            "Valores únicos por coluna:\n",
            "customerID          7043\n",
            "gender                 2\n",
            "SeniorCitizen          2\n",
            "Partner                2\n",
            "Dependents             2\n",
            "tenure                73\n",
            "PhoneService           2\n",
            "MultipleLines          3\n",
            "InternetService        3\n",
            "OnlineSecurity         3\n",
            "OnlineBackup           3\n",
            "DeviceProtection       3\n",
            "TechSupport            3\n",
            "StreamingTV            3\n",
            "StreamingMovies        3\n",
            "Contract               3\n",
            "PaperlessBilling       2\n",
            "PaymentMethod          4\n",
            "MonthlyCharges      1585\n",
            "TotalCharges        6531\n",
            "Churn                  2\n",
            "dtype: int64\n",
            "\n",
            "Tipos de variáveis por coluna:\n",
            "customerID           object\n",
            "gender               object\n",
            "SeniorCitizen         int64\n",
            "Partner              object\n",
            "Dependents           object\n",
            "tenure                int64\n",
            "PhoneService         object\n",
            "MultipleLines        object\n",
            "InternetService      object\n",
            "OnlineSecurity       object\n",
            "OnlineBackup         object\n",
            "DeviceProtection     object\n",
            "TechSupport          object\n",
            "StreamingTV          object\n",
            "StreamingMovies      object\n",
            "Contract             object\n",
            "PaperlessBilling     object\n",
            "PaymentMethod        object\n",
            "MonthlyCharges      float64\n",
            "TotalCharges         object\n",
            "Churn                object\n",
            "dtype: object\n"
          ],
          "name": "stdout"
        }
      ]
    },
    {
      "cell_type": "markdown",
      "metadata": {
        "id": "rTSOWq_N8iON"
      },
      "source": [
        "Como verificado acima, algumas observações são necessárias:\n",
        "  * A variável alvo do dataset é a `Churn`;\n",
        "  * Não foram identificado dados faltantes no dataset;\n",
        "  * A coluna `costumerID` não tem relevância para a análise, pois trata-se de um código da operadora;\n",
        "  * A coluna `TotalCharges` está identificada como um objeto do tipo string, mas a ele contém números.\n",
        "\n",
        "A seguir iremos realizar essas tratativas necessárias."
      ]
    },
    {
      "cell_type": "code",
      "metadata": {
        "id": "bSnYjoXMAYr1",
        "outputId": "5118ed3e-a093-4d84-cd9a-93a5e308fc89",
        "colab": {
          "base_uri": "https://localhost:8080/",
          "height": 343
        }
      },
      "source": [
        " #converter coluna TotalCharges para float\n",
        " df[\"TotalCharges\"].astype('float32')"
      ],
      "execution_count": 6,
      "outputs": [
        {
          "output_type": "error",
          "ename": "ValueError",
          "evalue": "ignored",
          "traceback": [
            "\u001b[0;31m---------------------------------------------------------------------------\u001b[0m",
            "\u001b[0;31mValueError\u001b[0m                                Traceback (most recent call last)",
            "\u001b[0;32m<ipython-input-6-bde60582f151>\u001b[0m in \u001b[0;36m<module>\u001b[0;34m()\u001b[0m\n\u001b[1;32m      1\u001b[0m \u001b[0;31m#converter coluna TotalCharges para float\u001b[0m\u001b[0;34m\u001b[0m\u001b[0;34m\u001b[0m\u001b[0;34m\u001b[0m\u001b[0m\n\u001b[0;32m----> 2\u001b[0;31m \u001b[0mdf\u001b[0m\u001b[0;34m[\u001b[0m\u001b[0;34m\"TotalCharges\"\u001b[0m\u001b[0;34m]\u001b[0m\u001b[0;34m.\u001b[0m\u001b[0mastype\u001b[0m\u001b[0;34m(\u001b[0m\u001b[0;34m'float32'\u001b[0m\u001b[0;34m)\u001b[0m\u001b[0;34m\u001b[0m\u001b[0;34m\u001b[0m\u001b[0m\n\u001b[0m",
            "\u001b[0;32m/usr/local/lib/python3.6/dist-packages/pandas/core/generic.py\u001b[0m in \u001b[0;36mastype\u001b[0;34m(self, dtype, copy, errors)\u001b[0m\n\u001b[1;32m   5541\u001b[0m         \u001b[0;32melse\u001b[0m\u001b[0;34m:\u001b[0m\u001b[0;34m\u001b[0m\u001b[0;34m\u001b[0m\u001b[0m\n\u001b[1;32m   5542\u001b[0m             \u001b[0;31m# else, only a single dtype is given\u001b[0m\u001b[0;34m\u001b[0m\u001b[0;34m\u001b[0m\u001b[0;34m\u001b[0m\u001b[0m\n\u001b[0;32m-> 5543\u001b[0;31m             \u001b[0mnew_data\u001b[0m \u001b[0;34m=\u001b[0m \u001b[0mself\u001b[0m\u001b[0;34m.\u001b[0m\u001b[0m_mgr\u001b[0m\u001b[0;34m.\u001b[0m\u001b[0mastype\u001b[0m\u001b[0;34m(\u001b[0m\u001b[0mdtype\u001b[0m\u001b[0;34m=\u001b[0m\u001b[0mdtype\u001b[0m\u001b[0;34m,\u001b[0m \u001b[0mcopy\u001b[0m\u001b[0;34m=\u001b[0m\u001b[0mcopy\u001b[0m\u001b[0;34m,\u001b[0m \u001b[0merrors\u001b[0m\u001b[0;34m=\u001b[0m\u001b[0merrors\u001b[0m\u001b[0;34m,\u001b[0m\u001b[0;34m)\u001b[0m\u001b[0;34m\u001b[0m\u001b[0;34m\u001b[0m\u001b[0m\n\u001b[0m\u001b[1;32m   5544\u001b[0m             \u001b[0;32mreturn\u001b[0m \u001b[0mself\u001b[0m\u001b[0;34m.\u001b[0m\u001b[0m_constructor\u001b[0m\u001b[0;34m(\u001b[0m\u001b[0mnew_data\u001b[0m\u001b[0;34m)\u001b[0m\u001b[0;34m.\u001b[0m\u001b[0m__finalize__\u001b[0m\u001b[0;34m(\u001b[0m\u001b[0mself\u001b[0m\u001b[0;34m,\u001b[0m \u001b[0mmethod\u001b[0m\u001b[0;34m=\u001b[0m\u001b[0;34m\"astype\"\u001b[0m\u001b[0;34m)\u001b[0m\u001b[0;34m\u001b[0m\u001b[0;34m\u001b[0m\u001b[0m\n\u001b[1;32m   5545\u001b[0m \u001b[0;34m\u001b[0m\u001b[0m\n",
            "\u001b[0;32m/usr/local/lib/python3.6/dist-packages/pandas/core/internals/managers.py\u001b[0m in \u001b[0;36mastype\u001b[0;34m(self, dtype, copy, errors)\u001b[0m\n\u001b[1;32m    593\u001b[0m         \u001b[0mself\u001b[0m\u001b[0;34m,\u001b[0m \u001b[0mdtype\u001b[0m\u001b[0;34m,\u001b[0m \u001b[0mcopy\u001b[0m\u001b[0;34m:\u001b[0m \u001b[0mbool\u001b[0m \u001b[0;34m=\u001b[0m \u001b[0;32mFalse\u001b[0m\u001b[0;34m,\u001b[0m \u001b[0merrors\u001b[0m\u001b[0;34m:\u001b[0m \u001b[0mstr\u001b[0m \u001b[0;34m=\u001b[0m \u001b[0;34m\"raise\"\u001b[0m\u001b[0;34m\u001b[0m\u001b[0;34m\u001b[0m\u001b[0m\n\u001b[1;32m    594\u001b[0m     ) -> \"BlockManager\":\n\u001b[0;32m--> 595\u001b[0;31m         \u001b[0;32mreturn\u001b[0m \u001b[0mself\u001b[0m\u001b[0;34m.\u001b[0m\u001b[0mapply\u001b[0m\u001b[0;34m(\u001b[0m\u001b[0;34m\"astype\"\u001b[0m\u001b[0;34m,\u001b[0m \u001b[0mdtype\u001b[0m\u001b[0;34m=\u001b[0m\u001b[0mdtype\u001b[0m\u001b[0;34m,\u001b[0m \u001b[0mcopy\u001b[0m\u001b[0;34m=\u001b[0m\u001b[0mcopy\u001b[0m\u001b[0;34m,\u001b[0m \u001b[0merrors\u001b[0m\u001b[0;34m=\u001b[0m\u001b[0merrors\u001b[0m\u001b[0;34m)\u001b[0m\u001b[0;34m\u001b[0m\u001b[0;34m\u001b[0m\u001b[0m\n\u001b[0m\u001b[1;32m    596\u001b[0m \u001b[0;34m\u001b[0m\u001b[0m\n\u001b[1;32m    597\u001b[0m     def convert(\n",
            "\u001b[0;32m/usr/local/lib/python3.6/dist-packages/pandas/core/internals/managers.py\u001b[0m in \u001b[0;36mapply\u001b[0;34m(self, f, align_keys, **kwargs)\u001b[0m\n\u001b[1;32m    404\u001b[0m                 \u001b[0mapplied\u001b[0m \u001b[0;34m=\u001b[0m \u001b[0mb\u001b[0m\u001b[0;34m.\u001b[0m\u001b[0mapply\u001b[0m\u001b[0;34m(\u001b[0m\u001b[0mf\u001b[0m\u001b[0;34m,\u001b[0m \u001b[0;34m**\u001b[0m\u001b[0mkwargs\u001b[0m\u001b[0;34m)\u001b[0m\u001b[0;34m\u001b[0m\u001b[0;34m\u001b[0m\u001b[0m\n\u001b[1;32m    405\u001b[0m             \u001b[0;32melse\u001b[0m\u001b[0;34m:\u001b[0m\u001b[0;34m\u001b[0m\u001b[0;34m\u001b[0m\u001b[0m\n\u001b[0;32m--> 406\u001b[0;31m                 \u001b[0mapplied\u001b[0m \u001b[0;34m=\u001b[0m \u001b[0mgetattr\u001b[0m\u001b[0;34m(\u001b[0m\u001b[0mb\u001b[0m\u001b[0;34m,\u001b[0m \u001b[0mf\u001b[0m\u001b[0;34m)\u001b[0m\u001b[0;34m(\u001b[0m\u001b[0;34m**\u001b[0m\u001b[0mkwargs\u001b[0m\u001b[0;34m)\u001b[0m\u001b[0;34m\u001b[0m\u001b[0;34m\u001b[0m\u001b[0m\n\u001b[0m\u001b[1;32m    407\u001b[0m             \u001b[0mresult_blocks\u001b[0m \u001b[0;34m=\u001b[0m \u001b[0m_extend_blocks\u001b[0m\u001b[0;34m(\u001b[0m\u001b[0mapplied\u001b[0m\u001b[0;34m,\u001b[0m \u001b[0mresult_blocks\u001b[0m\u001b[0;34m)\u001b[0m\u001b[0;34m\u001b[0m\u001b[0;34m\u001b[0m\u001b[0m\n\u001b[1;32m    408\u001b[0m \u001b[0;34m\u001b[0m\u001b[0m\n",
            "\u001b[0;32m/usr/local/lib/python3.6/dist-packages/pandas/core/internals/blocks.py\u001b[0m in \u001b[0;36mastype\u001b[0;34m(self, dtype, copy, errors)\u001b[0m\n\u001b[1;32m    592\u001b[0m             \u001b[0mvals1d\u001b[0m \u001b[0;34m=\u001b[0m \u001b[0mvalues\u001b[0m\u001b[0;34m.\u001b[0m\u001b[0mravel\u001b[0m\u001b[0;34m(\u001b[0m\u001b[0;34m)\u001b[0m\u001b[0;34m\u001b[0m\u001b[0;34m\u001b[0m\u001b[0m\n\u001b[1;32m    593\u001b[0m             \u001b[0;32mtry\u001b[0m\u001b[0;34m:\u001b[0m\u001b[0;34m\u001b[0m\u001b[0;34m\u001b[0m\u001b[0m\n\u001b[0;32m--> 594\u001b[0;31m                 \u001b[0mvalues\u001b[0m \u001b[0;34m=\u001b[0m \u001b[0mastype_nansafe\u001b[0m\u001b[0;34m(\u001b[0m\u001b[0mvals1d\u001b[0m\u001b[0;34m,\u001b[0m \u001b[0mdtype\u001b[0m\u001b[0;34m,\u001b[0m \u001b[0mcopy\u001b[0m\u001b[0;34m=\u001b[0m\u001b[0;32mTrue\u001b[0m\u001b[0;34m)\u001b[0m\u001b[0;34m\u001b[0m\u001b[0;34m\u001b[0m\u001b[0m\n\u001b[0m\u001b[1;32m    595\u001b[0m             \u001b[0;32mexcept\u001b[0m \u001b[0;34m(\u001b[0m\u001b[0mValueError\u001b[0m\u001b[0;34m,\u001b[0m \u001b[0mTypeError\u001b[0m\u001b[0;34m)\u001b[0m\u001b[0;34m:\u001b[0m\u001b[0;34m\u001b[0m\u001b[0;34m\u001b[0m\u001b[0m\n\u001b[1;32m    596\u001b[0m                 \u001b[0;31m# e.g. astype_nansafe can fail on object-dtype of strings\u001b[0m\u001b[0;34m\u001b[0m\u001b[0;34m\u001b[0m\u001b[0;34m\u001b[0m\u001b[0m\n",
            "\u001b[0;32m/usr/local/lib/python3.6/dist-packages/pandas/core/dtypes/cast.py\u001b[0m in \u001b[0;36mastype_nansafe\u001b[0;34m(arr, dtype, copy, skipna)\u001b[0m\n\u001b[1;32m    988\u001b[0m     \u001b[0;32mif\u001b[0m \u001b[0mcopy\u001b[0m \u001b[0;32mor\u001b[0m \u001b[0mis_object_dtype\u001b[0m\u001b[0;34m(\u001b[0m\u001b[0marr\u001b[0m\u001b[0;34m)\u001b[0m \u001b[0;32mor\u001b[0m \u001b[0mis_object_dtype\u001b[0m\u001b[0;34m(\u001b[0m\u001b[0mdtype\u001b[0m\u001b[0;34m)\u001b[0m\u001b[0;34m:\u001b[0m\u001b[0;34m\u001b[0m\u001b[0;34m\u001b[0m\u001b[0m\n\u001b[1;32m    989\u001b[0m         \u001b[0;31m# Explicit copy, or required since NumPy can't view from / to object.\u001b[0m\u001b[0;34m\u001b[0m\u001b[0;34m\u001b[0m\u001b[0;34m\u001b[0m\u001b[0m\n\u001b[0;32m--> 990\u001b[0;31m         \u001b[0;32mreturn\u001b[0m \u001b[0marr\u001b[0m\u001b[0;34m.\u001b[0m\u001b[0mastype\u001b[0m\u001b[0;34m(\u001b[0m\u001b[0mdtype\u001b[0m\u001b[0;34m,\u001b[0m \u001b[0mcopy\u001b[0m\u001b[0;34m=\u001b[0m\u001b[0;32mTrue\u001b[0m\u001b[0;34m)\u001b[0m\u001b[0;34m\u001b[0m\u001b[0;34m\u001b[0m\u001b[0m\n\u001b[0m\u001b[1;32m    991\u001b[0m \u001b[0;34m\u001b[0m\u001b[0m\n\u001b[1;32m    992\u001b[0m     \u001b[0;32mreturn\u001b[0m \u001b[0marr\u001b[0m\u001b[0;34m.\u001b[0m\u001b[0mview\u001b[0m\u001b[0;34m(\u001b[0m\u001b[0mdtype\u001b[0m\u001b[0;34m)\u001b[0m\u001b[0;34m\u001b[0m\u001b[0;34m\u001b[0m\u001b[0m\n",
            "\u001b[0;31mValueError\u001b[0m: could not convert string to float: "
          ]
        }
      ]
    },
    {
      "cell_type": "markdown",
      "metadata": {
        "id": "psbq6BWMGxRg"
      },
      "source": [
        "Ao tentar, a princípio, converter a coluna `TotalCharges` em float, foi apresentado um erro que não pode converter string em float, não permitindo a conversão."
      ]
    },
    {
      "cell_type": "code",
      "metadata": {
        "id": "DBAkLcSpKdsP",
        "outputId": "45155283-4e09-4c57-f9cf-1d26fbe70535",
        "colab": {
          "base_uri": "https://localhost:8080/",
          "height": 54
        }
      },
      "source": [
        "# gerando uma cópia do dataset\n",
        "df_2 = df.copy()\n",
        "\n",
        "# remover coluna costumerID\n",
        "df_2.drop(\"customerID\", axis=1, inplace=True)\n",
        "\n",
        "# converter TotalCharges em float\n",
        "def converter_str_float(entrada):\n",
        "    try:\n",
        "        return float(entrada)\n",
        "    except ValueError:\n",
        "        return np.nan\n",
        "\n",
        "df_2.TotalCharges = df_2.TotalCharges.apply(converter_str_float)\n",
        "\n",
        "# verificar dados ausentes após converão\n",
        "print(\"Dados ausentes encontrados em 'TotalCharges' :\\t{}\\n\".format(df_2[\"TotalCharges\"].isnull().sum()))\n",
        "\n",
        "# preencher dados ausentes com mediana\n",
        "TCmedian = df_2.TotalCharges.median()\n",
        "df_2.TotalCharges.fillna(TCmedian, inplace=True)"
      ],
      "execution_count": 7,
      "outputs": [
        {
          "output_type": "stream",
          "text": [
            "Dados ausentes encontrados em 'TotalCharges' :\t11\n",
            "\n"
          ],
          "name": "stdout"
        }
      ]
    },
    {
      "cell_type": "markdown",
      "metadata": {
        "id": "VE21O1-rKGl2"
      },
      "source": [
        "O que foi proposto em uma função, foi a de converter as strings e preencher com `nan` o restante e depois substitui-los pela mediana da coluna.\n",
        "\n",
        "Deixando no final toda a coluna `TotalCharges` com valor numérico."
      ]
    },
    {
      "cell_type": "markdown",
      "metadata": {
        "id": "tryFtF0rLlzT"
      },
      "source": [
        "Mesmo o dataset sendo na maioria de variáveis não numéricas ainda sim podemos ver a descrição dele e iniciar a verificação de `Outliers`."
      ]
    },
    {
      "cell_type": "code",
      "metadata": {
        "id": "7e8SkUonL4fD",
        "outputId": "96e2c959-ddbf-4d09-943e-dabd1baba866",
        "colab": {
          "base_uri": "https://localhost:8080/",
          "height": 300
        }
      },
      "source": [
        "df_2.describe()"
      ],
      "execution_count": 8,
      "outputs": [
        {
          "output_type": "execute_result",
          "data": {
            "text/html": [
              "<div>\n",
              "<style scoped>\n",
              "    .dataframe tbody tr th:only-of-type {\n",
              "        vertical-align: middle;\n",
              "    }\n",
              "\n",
              "    .dataframe tbody tr th {\n",
              "        vertical-align: top;\n",
              "    }\n",
              "\n",
              "    .dataframe thead th {\n",
              "        text-align: right;\n",
              "    }\n",
              "</style>\n",
              "<table border=\"1\" class=\"dataframe\">\n",
              "  <thead>\n",
              "    <tr style=\"text-align: right;\">\n",
              "      <th></th>\n",
              "      <th>SeniorCitizen</th>\n",
              "      <th>tenure</th>\n",
              "      <th>MonthlyCharges</th>\n",
              "      <th>TotalCharges</th>\n",
              "    </tr>\n",
              "  </thead>\n",
              "  <tbody>\n",
              "    <tr>\n",
              "      <th>count</th>\n",
              "      <td>7043.000000</td>\n",
              "      <td>7043.000000</td>\n",
              "      <td>7043.000000</td>\n",
              "      <td>7043.000000</td>\n",
              "    </tr>\n",
              "    <tr>\n",
              "      <th>mean</th>\n",
              "      <td>0.162147</td>\n",
              "      <td>32.371149</td>\n",
              "      <td>64.761692</td>\n",
              "      <td>2281.916928</td>\n",
              "    </tr>\n",
              "    <tr>\n",
              "      <th>std</th>\n",
              "      <td>0.368612</td>\n",
              "      <td>24.559481</td>\n",
              "      <td>30.090047</td>\n",
              "      <td>2265.270398</td>\n",
              "    </tr>\n",
              "    <tr>\n",
              "      <th>min</th>\n",
              "      <td>0.000000</td>\n",
              "      <td>0.000000</td>\n",
              "      <td>18.250000</td>\n",
              "      <td>18.800000</td>\n",
              "    </tr>\n",
              "    <tr>\n",
              "      <th>25%</th>\n",
              "      <td>0.000000</td>\n",
              "      <td>9.000000</td>\n",
              "      <td>35.500000</td>\n",
              "      <td>402.225000</td>\n",
              "    </tr>\n",
              "    <tr>\n",
              "      <th>50%</th>\n",
              "      <td>0.000000</td>\n",
              "      <td>29.000000</td>\n",
              "      <td>70.350000</td>\n",
              "      <td>1397.475000</td>\n",
              "    </tr>\n",
              "    <tr>\n",
              "      <th>75%</th>\n",
              "      <td>0.000000</td>\n",
              "      <td>55.000000</td>\n",
              "      <td>89.850000</td>\n",
              "      <td>3786.600000</td>\n",
              "    </tr>\n",
              "    <tr>\n",
              "      <th>max</th>\n",
              "      <td>1.000000</td>\n",
              "      <td>72.000000</td>\n",
              "      <td>118.750000</td>\n",
              "      <td>8684.800000</td>\n",
              "    </tr>\n",
              "  </tbody>\n",
              "</table>\n",
              "</div>"
            ],
            "text/plain": [
              "       SeniorCitizen       tenure  MonthlyCharges  TotalCharges\n",
              "count    7043.000000  7043.000000     7043.000000   7043.000000\n",
              "mean        0.162147    32.371149       64.761692   2281.916928\n",
              "std         0.368612    24.559481       30.090047   2265.270398\n",
              "min         0.000000     0.000000       18.250000     18.800000\n",
              "25%         0.000000     9.000000       35.500000    402.225000\n",
              "50%         0.000000    29.000000       70.350000   1397.475000\n",
              "75%         0.000000    55.000000       89.850000   3786.600000\n",
              "max         1.000000    72.000000      118.750000   8684.800000"
            ]
          },
          "metadata": {
            "tags": []
          },
          "execution_count": 8
        }
      ]
    },
    {
      "cell_type": "markdown",
      "metadata": {
        "id": "LxBbbDZ1XFkP"
      },
      "source": [
        "A seguir, será verificado se existem `Outliers` (pontos fora da curva), que podem atrapalhar no desempenho do modelo de machine learning."
      ]
    },
    {
      "cell_type": "code",
      "metadata": {
        "id": "UnKoW22uNn34",
        "outputId": "ad24737f-d8c4-4632-98a1-0a9c6073c65e",
        "colab": {
          "base_uri": "https://localhost:8080/",
          "height": 279
        }
      },
      "source": [
        "# boxplot para verificar outliers\n",
        "fig, ax = plt.subplots(nrows=1, ncols=2, figsize=(14, 4))\n",
        "sns.boxplot(df_2.MonthlyCharges, ax=ax[0])\n",
        "sns.boxplot(df_2.TotalCharges, ax=ax[1])\n",
        "\n",
        "plt.show()"
      ],
      "execution_count": 9,
      "outputs": [
        {
          "output_type": "display_data",
          "data": {
            "image/png": "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\n",
            "text/plain": [
              "<Figure size 1008x288 with 2 Axes>"
            ]
          },
          "metadata": {
            "tags": [],
            "needs_background": "light"
          }
        }
      ]
    },
    {
      "cell_type": "markdown",
      "metadata": {
        "id": "oLFNIV_9PVkj"
      },
      "source": [
        "Como é possível ver no boxplot acima, não existem `Outliers` nesse dataset."
      ]
    },
    {
      "cell_type": "markdown",
      "metadata": {
        "id": "ZQ6RGh4qUfGr"
      },
      "source": [
        "Serão verificados os gráficos de algumas variáveis, que aparentam ser de importância, para tratar da desistência ou não de clientes.\n",
        "\n",
        "Tais variáveis como: `tenure`, `Contract`, `PhoneService`, `StreamingTV`, `StreamingMovies` em relação ao `Churn`."
      ]
    },
    {
      "cell_type": "code",
      "metadata": {
        "id": "CdwVivhsRgYu",
        "outputId": "f50f022b-16ad-4ca3-885b-9199a13d3700",
        "colab": {
          "base_uri": "https://localhost:8080/",
          "height": 606
        }
      },
      "source": [
        "fig, ax = plt.subplots(figsize=(20, 10))\n",
        "ax = sns.countplot(x='tenure', hue='Churn', data=df_2)\n",
        "sns.set(style='darkgrid')\n",
        "sns.set_palette('hls', 3)"
      ],
      "execution_count": 10,
      "outputs": [
        {
          "output_type": "display_data",
          "data": {
            "image/png": "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\n",
            "text/plain": [
              "<Figure size 1440x720 with 1 Axes>"
            ]
          },
          "metadata": {
            "tags": [],
            "needs_background": "light"
          }
        }
      ]
    },
    {
      "cell_type": "markdown",
      "metadata": {
        "id": "aLJjwfHpY2Nc"
      },
      "source": [
        "No gráfico acima, é possível  ver que a desistência vai diminuindo e,conforme o tempo, vai aumentando.\n",
        "\n",
        "O maior número de desistências ocorre no primeiro mês de contrato e vai decaindo."
      ]
    },
    {
      "cell_type": "code",
      "metadata": {
        "id": "l5rvdtAO3S-T",
        "outputId": "09715ad5-9924-471b-ea97-c437ced44af9",
        "colab": {
          "base_uri": "https://localhost:8080/",
          "height": 285
        }
      },
      "source": [
        "fig, ax = plt.subplots(figsize=(12, 4))\n",
        "ax = sns.countplot(x='Contract', hue='Churn', data=df_2)\n",
        "sns.set(style='darkgrid')\n",
        "sns.set_palette('hls', 3)"
      ],
      "execution_count": 11,
      "outputs": [
        {
          "output_type": "display_data",
          "data": {
            "image/png": "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\n",
            "text/plain": [
              "<Figure size 864x288 with 1 Axes>"
            ]
          },
          "metadata": {
            "tags": []
          }
        }
      ]
    },
    {
      "cell_type": "markdown",
      "metadata": {
        "id": "oqChXLly-qx5"
      },
      "source": [
        "No gráfico acima, é possível  ver que a maior desistência está nos contratos mês a mês."
      ]
    },
    {
      "cell_type": "code",
      "metadata": {
        "id": "W3F92CqK3gn6",
        "outputId": "52fc24c7-9e94-426e-c38f-fe97239a4c81",
        "colab": {
          "base_uri": "https://localhost:8080/",
          "height": 285
        }
      },
      "source": [
        "fig, ax = plt.subplots(figsize=(12, 4))\n",
        "ax = sns.countplot(x='PhoneService', hue='Churn', data=df_2)\n",
        "sns.set(style='darkgrid')\n",
        "sns.set_palette('hls', 3)"
      ],
      "execution_count": 12,
      "outputs": [
        {
          "output_type": "display_data",
          "data": {
            "image/png": "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\n",
            "text/plain": [
              "<Figure size 864x288 with 1 Axes>"
            ]
          },
          "metadata": {
            "tags": []
          }
        }
      ]
    },
    {
      "cell_type": "markdown",
      "metadata": {
        "id": "qMG55Jn9_eyY"
      },
      "source": [
        "Os que possuem serviço de telefonia, têm mais tendência a cancelar o contrato."
      ]
    },
    {
      "cell_type": "code",
      "metadata": {
        "id": "YTYVlGM341jK",
        "outputId": "3a8f1419-670a-4e3c-bb0e-07782d8b9d68",
        "colab": {
          "base_uri": "https://localhost:8080/",
          "height": 285
        }
      },
      "source": [
        "fig, ax = plt.subplots(figsize=(12, 4))\n",
        "ax = sns.countplot(x='StreamingTV', hue='Churn', data=df_2)\n",
        "sns.set(style='darkgrid')\n",
        "sns.set_palette('hls', 3)"
      ],
      "execution_count": 13,
      "outputs": [
        {
          "output_type": "display_data",
          "data": {
            "image/png": "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\n",
            "text/plain": [
              "<Figure size 864x288 with 1 Axes>"
            ]
          },
          "metadata": {
            "tags": []
          }
        }
      ]
    },
    {
      "cell_type": "markdown",
      "metadata": {
        "id": "zMd8s7s3-5zZ"
      },
      "source": [
        "No comparativo entre Streaming de TV, os usuários que não possuem o serviço e os que possuem, têm uma diferença pequena para desistência."
      ]
    },
    {
      "cell_type": "code",
      "metadata": {
        "id": "Ad17V8O0b8uC",
        "outputId": "a55ef8ad-ca4e-4376-d147-b4723f619deb",
        "colab": {
          "base_uri": "https://localhost:8080/",
          "height": 288
        }
      },
      "source": [
        "fig, ax = plt.subplots(figsize=(12, 4))\n",
        "ax = sns.countplot(x='StreamingMovies', hue='Churn', data=df_2)\n",
        "sns.set(style='darkgrid')\n",
        "sns.set_palette('hls', 3)"
      ],
      "execution_count": 14,
      "outputs": [
        {
          "output_type": "display_data",
          "data": {
            "image/png": "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\n",
            "text/plain": [
              "<Figure size 864x288 with 1 Axes>"
            ]
          },
          "metadata": {
            "tags": []
          }
        }
      ]
    },
    {
      "cell_type": "markdown",
      "metadata": {
        "id": "JdooaIsa_NRn"
      },
      "source": [
        "Assim, como no Streaming de TV, o Streaming de Filmes, a diferença também é pequena para os que possuem e para os que não possuem."
      ]
    },
    {
      "cell_type": "code",
      "metadata": {
        "id": "ajpRM-jNaumI",
        "outputId": "2ed5bf54-a0ac-4b85-f68e-5993c0140e41",
        "colab": {
          "base_uri": "https://localhost:8080/",
          "height": 72
        }
      },
      "source": [
        "# ver total de entradas da variável alvo\n",
        "print(df.Churn.value_counts())"
      ],
      "execution_count": 15,
      "outputs": [
        {
          "output_type": "stream",
          "text": [
            "No     5174\n",
            "Yes    1869\n",
            "Name: Churn, dtype: int64\n"
          ],
          "name": "stdout"
        }
      ]
    },
    {
      "cell_type": "markdown",
      "metadata": {
        "id": "_lr8V5Q9a2B_"
      },
      "source": [
        "Como é possível ver acima, existe um desbalanceamento muito grande na variável alvo, e o mesmo deverá ser tratado."
      ]
    },
    {
      "cell_type": "markdown",
      "metadata": {
        "id": "4coGSI84AB5u"
      },
      "source": [
        "**Preparação dos Dados**\n",
        "\n",
        "Neste ponto, será separada as variáveis binárias, numéricas e categóricas e converte-las para numéricas, usando o método LabelEncoder.\n",
        "\n",
        "É necessário fazer essa conversão, pois alguns modelos de machine learning não trabalham muito bem com dados de texto."
      ]
    },
    {
      "cell_type": "code",
      "metadata": {
        "id": "5R8-ZgVI1yGf",
        "outputId": "b700225c-0b63-4311-945f-096aed5c7a40",
        "colab": {
          "base_uri": "https://localhost:8080/",
          "height": 261
        }
      },
      "source": [
        "# pré-processando variáveis\n",
        "bin_var = df_2.nunique()[df_2.nunique() == 2].keys().tolist()\n",
        "num_var = [col for col in df_2.select_dtypes(['int', 'float']).columns.tolist() if col not in bin_var]\n",
        "cat_var = [col for col in df_2.columns.tolist() if col not in bin_var + num_var]\n",
        "\n",
        "# copiar dataframe\n",
        "df_copy = df_2.copy()\n",
        "\n",
        "# converter binários em númericas\n",
        "le = LabelEncoder()\n",
        "for i in bin_var:\n",
        "    df_copy[i] = le.fit_transform(df_copy[i])\n",
        "\n",
        "# converter categoricas em númericas\n",
        "df_copy = pd.get_dummies(df_copy, columns=cat_var)\n",
        "\n",
        "df_copy.head()"
      ],
      "execution_count": 16,
      "outputs": [
        {
          "output_type": "execute_result",
          "data": {
            "text/html": [
              "<div>\n",
              "<style scoped>\n",
              "    .dataframe tbody tr th:only-of-type {\n",
              "        vertical-align: middle;\n",
              "    }\n",
              "\n",
              "    .dataframe tbody tr th {\n",
              "        vertical-align: top;\n",
              "    }\n",
              "\n",
              "    .dataframe thead th {\n",
              "        text-align: right;\n",
              "    }\n",
              "</style>\n",
              "<table border=\"1\" class=\"dataframe\">\n",
              "  <thead>\n",
              "    <tr style=\"text-align: right;\">\n",
              "      <th></th>\n",
              "      <th>gender</th>\n",
              "      <th>SeniorCitizen</th>\n",
              "      <th>Partner</th>\n",
              "      <th>Dependents</th>\n",
              "      <th>tenure</th>\n",
              "      <th>PhoneService</th>\n",
              "      <th>PaperlessBilling</th>\n",
              "      <th>MonthlyCharges</th>\n",
              "      <th>TotalCharges</th>\n",
              "      <th>Churn</th>\n",
              "      <th>MultipleLines_No</th>\n",
              "      <th>MultipleLines_No phone service</th>\n",
              "      <th>MultipleLines_Yes</th>\n",
              "      <th>InternetService_DSL</th>\n",
              "      <th>InternetService_Fiber optic</th>\n",
              "      <th>InternetService_No</th>\n",
              "      <th>OnlineSecurity_No</th>\n",
              "      <th>OnlineSecurity_No internet service</th>\n",
              "      <th>OnlineSecurity_Yes</th>\n",
              "      <th>OnlineBackup_No</th>\n",
              "      <th>OnlineBackup_No internet service</th>\n",
              "      <th>OnlineBackup_Yes</th>\n",
              "      <th>DeviceProtection_No</th>\n",
              "      <th>DeviceProtection_No internet service</th>\n",
              "      <th>DeviceProtection_Yes</th>\n",
              "      <th>TechSupport_No</th>\n",
              "      <th>TechSupport_No internet service</th>\n",
              "      <th>TechSupport_Yes</th>\n",
              "      <th>StreamingTV_No</th>\n",
              "      <th>StreamingTV_No internet service</th>\n",
              "      <th>StreamingTV_Yes</th>\n",
              "      <th>StreamingMovies_No</th>\n",
              "      <th>StreamingMovies_No internet service</th>\n",
              "      <th>StreamingMovies_Yes</th>\n",
              "      <th>Contract_Month-to-month</th>\n",
              "      <th>Contract_One year</th>\n",
              "      <th>Contract_Two year</th>\n",
              "      <th>PaymentMethod_Bank transfer (automatic)</th>\n",
              "      <th>PaymentMethod_Credit card (automatic)</th>\n",
              "      <th>PaymentMethod_Electronic check</th>\n",
              "      <th>PaymentMethod_Mailed check</th>\n",
              "    </tr>\n",
              "  </thead>\n",
              "  <tbody>\n",
              "    <tr>\n",
              "      <th>0</th>\n",
              "      <td>0</td>\n",
              "      <td>0</td>\n",
              "      <td>1</td>\n",
              "      <td>0</td>\n",
              "      <td>1</td>\n",
              "      <td>0</td>\n",
              "      <td>1</td>\n",
              "      <td>29.85</td>\n",
              "      <td>29.85</td>\n",
              "      <td>0</td>\n",
              "      <td>0</td>\n",
              "      <td>1</td>\n",
              "      <td>0</td>\n",
              "      <td>1</td>\n",
              "      <td>0</td>\n",
              "      <td>0</td>\n",
              "      <td>1</td>\n",
              "      <td>0</td>\n",
              "      <td>0</td>\n",
              "      <td>0</td>\n",
              "      <td>0</td>\n",
              "      <td>1</td>\n",
              "      <td>1</td>\n",
              "      <td>0</td>\n",
              "      <td>0</td>\n",
              "      <td>1</td>\n",
              "      <td>0</td>\n",
              "      <td>0</td>\n",
              "      <td>1</td>\n",
              "      <td>0</td>\n",
              "      <td>0</td>\n",
              "      <td>1</td>\n",
              "      <td>0</td>\n",
              "      <td>0</td>\n",
              "      <td>1</td>\n",
              "      <td>0</td>\n",
              "      <td>0</td>\n",
              "      <td>0</td>\n",
              "      <td>0</td>\n",
              "      <td>1</td>\n",
              "      <td>0</td>\n",
              "    </tr>\n",
              "    <tr>\n",
              "      <th>1</th>\n",
              "      <td>1</td>\n",
              "      <td>0</td>\n",
              "      <td>0</td>\n",
              "      <td>0</td>\n",
              "      <td>34</td>\n",
              "      <td>1</td>\n",
              "      <td>0</td>\n",
              "      <td>56.95</td>\n",
              "      <td>1889.50</td>\n",
              "      <td>0</td>\n",
              "      <td>1</td>\n",
              "      <td>0</td>\n",
              "      <td>0</td>\n",
              "      <td>1</td>\n",
              "      <td>0</td>\n",
              "      <td>0</td>\n",
              "      <td>0</td>\n",
              "      <td>0</td>\n",
              "      <td>1</td>\n",
              "      <td>1</td>\n",
              "      <td>0</td>\n",
              "      <td>0</td>\n",
              "      <td>0</td>\n",
              "      <td>0</td>\n",
              "      <td>1</td>\n",
              "      <td>1</td>\n",
              "      <td>0</td>\n",
              "      <td>0</td>\n",
              "      <td>1</td>\n",
              "      <td>0</td>\n",
              "      <td>0</td>\n",
              "      <td>1</td>\n",
              "      <td>0</td>\n",
              "      <td>0</td>\n",
              "      <td>0</td>\n",
              "      <td>1</td>\n",
              "      <td>0</td>\n",
              "      <td>0</td>\n",
              "      <td>0</td>\n",
              "      <td>0</td>\n",
              "      <td>1</td>\n",
              "    </tr>\n",
              "    <tr>\n",
              "      <th>2</th>\n",
              "      <td>1</td>\n",
              "      <td>0</td>\n",
              "      <td>0</td>\n",
              "      <td>0</td>\n",
              "      <td>2</td>\n",
              "      <td>1</td>\n",
              "      <td>1</td>\n",
              "      <td>53.85</td>\n",
              "      <td>108.15</td>\n",
              "      <td>1</td>\n",
              "      <td>1</td>\n",
              "      <td>0</td>\n",
              "      <td>0</td>\n",
              "      <td>1</td>\n",
              "      <td>0</td>\n",
              "      <td>0</td>\n",
              "      <td>0</td>\n",
              "      <td>0</td>\n",
              "      <td>1</td>\n",
              "      <td>0</td>\n",
              "      <td>0</td>\n",
              "      <td>1</td>\n",
              "      <td>1</td>\n",
              "      <td>0</td>\n",
              "      <td>0</td>\n",
              "      <td>1</td>\n",
              "      <td>0</td>\n",
              "      <td>0</td>\n",
              "      <td>1</td>\n",
              "      <td>0</td>\n",
              "      <td>0</td>\n",
              "      <td>1</td>\n",
              "      <td>0</td>\n",
              "      <td>0</td>\n",
              "      <td>1</td>\n",
              "      <td>0</td>\n",
              "      <td>0</td>\n",
              "      <td>0</td>\n",
              "      <td>0</td>\n",
              "      <td>0</td>\n",
              "      <td>1</td>\n",
              "    </tr>\n",
              "    <tr>\n",
              "      <th>3</th>\n",
              "      <td>1</td>\n",
              "      <td>0</td>\n",
              "      <td>0</td>\n",
              "      <td>0</td>\n",
              "      <td>45</td>\n",
              "      <td>0</td>\n",
              "      <td>0</td>\n",
              "      <td>42.30</td>\n",
              "      <td>1840.75</td>\n",
              "      <td>0</td>\n",
              "      <td>0</td>\n",
              "      <td>1</td>\n",
              "      <td>0</td>\n",
              "      <td>1</td>\n",
              "      <td>0</td>\n",
              "      <td>0</td>\n",
              "      <td>0</td>\n",
              "      <td>0</td>\n",
              "      <td>1</td>\n",
              "      <td>1</td>\n",
              "      <td>0</td>\n",
              "      <td>0</td>\n",
              "      <td>0</td>\n",
              "      <td>0</td>\n",
              "      <td>1</td>\n",
              "      <td>0</td>\n",
              "      <td>0</td>\n",
              "      <td>1</td>\n",
              "      <td>1</td>\n",
              "      <td>0</td>\n",
              "      <td>0</td>\n",
              "      <td>1</td>\n",
              "      <td>0</td>\n",
              "      <td>0</td>\n",
              "      <td>0</td>\n",
              "      <td>1</td>\n",
              "      <td>0</td>\n",
              "      <td>1</td>\n",
              "      <td>0</td>\n",
              "      <td>0</td>\n",
              "      <td>0</td>\n",
              "    </tr>\n",
              "    <tr>\n",
              "      <th>4</th>\n",
              "      <td>0</td>\n",
              "      <td>0</td>\n",
              "      <td>0</td>\n",
              "      <td>0</td>\n",
              "      <td>2</td>\n",
              "      <td>1</td>\n",
              "      <td>1</td>\n",
              "      <td>70.70</td>\n",
              "      <td>151.65</td>\n",
              "      <td>1</td>\n",
              "      <td>1</td>\n",
              "      <td>0</td>\n",
              "      <td>0</td>\n",
              "      <td>0</td>\n",
              "      <td>1</td>\n",
              "      <td>0</td>\n",
              "      <td>1</td>\n",
              "      <td>0</td>\n",
              "      <td>0</td>\n",
              "      <td>1</td>\n",
              "      <td>0</td>\n",
              "      <td>0</td>\n",
              "      <td>1</td>\n",
              "      <td>0</td>\n",
              "      <td>0</td>\n",
              "      <td>1</td>\n",
              "      <td>0</td>\n",
              "      <td>0</td>\n",
              "      <td>1</td>\n",
              "      <td>0</td>\n",
              "      <td>0</td>\n",
              "      <td>1</td>\n",
              "      <td>0</td>\n",
              "      <td>0</td>\n",
              "      <td>1</td>\n",
              "      <td>0</td>\n",
              "      <td>0</td>\n",
              "      <td>0</td>\n",
              "      <td>0</td>\n",
              "      <td>1</td>\n",
              "      <td>0</td>\n",
              "    </tr>\n",
              "  </tbody>\n",
              "</table>\n",
              "</div>"
            ],
            "text/plain": [
              "   gender  ...  PaymentMethod_Mailed check\n",
              "0       0  ...                           0\n",
              "1       1  ...                           1\n",
              "2       1  ...                           1\n",
              "3       1  ...                           0\n",
              "4       0  ...                           0\n",
              "\n",
              "[5 rows x 41 columns]"
            ]
          },
          "metadata": {
            "tags": []
          },
          "execution_count": 16
        }
      ]
    },
    {
      "cell_type": "markdown",
      "metadata": {
        "id": "AxigcZmnEEMR"
      },
      "source": [
        "O resultado, após a conversão, é uma tabela com diversos 0 e 1.\n",
        "Com exceção das colunas, que já continham valores númericos.\n",
        "\n",
        "A variável alvo `Churn` recebeu valor de zero(0) para não cancelar e um(1) para cancelar.\n",
        "\n",
        "Também foi criada uma cópia para podermos trabalhar sem mexer na original."
      ]
    },
    {
      "cell_type": "markdown",
      "metadata": {
        "id": "pu0b1QIsYC8T"
      },
      "source": [
        "**Separando os dados**\n",
        "\n",
        "Iremos dividir os dados entre treino e teste para poder treinar o modelo."
      ]
    },
    {
      "cell_type": "code",
      "metadata": {
        "id": "_SNXI0TzYTsu"
      },
      "source": [
        "# dividindo os dados\n",
        "X = df_copy.drop('Churn', axis=1)\n",
        "y = df_copy.Churn\n",
        "\n",
        "# dividir os dados entre treino e teste\n",
        "X_train, X_test, y_train, y_test = train_test_split(X, y)\n",
        "\n",
        "# padronizando os dados\n",
        "scaler = StandardScaler()\n",
        "X_train = scaler.fit_transform(X_train)"
      ],
      "execution_count": 17,
      "outputs": []
    },
    {
      "cell_type": "markdown",
      "metadata": {
        "id": "CwK9xWvScsD0"
      },
      "source": [
        "**Padronizando os Dados**\n",
        "\n"
      ]
    },
    {
      "cell_type": "markdown",
      "metadata": {
        "id": "_HFaoaUIbBNY"
      },
      "source": [
        "Como já foi verificado acima, existe um desbalanceamento dos dados e usaremos o SMOTE para tratá-los.\n",
        "\n",
        "SMOTE é uma técnica que trabalha selecionando exemplos próximos das features e cria novas para balancear os dados.\n",
        "\n",
        "Foi usado e SMOTE que aumentou a classe menor, e o RandonUnderSample que diminui a classe maior, para que elas tenham um balanceamento mais próximos.\n",
        "\n",
        "Será feito o balanceamento nos dados de treino."
      ]
    },
    {
      "cell_type": "code",
      "metadata": {
        "id": "NxYj165OZJOT",
        "outputId": "7daa0482-8da5-4f5f-9770-34a9b52914d9",
        "colab": {
          "base_uri": "https://localhost:8080/",
          "height": 268
        }
      },
      "source": [
        "# define pipeline\n",
        "over = SMOTE()\n",
        "under = RandomUnderSampler()\n",
        "steps = [('o', over), ('u', under)]\n",
        "pipeline = Pipeline(steps=steps)\n",
        "\n",
        "# transformndo o dataset\n",
        "X_train, y_train = pipeline.fit_resample(X_train, y_train)\n",
        "\n",
        "ax = sns.countplot(x=y_train)"
      ],
      "execution_count": 18,
      "outputs": [
        {
          "output_type": "display_data",
          "data": {
            "image/png": "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\n",
            "text/plain": [
              "<Figure size 432x288 with 1 Axes>"
            ]
          },
          "metadata": {
            "tags": []
          }
        }
      ]
    },
    {
      "cell_type": "markdown",
      "metadata": {
        "id": "cw4kK2Fp6rAl"
      },
      "source": [
        "Como é possível ver no gráfico acima, os dados que foram tratados por SMOTE e RandomUnderSampler ficaram balanceados."
      ]
    },
    {
      "cell_type": "markdown",
      "metadata": {
        "id": "gt0GOHUz65vP"
      },
      "source": [
        "**Modelo de Machine Learninbg**\n",
        "\n",
        "Para tratar do problema de Churn, será utilizar o modelo de Regressão Logistíca, que é um modelo supervisionado usado para predizer a probabilidade de uma variável alvo. Neste caso a variável Churn."
      ]
    },
    {
      "cell_type": "markdown",
      "metadata": {
        "id": "IBiGaAIo98iR"
      },
      "source": [
        "Criando o modelo de Regressão Logística."
      ]
    },
    {
      "cell_type": "code",
      "metadata": {
        "id": "vfbeQLBbGFNS"
      },
      "source": [
        "# instanciando e treinando o modelo\n",
        "model = LogisticRegression().fit(X_train, y_train)"
      ],
      "execution_count": 19,
      "outputs": []
    },
    {
      "cell_type": "markdown",
      "metadata": {
        "id": "qxG5Gg-j-KNw"
      },
      "source": [
        "Abaixo será avaliada a acurácia do modelo com os dados de treino."
      ]
    },
    {
      "cell_type": "code",
      "metadata": {
        "id": "bljo-hanpX34",
        "outputId": "ce2a5d31-380d-4fe9-90fc-dbbf0bdfa019",
        "colab": {
          "base_uri": "https://localhost:8080/",
          "height": 54
        }
      },
      "source": [
        "# avaliando acuracia dos dados de treino\n",
        "results = cross_val_score(model, X_train, y_train, cv = 5, scoring = 'accuracy')\n",
        "\n",
        "def intervalo(results):\n",
        "    mean = results.mean()\n",
        "    dv = results.std()\n",
        "    print(f'Acurácia média: {mean * 100:.2f}%')\n",
        "    print(f'Intervalo de acurácia: {(mean - 2 * dv) * 100:.2f}% ~ {(mean + 2 * dv) * 100:.2f}%')\n",
        "\n",
        "intervalo(results)"
      ],
      "execution_count": 20,
      "outputs": [
        {
          "output_type": "stream",
          "text": [
            "Acurácia média: 77.36%\n",
            "Intervalo de acurácia: 76.51% ~ 78.22%\n"
          ],
          "name": "stdout"
        }
      ]
    },
    {
      "cell_type": "markdown",
      "metadata": {
        "id": "E-VHgkb3-Q-A"
      },
      "source": [
        "Como resultado da acurácia, foi possível verificar que está na casa dos 77.36%."
      ]
    },
    {
      "cell_type": "markdown",
      "metadata": {
        "id": "S6Kzepl4-bpn"
      },
      "source": [
        "A seguir será usado o GridSearchCV, que ajuda a achar o melhores hiperparâmetros para modelos de machine learning.\n",
        "\n",
        "Esse hiperparâmetros serão usados para melhorar o modelo, obtendo assim melhores resultados de predição, no caso do modelo atual."
      ]
    },
    {
      "cell_type": "code",
      "metadata": {
        "id": "d7WPuUSb8d7A",
        "outputId": "0f6f550a-3817-4af0-e707-14bde309c1b7",
        "colab": {
          "base_uri": "https://localhost:8080/",
          "height": 182
        }
      },
      "source": [
        "# usando gridsearchCV para encontrar os melhores parametros para logistic regression\n",
        "penalty = ['l1', 'l2']\n",
        "C = [0.0001, 0.001, 0.01, 0.1, 1, 10, 100, 1000]\n",
        "class_weight = [{1:0.5, 0:0.5}, {1:0.4, 0:0.6}, {1:0.6, 0:0.4}, {1:0.7, 0:0.3}]\n",
        "solver = ['liblinear', 'saga']\n",
        "\n",
        "param_grid = dict(penalty=penalty,\n",
        "                  C=C,\n",
        "                  class_weight=class_weight,\n",
        "                  solver=solver)\n",
        "\n",
        "grid = GridSearchCV(estimator=model,\n",
        "                    param_grid=param_grid,\n",
        "                    scoring='roc_auc',\n",
        "                    verbose=1,\n",
        "                    n_jobs=-1)\n",
        "grid_result = grid.fit(X_train, y_train)\n",
        "\n",
        "print('Best Score: ', grid_result.best_score_)\n",
        "print('Best Params: ', grid_result.best_params_)"
      ],
      "execution_count": 21,
      "outputs": [
        {
          "output_type": "stream",
          "text": [
            "Fitting 5 folds for each of 128 candidates, totalling 640 fits\n"
          ],
          "name": "stdout"
        },
        {
          "output_type": "stream",
          "text": [
            "[Parallel(n_jobs=-1)]: Using backend LokyBackend with 2 concurrent workers.\n",
            "[Parallel(n_jobs=-1)]: Done 192 tasks      | elapsed:    5.9s\n",
            "[Parallel(n_jobs=-1)]: Done 496 tasks      | elapsed:  1.1min\n",
            "[Parallel(n_jobs=-1)]: Done 640 out of 640 | elapsed:  2.0min finished\n"
          ],
          "name": "stderr"
        },
        {
          "output_type": "stream",
          "text": [
            "Best Score:  0.8542765523422199\n",
            "Best Params:  {'C': 1000, 'class_weight': {1: 0.4, 0: 0.6}, 'penalty': 'l1', 'solver': 'saga'}\n"
          ],
          "name": "stdout"
        },
        {
          "output_type": "stream",
          "text": [
            "/usr/local/lib/python3.6/dist-packages/sklearn/linear_model/_sag.py:330: ConvergenceWarning: The max_iter was reached which means the coef_ did not converge\n",
            "  \"the coef_ did not converge\", ConvergenceWarning)\n"
          ],
          "name": "stderr"
        }
      ]
    },
    {
      "cell_type": "markdown",
      "metadata": {
        "id": "texf7FrkAHRd"
      },
      "source": [
        "Após o GridSearchCV fazer uma busca, ele retorna aos resultados que serão adicionados ao modelo.\n",
        "\n",
        "No caso, foi indicado que os melhores parâmetros foram: {'C': 1000, 'class_weight': {1: 0.4, 0: 0.6}, 'penalty': 'l1', 'solver': 'saga'}.\n",
        "\n",
        "Esses parâmetros serão incluídos no modelo a seguir.\n",
        "\n",
        "O modelo será treinado usando dados de treino, e depois será testado nos dados de testes. Em seguida será feita a predição e avaliação para obter os resultados do modelo."
      ]
    },
    {
      "cell_type": "code",
      "metadata": {
        "id": "GELN_T8gI29k"
      },
      "source": [
        "# instanciando modelo com melhores parâmetros \n",
        "model = LogisticRegression(C=1000, class_weight={1:0.4, 0:0.6}, penalty='l1', solver='saga').fit(X_train, y_train)\n",
        "X_test = scaler.fit_transform(X_test)\n",
        "y_pred = model.predict(X_test)"
      ],
      "execution_count": null,
      "outputs": []
    },
    {
      "cell_type": "markdown",
      "metadata": {
        "id": "A1C4rkktG3od"
      },
      "source": [
        "Após a predição do modelo, foram tiradas algumas métricas para avaliação, gerada uma matriz de confusão, que é uma maneira de medir o desempenho para um problema de classificação, neste caso é para saber se o cliente vai encerrar o contrato ou não."
      ]
    },
    {
      "cell_type": "code",
      "metadata": {
        "id": "KPVh_DwQ3wm9",
        "outputId": "e1839dbd-4050-4bda-923f-d887d2493ef5",
        "colab": {
          "base_uri": "https://localhost:8080/",
          "height": 470
        }
      },
      "source": [
        "print(classification_report(y_test, y_pred))\n",
        "\n",
        "# plotar matriz de confusão\n",
        "plot_confusion_matrix(y_test, y_pred, normalize=True)\n",
        "plt.show()"
      ],
      "execution_count": 23,
      "outputs": [
        {
          "output_type": "stream",
          "text": [
            "              precision    recall  f1-score   support\n",
            "\n",
            "           0       0.89      0.82      0.85      1302\n",
            "           1       0.58      0.70      0.63       459\n",
            "\n",
            "    accuracy                           0.79      1761\n",
            "   macro avg       0.73      0.76      0.74      1761\n",
            "weighted avg       0.81      0.79      0.79      1761\n",
            "\n"
          ],
          "name": "stdout"
        },
        {
          "output_type": "display_data",
          "data": {
            "image/png": "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\n",
            "text/plain": [
              "<Figure size 432x288 with 2 Axes>"
            ]
          },
          "metadata": {
            "tags": []
          }
        }
      ]
    },
    {
      "cell_type": "markdown",
      "metadata": {
        "id": "RsUWExPgQ9TR"
      },
      "source": [
        "Na tabela de classificação, pode-se verificar que a acurácia foi de 78%, nos dados de teste; significando que ele acertou 78% dos dados que recebeu para avaliação.\n",
        "\n",
        "A matriz de confusão indica os acertos e erros do modelo:\n",
        "\n",
        "* Lado direito inferior, previu corretamente quem iam cancelar, 70% dos clietnes;\n",
        "\n",
        "* Lado esquerdo inferior, previu errado quem iam cancelar, 30% dos clietnes;\n",
        "\n",
        "* Lado direito superior, previu errado quem não iam cancelar, 18% dos clietnes;\n",
        "\n",
        "* Lado esquerdo superior, previu corretamente quem não iam cancelar, 82% dos clietnes.\n"
      ]
    },
    {
      "cell_type": "code",
      "metadata": {
        "id": "k9uZZmhIKvES",
        "outputId": "c2d7c4e8-e657-4a40-8b63-4e99a192f0bf",
        "colab": {
          "base_uri": "https://localhost:8080/",
          "height": 732
        }
      },
      "source": [
        "# negativas tendem a 0 (não cancelou) e positivas tendem a 1(cancelou)\n",
        "\n",
        "logweights = pd.Series(model.coef_[0], index=X.columns.values)\n",
        "weight_logreg = logweights.sort_values(ascending = False)[::].plot(kind='bar', color='green', figsize=(12, 8))\n",
        "print (weight_logreg)"
      ],
      "execution_count": 24,
      "outputs": [
        {
          "output_type": "stream",
          "text": [
            "AxesSubplot(0.125,0.125;0.775x0.755)\n"
          ],
          "name": "stdout"
        },
        {
          "output_type": "display_data",
          "data": {
            "image/png": "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\n",
            "text/plain": [
              "<Figure size 864x576 with 1 Axes>"
            ]
          },
          "metadata": {
            "tags": []
          }
        }
      ]
    },
    {
      "cell_type": "markdown",
      "metadata": {
        "id": "XH72IKU1g2z_"
      },
      "source": [
        "O gráfico acima mostra as variáveis com maior tendência para o cliente cancelar ou não o contrato.\n",
        "\n",
        "Do lado direito estão as que são mais fortes para manterem o cliente na assinatura do serviço adquirido. Por exemplo: a primeira da direita a `tenure`, quanto maior o tempo de permanência , menor o índice de cancelamento.\n",
        "\n",
        "Em contrapartida, do lado esquerdo, a variável `TotalCharges`, é o valor total que o cliente deve pagar, é um grande indício que ele cancelará o contrato com mais antecedência.\n"
      ]
    },
    {
      "cell_type": "markdown",
      "metadata": {
        "id": "6IFSn_KGMKF_"
      },
      "source": [
        "**Conclusão**\n",
        "\n",
        "Após a análise, a tratativa e a criação do modelo de machine learning, em cima dos dados obtidos, foi gerado um sistema para predizer e verificar futuros clientes que poderão cancelar seu contrato, avaliando as variáveis mais propensas para que isso aconteça.\n",
        "\n",
        "Medidas podem ser tomadas para mitigar essa desistência e manter os clientes por mais tempo, analisando os reais motivos que os fazem encerrarem mais cedo seu contrato.\n"
      ]
    }
  ]
}
