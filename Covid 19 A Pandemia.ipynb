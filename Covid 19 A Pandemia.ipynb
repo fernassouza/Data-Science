{
  "nbformat": 4,
  "nbformat_minor": 0,
  "metadata": {
    "colab": {
      "name": "Covid-19 - A Pandemia.ipynb",
      "provenance": [],
      "authorship_tag": "ABX9TyMlEfHdXKY4dzCnqOQuxoWe",
      "include_colab_link": true
    },
    "kernelspec": {
      "name": "python3",
      "display_name": "Python 3"
    }
  },
  "cells": [
    {
      "cell_type": "markdown",
      "metadata": {
        "id": "view-in-github",
        "colab_type": "text"
      },
      "source": [
        "<a href=\"https://colab.research.google.com/github/fernassouza/Data-Science/blob/master/Covid%2019%20A%20Pandemia.ipynb\" target=\"_parent\"><img src=\"https://colab.research.google.com/assets/colab-badge.svg\" alt=\"Open In Colab\"/></a>"
      ]
    },
    {
      "cell_type": "markdown",
      "metadata": {
        "id": "5ShmBJrQNzHs",
        "colab_type": "text"
      },
      "source": [
        "# COVID 19\n",
        "\n",
        "<center><img alt=\"Covid-19\" width=\"50%\" src=\"https://raw.githubusercontent.com/fernassouza/Data-Science/master/img/covid.jpeg\"></center>\n",
        "\n",
        "Em 30 de Janeiro de 2020, a OMS (Organização Mundial da Saúde), declarou Emergência de Saúde Pública de Importância mundial.\n",
        "\n",
        "O COVID-19 (coronavírus), doença infecciosa da síndrome respiratória aguda grave (SARS-CoV-2), foi identificado pela primeira vez em Dezembro de 2019 na cidade de Wuhan, capital da província de Huebei, China, entre pacientes que tinham desenvolvido pneumonia sem causa identificável.\n",
        "\n",
        "O vírus se espalhou rapidamente pelo mundo, afetando drasticamente vários países, iniciando uma pandemia global.\n",
        "\n",
        "Várias atitudes foram tomadas para tentar frear a disseminação do virus, mas mesmo assim causando um grande número de óbitos pelo mundo.\n",
        "O Brasil infelizmente não ficou de fora desses números, sendo que até o momento , diversas cidades ainda se encontram enfrentando a pandemia e o número de óbitos vem aumentando.\n",
        "\n",
        "Nesse projeto iremos investigar algumas informações para tirarmos insights com relação ao coronavírus."
      ]
    },
    {
      "cell_type": "markdown",
      "metadata": {
        "id": "puXvvpbbP-2T",
        "colab_type": "text"
      },
      "source": [
        "# Obtenção dos dados\n",
        "\n",
        "Para análise estarems utilizando os dados globais que estão sendo coletados pole site [Our World in Data](https://ourworldindata.org/).\n",
        "\n",
        "\"A mídia se concentra em eventos, Our World in Data se concentra em desenvolvimentos lentos, mas duradouros. Os canais de notícias que se concentram nos eventos não conseguem mostrar como o mundo está mudando, já que muitas das longas tendências que transformaram o mundo não são cobertas pelas notícias e certamente nunca chegam às manchetes\".\n",
        "\n",
        "Os dados que serão utilizados nesse projeto, podem ser encontradodos nesse [link](https://raw.githubusercontent.com/owid/covid-19-data/master/public/data/owid-covid-data.csv)."
      ]
    },
    {
      "cell_type": "code",
      "metadata": {
        "id": "g3X9bW1YQMWp",
        "colab_type": "code",
        "colab": {}
      },
      "source": [
        "# importando as bibliotecas\n",
        "import pandas as pd\n",
        "import numpy as np\n",
        "import matplotlib.pyplot as plt\n",
        "\n",
        "# importando banco de dados\n",
        "DATA_PATH = (\"https://raw.githubusercontent.com/owid/covid-19-data/master/public/data/owid-covid-data.csv\")\n",
        "\n",
        "df = pd.read_csv(DATA_PATH)"
      ],
      "execution_count": null,
      "outputs": []
    },
    {
      "cell_type": "code",
      "metadata": {
        "id": "0z7HVXXQSwdi",
        "colab_type": "code",
        "colab": {
          "base_uri": "https://localhost:8080/",
          "height": 278
        },
        "outputId": "a162b2b0-facd-4fcd-ac9b-6fa1c0daa56c"
      },
      "source": [
        "# verificando as dimenssóes do dataframe\n",
        "print(\"Dimensão do DataFrame\",\n",
        "      \"\\nVariáveis\", df.shape[1],\n",
        "      \"\\nEntradas\", df.shape[0])\n",
        "\n",
        "# verificando as 5 primeiras linhas do dataframe\n",
        "df.head()"
      ],
      "execution_count": 192,
      "outputs": [
        {
          "output_type": "stream",
          "text": [
            "Dimensão do DataFrame \n",
            "Variáveis 34 \n",
            "Entradas 32787\n"
          ],
          "name": "stdout"
        },
        {
          "output_type": "execute_result",
          "data": {
            "text/html": [
              "<div>\n",
              "<style scoped>\n",
              "    .dataframe tbody tr th:only-of-type {\n",
              "        vertical-align: middle;\n",
              "    }\n",
              "\n",
              "    .dataframe tbody tr th {\n",
              "        vertical-align: top;\n",
              "    }\n",
              "\n",
              "    .dataframe thead th {\n",
              "        text-align: right;\n",
              "    }\n",
              "</style>\n",
              "<table border=\"1\" class=\"dataframe\">\n",
              "  <thead>\n",
              "    <tr style=\"text-align: right;\">\n",
              "      <th></th>\n",
              "      <th>iso_code</th>\n",
              "      <th>continent</th>\n",
              "      <th>location</th>\n",
              "      <th>date</th>\n",
              "      <th>total_cases</th>\n",
              "      <th>new_cases</th>\n",
              "      <th>total_deaths</th>\n",
              "      <th>new_deaths</th>\n",
              "      <th>total_cases_per_million</th>\n",
              "      <th>new_cases_per_million</th>\n",
              "      <th>total_deaths_per_million</th>\n",
              "      <th>new_deaths_per_million</th>\n",
              "      <th>new_tests</th>\n",
              "      <th>total_tests</th>\n",
              "      <th>total_tests_per_thousand</th>\n",
              "      <th>new_tests_per_thousand</th>\n",
              "      <th>new_tests_smoothed</th>\n",
              "      <th>new_tests_smoothed_per_thousand</th>\n",
              "      <th>tests_units</th>\n",
              "      <th>stringency_index</th>\n",
              "      <th>population</th>\n",
              "      <th>population_density</th>\n",
              "      <th>median_age</th>\n",
              "      <th>aged_65_older</th>\n",
              "      <th>aged_70_older</th>\n",
              "      <th>gdp_per_capita</th>\n",
              "      <th>extreme_poverty</th>\n",
              "      <th>cardiovasc_death_rate</th>\n",
              "      <th>diabetes_prevalence</th>\n",
              "      <th>female_smokers</th>\n",
              "      <th>male_smokers</th>\n",
              "      <th>handwashing_facilities</th>\n",
              "      <th>hospital_beds_per_thousand</th>\n",
              "      <th>life_expectancy</th>\n",
              "    </tr>\n",
              "  </thead>\n",
              "  <tbody>\n",
              "    <tr>\n",
              "      <th>0</th>\n",
              "      <td>AFG</td>\n",
              "      <td>Asia</td>\n",
              "      <td>Afghanistan</td>\n",
              "      <td>2019-12-31</td>\n",
              "      <td>0.0</td>\n",
              "      <td>0.0</td>\n",
              "      <td>0.0</td>\n",
              "      <td>0.0</td>\n",
              "      <td>0.0</td>\n",
              "      <td>0.0</td>\n",
              "      <td>0.0</td>\n",
              "      <td>0.0</td>\n",
              "      <td>NaN</td>\n",
              "      <td>NaN</td>\n",
              "      <td>NaN</td>\n",
              "      <td>NaN</td>\n",
              "      <td>NaN</td>\n",
              "      <td>NaN</td>\n",
              "      <td>NaN</td>\n",
              "      <td>NaN</td>\n",
              "      <td>38928341.0</td>\n",
              "      <td>54.422</td>\n",
              "      <td>18.6</td>\n",
              "      <td>2.581</td>\n",
              "      <td>1.337</td>\n",
              "      <td>1803.987</td>\n",
              "      <td>NaN</td>\n",
              "      <td>597.029</td>\n",
              "      <td>9.59</td>\n",
              "      <td>NaN</td>\n",
              "      <td>NaN</td>\n",
              "      <td>37.746</td>\n",
              "      <td>0.5</td>\n",
              "      <td>64.83</td>\n",
              "    </tr>\n",
              "    <tr>\n",
              "      <th>1</th>\n",
              "      <td>AFG</td>\n",
              "      <td>Asia</td>\n",
              "      <td>Afghanistan</td>\n",
              "      <td>2020-01-01</td>\n",
              "      <td>0.0</td>\n",
              "      <td>0.0</td>\n",
              "      <td>0.0</td>\n",
              "      <td>0.0</td>\n",
              "      <td>0.0</td>\n",
              "      <td>0.0</td>\n",
              "      <td>0.0</td>\n",
              "      <td>0.0</td>\n",
              "      <td>NaN</td>\n",
              "      <td>NaN</td>\n",
              "      <td>NaN</td>\n",
              "      <td>NaN</td>\n",
              "      <td>NaN</td>\n",
              "      <td>NaN</td>\n",
              "      <td>NaN</td>\n",
              "      <td>0.0</td>\n",
              "      <td>38928341.0</td>\n",
              "      <td>54.422</td>\n",
              "      <td>18.6</td>\n",
              "      <td>2.581</td>\n",
              "      <td>1.337</td>\n",
              "      <td>1803.987</td>\n",
              "      <td>NaN</td>\n",
              "      <td>597.029</td>\n",
              "      <td>9.59</td>\n",
              "      <td>NaN</td>\n",
              "      <td>NaN</td>\n",
              "      <td>37.746</td>\n",
              "      <td>0.5</td>\n",
              "      <td>64.83</td>\n",
              "    </tr>\n",
              "    <tr>\n",
              "      <th>2</th>\n",
              "      <td>AFG</td>\n",
              "      <td>Asia</td>\n",
              "      <td>Afghanistan</td>\n",
              "      <td>2020-01-02</td>\n",
              "      <td>0.0</td>\n",
              "      <td>0.0</td>\n",
              "      <td>0.0</td>\n",
              "      <td>0.0</td>\n",
              "      <td>0.0</td>\n",
              "      <td>0.0</td>\n",
              "      <td>0.0</td>\n",
              "      <td>0.0</td>\n",
              "      <td>NaN</td>\n",
              "      <td>NaN</td>\n",
              "      <td>NaN</td>\n",
              "      <td>NaN</td>\n",
              "      <td>NaN</td>\n",
              "      <td>NaN</td>\n",
              "      <td>NaN</td>\n",
              "      <td>0.0</td>\n",
              "      <td>38928341.0</td>\n",
              "      <td>54.422</td>\n",
              "      <td>18.6</td>\n",
              "      <td>2.581</td>\n",
              "      <td>1.337</td>\n",
              "      <td>1803.987</td>\n",
              "      <td>NaN</td>\n",
              "      <td>597.029</td>\n",
              "      <td>9.59</td>\n",
              "      <td>NaN</td>\n",
              "      <td>NaN</td>\n",
              "      <td>37.746</td>\n",
              "      <td>0.5</td>\n",
              "      <td>64.83</td>\n",
              "    </tr>\n",
              "    <tr>\n",
              "      <th>3</th>\n",
              "      <td>AFG</td>\n",
              "      <td>Asia</td>\n",
              "      <td>Afghanistan</td>\n",
              "      <td>2020-01-03</td>\n",
              "      <td>0.0</td>\n",
              "      <td>0.0</td>\n",
              "      <td>0.0</td>\n",
              "      <td>0.0</td>\n",
              "      <td>0.0</td>\n",
              "      <td>0.0</td>\n",
              "      <td>0.0</td>\n",
              "      <td>0.0</td>\n",
              "      <td>NaN</td>\n",
              "      <td>NaN</td>\n",
              "      <td>NaN</td>\n",
              "      <td>NaN</td>\n",
              "      <td>NaN</td>\n",
              "      <td>NaN</td>\n",
              "      <td>NaN</td>\n",
              "      <td>0.0</td>\n",
              "      <td>38928341.0</td>\n",
              "      <td>54.422</td>\n",
              "      <td>18.6</td>\n",
              "      <td>2.581</td>\n",
              "      <td>1.337</td>\n",
              "      <td>1803.987</td>\n",
              "      <td>NaN</td>\n",
              "      <td>597.029</td>\n",
              "      <td>9.59</td>\n",
              "      <td>NaN</td>\n",
              "      <td>NaN</td>\n",
              "      <td>37.746</td>\n",
              "      <td>0.5</td>\n",
              "      <td>64.83</td>\n",
              "    </tr>\n",
              "    <tr>\n",
              "      <th>4</th>\n",
              "      <td>AFG</td>\n",
              "      <td>Asia</td>\n",
              "      <td>Afghanistan</td>\n",
              "      <td>2020-01-04</td>\n",
              "      <td>0.0</td>\n",
              "      <td>0.0</td>\n",
              "      <td>0.0</td>\n",
              "      <td>0.0</td>\n",
              "      <td>0.0</td>\n",
              "      <td>0.0</td>\n",
              "      <td>0.0</td>\n",
              "      <td>0.0</td>\n",
              "      <td>NaN</td>\n",
              "      <td>NaN</td>\n",
              "      <td>NaN</td>\n",
              "      <td>NaN</td>\n",
              "      <td>NaN</td>\n",
              "      <td>NaN</td>\n",
              "      <td>NaN</td>\n",
              "      <td>0.0</td>\n",
              "      <td>38928341.0</td>\n",
              "      <td>54.422</td>\n",
              "      <td>18.6</td>\n",
              "      <td>2.581</td>\n",
              "      <td>1.337</td>\n",
              "      <td>1803.987</td>\n",
              "      <td>NaN</td>\n",
              "      <td>597.029</td>\n",
              "      <td>9.59</td>\n",
              "      <td>NaN</td>\n",
              "      <td>NaN</td>\n",
              "      <td>37.746</td>\n",
              "      <td>0.5</td>\n",
              "      <td>64.83</td>\n",
              "    </tr>\n",
              "  </tbody>\n",
              "</table>\n",
              "</div>"
            ],
            "text/plain": [
              "  iso_code continent  ... hospital_beds_per_thousand life_expectancy\n",
              "0      AFG      Asia  ...                        0.5           64.83\n",
              "1      AFG      Asia  ...                        0.5           64.83\n",
              "2      AFG      Asia  ...                        0.5           64.83\n",
              "3      AFG      Asia  ...                        0.5           64.83\n",
              "4      AFG      Asia  ...                        0.5           64.83\n",
              "\n",
              "[5 rows x 34 columns]"
            ]
          },
          "metadata": {
            "tags": []
          },
          "execution_count": 192
        }
      ]
    },
    {
      "cell_type": "markdown",
      "metadata": {
        "id": "QhTRRYkRT2FB",
        "colab_type": "text"
      },
      "source": [
        "### Dicionário de Variáveis\n",
        "\n",
        "Aqui estão todas as variáveis com uma descrição do dataset, para poder termos uma melhor noção do que estaremos trabalhando:\n",
        "\n",
        "\n",
        "* iso_code - ISO 3166-1 alpha-3 – código de três letras do país;\n",
        "* continent - Continente;\n",
        "* location - Locação geográfica;\n",
        "* date - Data da observação;\n",
        "* total_cases - Total de casos confirmados;\n",
        "* new_cases - Novos casos confifrmados;\n",
        "* total_deaths - Total de óbitos atribuidas ao COVID-19;\n",
        "* new_deaths - Novas mortes atribuidas ao COVID-19;\n",
        "* total_cases_per_million - Total de casos confirmados por 1.000.000 de pessoas;\n",
        "* new_cases_per_million - Novos casos confirmados por 1.000.000 de pessoas;\n",
        "* total_deaths_per_million - Total de óbitos confirmados por 1.000.000 de pessoas;\n",
        "* new_deaths_per_million - Novas óbitos confirmadas por 1.000.000 de pessoas\n",
        "* total_tests - Total de testes;\n",
        "* new_tests - Novos testes;\n",
        "* total_tests_per_thousand - Total de testes por 1000 pessoas;\n",
        "* new_tests_per_thousand - Novos testes por 1000 pessoas;\n",
        "* new_tests_smoothed - Novos testes por 1000 pessoas (7 dias) para países que não reportaram testagem diárias;\n",
        "* new_tests_smoothed_per_thousand - Novos testes por 1000 pessoas (7 dias);\n",
        "* tests_units -  unidade usada pela localização para reportar seus dados de teste;\n",
        "* stringency_index - Índice de rigor da resposta do governo, baseada em 9 indicadores de responsbilidade;\n",
        "* population - População em 2020;\n",
        "* population_density - Relação entre população e território;\n",
        "* median_age - Projeção da idade média;\n",
        "* aged_65_older - Mais de 65 anos;\n",
        "* aged_70_older - Mais de 70 anos em 2015;\n",
        "* gdp_per_capita - Renda percapita em Dollar;\n",
        "* extreme_poverty - Extrema pobreza ;\n",
        "* cvd_death_rate - Doenças cardiovasculares em 2017;\n",
        "* diabetes_prevalence - Prevalência de diabetes (% da população entre 20 e 79 anos) em 2017;\n",
        "* female_smokers - Mulheres tabagistas;\n",
        "* male_smokers - Homens tabagistas;\n",
        "* handwashing_facilities - Percentagem da população com instalações básicas de lavagem das mãos nas instalações, último ano disponível;\n",
        "* hospital_beds_per_thousand - Leitos de hospital por 1.000 pessoas, ano mais recente disponível desde 2010;\n",
        "* life_expectancy - Expectativa de vida.\n",
        "\n",
        "Abaixo verificaremos os tipos das variáveis do dataset.\n",
        "\n"
      ]
    },
    {
      "cell_type": "code",
      "metadata": {
        "id": "6aWLILA1UITQ",
        "colab_type": "code",
        "colab": {
          "base_uri": "https://localhost:8080/",
          "height": 625
        },
        "outputId": "25e44675-f1b4-495c-df67-617e88c3367b"
      },
      "source": [
        "# verificando o tipo das variáveis do dataframe\n",
        "df.dtypes"
      ],
      "execution_count": 193,
      "outputs": [
        {
          "output_type": "execute_result",
          "data": {
            "text/plain": [
              "iso_code                            object\n",
              "continent                           object\n",
              "location                            object\n",
              "date                                object\n",
              "total_cases                        float64\n",
              "new_cases                          float64\n",
              "total_deaths                       float64\n",
              "new_deaths                         float64\n",
              "total_cases_per_million            float64\n",
              "new_cases_per_million              float64\n",
              "total_deaths_per_million           float64\n",
              "new_deaths_per_million             float64\n",
              "new_tests                          float64\n",
              "total_tests                        float64\n",
              "total_tests_per_thousand           float64\n",
              "new_tests_per_thousand             float64\n",
              "new_tests_smoothed                 float64\n",
              "new_tests_smoothed_per_thousand    float64\n",
              "tests_units                         object\n",
              "stringency_index                   float64\n",
              "population                         float64\n",
              "population_density                 float64\n",
              "median_age                         float64\n",
              "aged_65_older                      float64\n",
              "aged_70_older                      float64\n",
              "gdp_per_capita                     float64\n",
              "extreme_poverty                    float64\n",
              "cardiovasc_death_rate              float64\n",
              "diabetes_prevalence                float64\n",
              "female_smokers                     float64\n",
              "male_smokers                       float64\n",
              "handwashing_facilities             float64\n",
              "hospital_beds_per_thousand         float64\n",
              "life_expectancy                    float64\n",
              "dtype: object"
            ]
          },
          "metadata": {
            "tags": []
          },
          "execution_count": 193
        }
      ]
    },
    {
      "cell_type": "markdown",
      "metadata": {
        "id": "eBqJaihN43Gf",
        "colab_type": "text"
      },
      "source": [
        "Abaixo verificaremos os valores nulos de cada variável em porcentagem."
      ]
    },
    {
      "cell_type": "code",
      "metadata": {
        "id": "N7cBKacIMJ_s",
        "colab_type": "code",
        "colab": {
          "base_uri": "https://localhost:8080/",
          "height": 625
        },
        "outputId": "9c1adc96-da08-4953-cf38-345e3086e453"
      },
      "source": [
        "# verificando valores nulos em %\n",
        "round((df.isnull().sum() / df.shape[0]).sort_values(ascending=False) * 100)"
      ],
      "execution_count": 194,
      "outputs": [
        {
          "output_type": "execute_result",
          "data": {
            "text/plain": [
              "new_tests_per_thousand             68.0\n",
              "new_tests                          68.0\n",
              "total_tests_per_thousand           68.0\n",
              "total_tests                        68.0\n",
              "new_tests_smoothed_per_thousand    65.0\n",
              "new_tests_smoothed                 65.0\n",
              "tests_units                        63.0\n",
              "handwashing_facilities             59.0\n",
              "extreme_poverty                    41.0\n",
              "male_smokers                       29.0\n",
              "female_smokers                     28.0\n",
              "stringency_index                   19.0\n",
              "hospital_beds_per_thousand         18.0\n",
              "aged_65_older                      11.0\n",
              "gdp_per_capita                     11.0\n",
              "aged_70_older                      10.0\n",
              "median_age                         10.0\n",
              "cardiovasc_death_rate              10.0\n",
              "diabetes_prevalence                 7.0\n",
              "population_density                  4.0\n",
              "life_expectancy                     1.0\n",
              "new_deaths_per_million              1.0\n",
              "total_deaths_per_million            1.0\n",
              "new_cases_per_million               1.0\n",
              "total_cases_per_million             1.0\n",
              "new_deaths                          1.0\n",
              "total_deaths                        1.0\n",
              "new_cases                           1.0\n",
              "total_cases                         1.0\n",
              "continent                           1.0\n",
              "population                          0.0\n",
              "iso_code                            0.0\n",
              "date                                0.0\n",
              "location                            0.0\n",
              "dtype: float64"
            ]
          },
          "metadata": {
            "tags": []
          },
          "execution_count": 194
        }
      ]
    },
    {
      "cell_type": "markdown",
      "metadata": {
        "id": "hwicZfqFuMQV",
        "colab_type": "text"
      },
      "source": [
        "Pode-se verificar acima, que diversas variáveis com relação a teste estão com números elevados de ausência. Isto pode ser devido ao fato de que no começo da pandemia ainda não existiam testes disponíveis."
      ]
    },
    {
      "cell_type": "markdown",
      "metadata": {
        "id": "ykzH8WerYSvx",
        "colab_type": "text"
      },
      "source": [
        "Vamos converter o tipo da variável date em dateime para podermos trabalhar melhor."
      ]
    },
    {
      "cell_type": "code",
      "metadata": {
        "id": "YHfhtMbbRSSP",
        "colab_type": "code",
        "colab": {}
      },
      "source": [
        "# convertendo date(object) em formato datetime\n",
        "df.date = pd.to_datetime(df.date, format=\"%Y-%m-%d\")"
      ],
      "execution_count": 195,
      "outputs": []
    },
    {
      "cell_type": "markdown",
      "metadata": {
        "id": "iY-4zEnTy9-v",
        "colab_type": "text"
      },
      "source": [
        "Verificando a data mais recente no dataset."
      ]
    },
    {
      "cell_type": "code",
      "metadata": {
        "id": "RvKcZxfxrYRW",
        "colab_type": "code",
        "colab": {
          "base_uri": "https://localhost:8080/",
          "height": 34
        },
        "outputId": "ff0559cf-811a-47bd-d8c3-a87935c0ed42"
      },
      "source": [
        "# data mais recente no data set\n",
        "df.date.max()"
      ],
      "execution_count": 196,
      "outputs": [
        {
          "output_type": "execute_result",
          "data": {
            "text/plain": [
              "Timestamp('2020-07-26 00:00:00')"
            ]
          },
          "metadata": {
            "tags": []
          },
          "execution_count": 196
        }
      ]
    },
    {
      "cell_type": "markdown",
      "metadata": {
        "id": "T2GmjG2hY-9b",
        "colab_type": "text"
      },
      "source": [
        "Vamos verificar o total de óbitos no mundo e dos cinco primeiros países."
      ]
    },
    {
      "cell_type": "code",
      "metadata": {
        "id": "AsF6SLR2roaY",
        "colab_type": "code",
        "colab": {
          "base_uri": "https://localhost:8080/",
          "height": 238
        },
        "outputId": "5abb7ecd-84c7-45ef-e6e6-813053fa5192"
      },
      "source": [
        "# verificar total de casos\n",
        "df.loc[df.date == '2020-07-26', ['location', 'total_cases']].sort_values(by=\"total_cases\", ascending=False)[:6]"
      ],
      "execution_count": 198,
      "outputs": [
        {
          "output_type": "execute_result",
          "data": {
            "text/html": [
              "<div>\n",
              "<style scoped>\n",
              "    .dataframe tbody tr th:only-of-type {\n",
              "        vertical-align: middle;\n",
              "    }\n",
              "\n",
              "    .dataframe tbody tr th {\n",
              "        vertical-align: top;\n",
              "    }\n",
              "\n",
              "    .dataframe thead th {\n",
              "        text-align: right;\n",
              "    }\n",
              "</style>\n",
              "<table border=\"1\" class=\"dataframe\">\n",
              "  <thead>\n",
              "    <tr style=\"text-align: right;\">\n",
              "      <th></th>\n",
              "      <th>location</th>\n",
              "      <th>total_cases</th>\n",
              "    </tr>\n",
              "  </thead>\n",
              "  <tbody>\n",
              "    <tr>\n",
              "      <th>32722</th>\n",
              "      <td>World</td>\n",
              "      <td>16018105.0</td>\n",
              "    </tr>\n",
              "    <tr>\n",
              "      <th>31188</th>\n",
              "      <td>United States</td>\n",
              "      <td>4178027.0</td>\n",
              "    </tr>\n",
              "    <tr>\n",
              "      <th>4437</th>\n",
              "      <td>Brazil</td>\n",
              "      <td>2394513.0</td>\n",
              "    </tr>\n",
              "    <tr>\n",
              "      <th>13933</th>\n",
              "      <td>India</td>\n",
              "      <td>1385522.0</td>\n",
              "    </tr>\n",
              "    <tr>\n",
              "      <th>24739</th>\n",
              "      <td>Russia</td>\n",
              "      <td>806720.0</td>\n",
              "    </tr>\n",
              "    <tr>\n",
              "      <th>27184</th>\n",
              "      <td>South Africa</td>\n",
              "      <td>434200.0</td>\n",
              "    </tr>\n",
              "  </tbody>\n",
              "</table>\n",
              "</div>"
            ],
            "text/plain": [
              "            location  total_cases\n",
              "32722          World   16018105.0\n",
              "31188  United States    4178027.0\n",
              "4437          Brazil    2394513.0\n",
              "13933          India    1385522.0\n",
              "24739         Russia     806720.0\n",
              "27184   South Africa     434200.0"
            ]
          },
          "metadata": {
            "tags": []
          },
          "execution_count": 198
        }
      ]
    },
    {
      "cell_type": "markdown",
      "metadata": {
        "id": "BzGo7ZpwvD6M",
        "colab_type": "text"
      },
      "source": [
        "No total de casos registrados na data de 25-07-2020, podemos ver que no mundo é de 16.018.105, seguido por Estados Unidos com 4.178.027, Brasil com 2.394.513, India com 1.385.522, Russia com 806.720 e Africa do Sul com 434.200."
      ]
    },
    {
      "cell_type": "markdown",
      "metadata": {
        "id": "R0RIADs_ZPRF",
        "colab_type": "text"
      },
      "source": [
        "Vamos verificar o total de óbitos no mundo e dos cinco primeiros países."
      ]
    },
    {
      "cell_type": "code",
      "metadata": {
        "id": "ywBIAy3ksfez",
        "colab_type": "code",
        "colab": {
          "base_uri": "https://localhost:8080/",
          "height": 238
        },
        "outputId": "46b9d87a-4942-46be-b84b-1423cd45322b"
      },
      "source": [
        "# verificar total de mortes\n",
        "df.loc[df.date == '2020-07-26', ['location', 'total_deaths']].sort_values(by=\"total_deaths\", ascending=False)[:6]"
      ],
      "execution_count": 199,
      "outputs": [
        {
          "output_type": "execute_result",
          "data": {
            "text/html": [
              "<div>\n",
              "<style scoped>\n",
              "    .dataframe tbody tr th:only-of-type {\n",
              "        vertical-align: middle;\n",
              "    }\n",
              "\n",
              "    .dataframe tbody tr th {\n",
              "        vertical-align: top;\n",
              "    }\n",
              "\n",
              "    .dataframe thead th {\n",
              "        text-align: right;\n",
              "    }\n",
              "</style>\n",
              "<table border=\"1\" class=\"dataframe\">\n",
              "  <thead>\n",
              "    <tr style=\"text-align: right;\">\n",
              "      <th></th>\n",
              "      <th>location</th>\n",
              "      <th>total_deaths</th>\n",
              "    </tr>\n",
              "  </thead>\n",
              "  <tbody>\n",
              "    <tr>\n",
              "      <th>32722</th>\n",
              "      <td>World</td>\n",
              "      <td>644832.0</td>\n",
              "    </tr>\n",
              "    <tr>\n",
              "      <th>31188</th>\n",
              "      <td>United States</td>\n",
              "      <td>146460.0</td>\n",
              "    </tr>\n",
              "    <tr>\n",
              "      <th>4437</th>\n",
              "      <td>Brazil</td>\n",
              "      <td>86449.0</td>\n",
              "    </tr>\n",
              "    <tr>\n",
              "      <th>30979</th>\n",
              "      <td>United Kingdom</td>\n",
              "      <td>45738.0</td>\n",
              "    </tr>\n",
              "    <tr>\n",
              "      <th>19578</th>\n",
              "      <td>Mexico</td>\n",
              "      <td>43374.0</td>\n",
              "    </tr>\n",
              "    <tr>\n",
              "      <th>15304</th>\n",
              "      <td>Italy</td>\n",
              "      <td>35102.0</td>\n",
              "    </tr>\n",
              "  </tbody>\n",
              "</table>\n",
              "</div>"
            ],
            "text/plain": [
              "             location  total_deaths\n",
              "32722           World      644832.0\n",
              "31188   United States      146460.0\n",
              "4437           Brazil       86449.0\n",
              "30979  United Kingdom       45738.0\n",
              "19578          Mexico       43374.0\n",
              "15304           Italy       35102.0"
            ]
          },
          "metadata": {
            "tags": []
          },
          "execution_count": 199
        }
      ]
    },
    {
      "cell_type": "markdown",
      "metadata": {
        "id": "Uy9HSGG4v5cE",
        "colab_type": "text"
      },
      "source": [
        "No total de óbitos registrados na data de 25-07-2020, podemos ver que no mundo é de 644.832, seguido por Estados Unidos com 146.460, Brasil com8 64.498, Reino Unido com 45.738, Mexico com 43.374 e Italia com 35.102."
      ]
    },
    {
      "cell_type": "markdown",
      "metadata": {
        "id": "bZ7RtxetwryT",
        "colab_type": "text"
      },
      "source": [
        "Vamos verificar no gráfico abaixo, a curva de crescimento de óbitos no mundo  desde o inpicio da pandemia."
      ]
    },
    {
      "cell_type": "code",
      "metadata": {
        "id": "8S5463qo9AQQ",
        "colab_type": "code",
        "colab": {
          "base_uri": "https://localhost:8080/",
          "height": 416
        },
        "outputId": "cde8aaaf-c311-4a6d-c51d-e9d60386f44c"
      },
      "source": [
        "# criando gráfico para total de mortes no mundo\n",
        "fig, ax = plt.subplots(nrows=1, ncols=1, figsize=(10,6))\n",
        "\n",
        "df.loc[df.location == 'World'].plot(x='date', y='total_deaths', ax = ax)\n",
        "\n",
        "ax.set_title('NÚMEROS DE ÓBITOS NO MUNDO')\n",
        "ax.set_ylabel('Total de óbtos')\n",
        "ax.set_xlabel('Meses')\n",
        "\n",
        "plt.show()"
      ],
      "execution_count": 200,
      "outputs": [
        {
          "output_type": "display_data",
          "data": {
            "image/png": "[encoded data removed]",
            "text/plain": [
              "<Figure size 720x432 with 1 Axes>"
            ]
          },
          "metadata": {
            "tags": [],
            "needs_background": "light"
          }
        }
      ]
    },
    {
      "cell_type": "markdown",
      "metadata": {
        "id": "rYOJGOMER1E7",
        "colab_type": "text"
      },
      "source": [
        "Como podemos ver no gráfico acima, há um grande crescimento exponencial de óbitos registrados no mundo a partir do meio de Maio.\n",
        "Chegando ao número total de 639.273 até o momento.\n",
        "\n",
        "Podemos perceber também que a curva continua em crescimento, a princiío indicando que a pandemia não se encontra controlada."
      ]
    },
    {
      "cell_type": "markdown",
      "metadata": {
        "id": "csbFR_F0M9Vm",
        "colab_type": "text"
      },
      "source": [
        "Vamos verificar no gráfico abaixo, a curva de crescimento do total de óbitos dos cinco primeio países."
      ]
    },
    {
      "cell_type": "code",
      "metadata": {
        "id": "Y4EyM-D7EURp",
        "colab_type": "code",
        "colab": {
          "base_uri": "https://localhost:8080/",
          "height": 416
        },
        "outputId": "2d8dcb3f-e1cc-47b8-f96b-26ae2ce030b0"
      },
      "source": [
        "# verificando em gráfico os cinco primeiros países em morte\n",
        "fig, ax = plt.subplots(nrows=1, ncols=1, figsize=(10,6))\n",
        "\n",
        "df.loc[df.location == 'United States'].plot(x='date', y='total_deaths', ax = ax)\n",
        "df.loc[df.location == 'Brazil'].plot(x='date', y='total_deaths', ax = ax)\n",
        "df.loc[df.location == 'United Kingdom'].plot(x='date', y='total_deaths', ax = ax)\n",
        "df.loc[df.location == 'Italy'].plot(x='date', y='total_deaths', ax = ax)\n",
        "df.loc[df.location == 'France'].plot(x='date', y='total_deaths', ax = ax)\n",
        "\n",
        "ax.legend(['United States', 'Brazil', 'United Kingdom', 'Italy', 'France'])\n",
        "ax.set_title('OS CINCO PAÍSES COM MAIS ÓBITOS')\n",
        "ax.set_ylabel('Número de óbtos')\n",
        "ax.set_xlabel('Meses')\n",
        "\n",
        "plt.show()"
      ],
      "execution_count": 201,
      "outputs": [
        {
          "output_type": "display_data",
          "data": {
            "image/png": "[encoded data removed]",
            "text/plain": [
              "<Figure size 720x432 with 1 Axes>"
            ]
          },
          "metadata": {
            "tags": [],
            "needs_background": "light"
          }
        }
      ]
    },
    {
      "cell_type": "markdown",
      "metadata": {
        "id": "SbSBbVF9ZIl6",
        "colab_type": "text"
      },
      "source": [
        "Como podemos ver no gráfico acima, a pandemia teve inicio em periodos diferentes e com consequências diferentes.\n",
        "\n",
        "Podemos ver que Estados Unidos e Brasil estão no topo com maior número de óbitos respectivamente e ainda enfrentando diretamente a pandemia.\n",
        "\n",
        "Os outros países tem uma curva menor, com números de óbitos menor que os dois primeiros e com tendências a estabilização ou estabilizados.\n"
      ]
    },
    {
      "cell_type": "markdown",
      "metadata": {
        "id": "5hUf5I1ZXfE-",
        "colab_type": "text"
      },
      "source": [
        "Vamos verificar no gráfico abaixo a proporção total com relação a óbitos por milhão nos cinco países com mais óbitos no mundo."
      ]
    },
    {
      "cell_type": "code",
      "metadata": {
        "id": "IPg2YwMYkbCy",
        "colab_type": "code",
        "colab": {
          "base_uri": "https://localhost:8080/",
          "height": 406
        },
        "outputId": "ba5acde0-1abc-40d4-e5ac-3ac08d6dc060"
      },
      "source": [
        "# total de mortes e mortes por milhão\n",
        "fig, ax = plt.subplots(nrows=1, ncols=1, figsize=(10,6))\n",
        "\n",
        "df.loc[df.location == 'United States'].plot(x='total_deaths_per_million', y='total_deaths', ax = ax)\n",
        "df.loc[df.location == 'Brazil'].plot(x='total_deaths_per_million', y='total_deaths', ax = ax)\n",
        "df.loc[df.location == 'United Kingdom'].plot(x='total_deaths_per_million', y='total_deaths', ax = ax)\n",
        "df.loc[df.location == 'Italy'].plot(x='total_deaths_per_million', y='total_deaths', ax = ax)\n",
        "df.loc[df.location == 'France'].plot(x='total_deaths_per_million', y='total_deaths', ax = ax)\n",
        "\n",
        "ax.legend(['United States', 'Brazil', 'United Kingdom', 'Italy', 'France'])\n",
        "ax.set_title('OS CINCO PAÍSES COM MAIS ÓBITOS POR MILHÃO')\n",
        "ax.set_ylabel('Número total de óbtos')\n",
        "ax.set_xlabel('Óbtos por milhão')\n",
        "\n",
        "plt.show()"
      ],
      "execution_count": 202,
      "outputs": [
        {
          "output_type": "display_data",
          "data": {
            "image/png": "[encoded data removed]",
            "text/plain": [
              "<Figure size 720x432 with 1 Axes>"
            ]
          },
          "metadata": {
            "tags": [],
            "needs_background": "light"
          }
        }
      ]
    },
    {
      "cell_type": "markdown",
      "metadata": {
        "id": "oIUNkRbPXzf7",
        "colab_type": "text"
      },
      "source": [
        "Podemos verificar que mesmo Estados Unidos e Brasil tendo o maior número de óbitos respectivamente, a relação por milhão não se reflete. Sendo que estes dois países tem o menor número de óbitos por milhão.\n",
        "\n",
        "Estes dados são apenas para análise, não desmerencendo o total de óbitos."
      ]
    },
    {
      "cell_type": "markdown",
      "metadata": {
        "id": "Zzpi5ET7rafW",
        "colab_type": "text"
      },
      "source": [
        "#COVID-19 no Brasil\n",
        "\n",
        "No Brasil, a pandemia teve inicio em 26 de Fevereiro, com um homem de 61 anos que tinha retornado da Itália e testou positivo.\n",
        "\n",
        "A circulação do vírus iniciou-se já em janeiro de acordo com a Fiocruz e a partir de Fevereiro, São Paulo já tinha transmissão comunitária.\n",
        "\n",
        "O primeiro óbito foi registrado em São Paulo no dia 18 de Março. No dia 19 já subiram para 7 o número. Em 22 de Março alcançava-se 25 óbitos registrados no Brasil.\n",
        "No dia 10 de Abril, o Brasil ultrapassou o número de 1000 óbitos e o número de casos confirmados já era de quase 20 mil.\n",
        "\n",
        "Em 12 de junho, o Brasil superou o Reino Unido em número de óbitos, se tornando o segundo país com mais óbitos no mundo.\n",
        "\n",
        "O número de casos confirmados e óbitos vem subindo vertiginosamente no Brasil, sendo São Paulo o Estado com o maior número de casos e óbitos registrados.\n"
      ]
    },
    {
      "cell_type": "markdown",
      "metadata": {
        "id": "6QnaCnTFhfgh",
        "colab_type": "text"
      },
      "source": [
        "Agora vamos fazer uma copia do dataset original, trazendo apenas as informações relacionadas ao Brasil e ver as 5 primeiras entradas do dataset."
      ]
    },
    {
      "cell_type": "code",
      "metadata": {
        "id": "sVVzacbBhLxJ",
        "colab_type": "code",
        "colab": {
          "base_uri": "https://localhost:8080/",
          "height": 313
        },
        "outputId": "121ea47b-38f2-4cb6-df0b-4f2fb0c21576"
      },
      "source": [
        "# criando uma cópia do dataset original com somente o brasil\n",
        "df_brasil = df.loc[df.location == 'Brazil'].copy()\n",
        "\n",
        "df_brasil.head()"
      ],
      "execution_count": 203,
      "outputs": [
        {
          "output_type": "execute_result",
          "data": {
            "text/html": [
              "<div>\n",
              "<style scoped>\n",
              "    .dataframe tbody tr th:only-of-type {\n",
              "        vertical-align: middle;\n",
              "    }\n",
              "\n",
              "    .dataframe tbody tr th {\n",
              "        vertical-align: top;\n",
              "    }\n",
              "\n",
              "    .dataframe thead th {\n",
              "        text-align: right;\n",
              "    }\n",
              "</style>\n",
              "<table border=\"1\" class=\"dataframe\">\n",
              "  <thead>\n",
              "    <tr style=\"text-align: right;\">\n",
              "      <th></th>\n",
              "      <th>iso_code</th>\n",
              "      <th>continent</th>\n",
              "      <th>location</th>\n",
              "      <th>date</th>\n",
              "      <th>total_cases</th>\n",
              "      <th>new_cases</th>\n",
              "      <th>total_deaths</th>\n",
              "      <th>new_deaths</th>\n",
              "      <th>total_cases_per_million</th>\n",
              "      <th>new_cases_per_million</th>\n",
              "      <th>total_deaths_per_million</th>\n",
              "      <th>new_deaths_per_million</th>\n",
              "      <th>new_tests</th>\n",
              "      <th>total_tests</th>\n",
              "      <th>total_tests_per_thousand</th>\n",
              "      <th>new_tests_per_thousand</th>\n",
              "      <th>new_tests_smoothed</th>\n",
              "      <th>new_tests_smoothed_per_thousand</th>\n",
              "      <th>tests_units</th>\n",
              "      <th>stringency_index</th>\n",
              "      <th>population</th>\n",
              "      <th>population_density</th>\n",
              "      <th>median_age</th>\n",
              "      <th>aged_65_older</th>\n",
              "      <th>aged_70_older</th>\n",
              "      <th>gdp_per_capita</th>\n",
              "      <th>extreme_poverty</th>\n",
              "      <th>cardiovasc_death_rate</th>\n",
              "      <th>diabetes_prevalence</th>\n",
              "      <th>female_smokers</th>\n",
              "      <th>male_smokers</th>\n",
              "      <th>handwashing_facilities</th>\n",
              "      <th>hospital_beds_per_thousand</th>\n",
              "      <th>life_expectancy</th>\n",
              "    </tr>\n",
              "  </thead>\n",
              "  <tbody>\n",
              "    <tr>\n",
              "      <th>4229</th>\n",
              "      <td>BRA</td>\n",
              "      <td>South America</td>\n",
              "      <td>Brazil</td>\n",
              "      <td>2019-12-31</td>\n",
              "      <td>0.0</td>\n",
              "      <td>0.0</td>\n",
              "      <td>0.0</td>\n",
              "      <td>0.0</td>\n",
              "      <td>0.0</td>\n",
              "      <td>0.0</td>\n",
              "      <td>0.0</td>\n",
              "      <td>0.0</td>\n",
              "      <td>NaN</td>\n",
              "      <td>NaN</td>\n",
              "      <td>NaN</td>\n",
              "      <td>NaN</td>\n",
              "      <td>NaN</td>\n",
              "      <td>NaN</td>\n",
              "      <td>NaN</td>\n",
              "      <td>NaN</td>\n",
              "      <td>212559409.0</td>\n",
              "      <td>25.04</td>\n",
              "      <td>33.5</td>\n",
              "      <td>8.552</td>\n",
              "      <td>5.06</td>\n",
              "      <td>14103.452</td>\n",
              "      <td>3.4</td>\n",
              "      <td>177.961</td>\n",
              "      <td>8.11</td>\n",
              "      <td>10.1</td>\n",
              "      <td>17.9</td>\n",
              "      <td>NaN</td>\n",
              "      <td>2.2</td>\n",
              "      <td>75.88</td>\n",
              "    </tr>\n",
              "    <tr>\n",
              "      <th>4230</th>\n",
              "      <td>BRA</td>\n",
              "      <td>South America</td>\n",
              "      <td>Brazil</td>\n",
              "      <td>2020-01-01</td>\n",
              "      <td>0.0</td>\n",
              "      <td>0.0</td>\n",
              "      <td>0.0</td>\n",
              "      <td>0.0</td>\n",
              "      <td>0.0</td>\n",
              "      <td>0.0</td>\n",
              "      <td>0.0</td>\n",
              "      <td>0.0</td>\n",
              "      <td>NaN</td>\n",
              "      <td>NaN</td>\n",
              "      <td>NaN</td>\n",
              "      <td>NaN</td>\n",
              "      <td>NaN</td>\n",
              "      <td>NaN</td>\n",
              "      <td>NaN</td>\n",
              "      <td>0.0</td>\n",
              "      <td>212559409.0</td>\n",
              "      <td>25.04</td>\n",
              "      <td>33.5</td>\n",
              "      <td>8.552</td>\n",
              "      <td>5.06</td>\n",
              "      <td>14103.452</td>\n",
              "      <td>3.4</td>\n",
              "      <td>177.961</td>\n",
              "      <td>8.11</td>\n",
              "      <td>10.1</td>\n",
              "      <td>17.9</td>\n",
              "      <td>NaN</td>\n",
              "      <td>2.2</td>\n",
              "      <td>75.88</td>\n",
              "    </tr>\n",
              "    <tr>\n",
              "      <th>4231</th>\n",
              "      <td>BRA</td>\n",
              "      <td>South America</td>\n",
              "      <td>Brazil</td>\n",
              "      <td>2020-01-02</td>\n",
              "      <td>0.0</td>\n",
              "      <td>0.0</td>\n",
              "      <td>0.0</td>\n",
              "      <td>0.0</td>\n",
              "      <td>0.0</td>\n",
              "      <td>0.0</td>\n",
              "      <td>0.0</td>\n",
              "      <td>0.0</td>\n",
              "      <td>NaN</td>\n",
              "      <td>NaN</td>\n",
              "      <td>NaN</td>\n",
              "      <td>NaN</td>\n",
              "      <td>NaN</td>\n",
              "      <td>NaN</td>\n",
              "      <td>NaN</td>\n",
              "      <td>0.0</td>\n",
              "      <td>212559409.0</td>\n",
              "      <td>25.04</td>\n",
              "      <td>33.5</td>\n",
              "      <td>8.552</td>\n",
              "      <td>5.06</td>\n",
              "      <td>14103.452</td>\n",
              "      <td>3.4</td>\n",
              "      <td>177.961</td>\n",
              "      <td>8.11</td>\n",
              "      <td>10.1</td>\n",
              "      <td>17.9</td>\n",
              "      <td>NaN</td>\n",
              "      <td>2.2</td>\n",
              "      <td>75.88</td>\n",
              "    </tr>\n",
              "    <tr>\n",
              "      <th>4232</th>\n",
              "      <td>BRA</td>\n",
              "      <td>South America</td>\n",
              "      <td>Brazil</td>\n",
              "      <td>2020-01-03</td>\n",
              "      <td>0.0</td>\n",
              "      <td>0.0</td>\n",
              "      <td>0.0</td>\n",
              "      <td>0.0</td>\n",
              "      <td>0.0</td>\n",
              "      <td>0.0</td>\n",
              "      <td>0.0</td>\n",
              "      <td>0.0</td>\n",
              "      <td>NaN</td>\n",
              "      <td>NaN</td>\n",
              "      <td>NaN</td>\n",
              "      <td>NaN</td>\n",
              "      <td>NaN</td>\n",
              "      <td>NaN</td>\n",
              "      <td>NaN</td>\n",
              "      <td>0.0</td>\n",
              "      <td>212559409.0</td>\n",
              "      <td>25.04</td>\n",
              "      <td>33.5</td>\n",
              "      <td>8.552</td>\n",
              "      <td>5.06</td>\n",
              "      <td>14103.452</td>\n",
              "      <td>3.4</td>\n",
              "      <td>177.961</td>\n",
              "      <td>8.11</td>\n",
              "      <td>10.1</td>\n",
              "      <td>17.9</td>\n",
              "      <td>NaN</td>\n",
              "      <td>2.2</td>\n",
              "      <td>75.88</td>\n",
              "    </tr>\n",
              "    <tr>\n",
              "      <th>4233</th>\n",
              "      <td>BRA</td>\n",
              "      <td>South America</td>\n",
              "      <td>Brazil</td>\n",
              "      <td>2020-01-04</td>\n",
              "      <td>0.0</td>\n",
              "      <td>0.0</td>\n",
              "      <td>0.0</td>\n",
              "      <td>0.0</td>\n",
              "      <td>0.0</td>\n",
              "      <td>0.0</td>\n",
              "      <td>0.0</td>\n",
              "      <td>0.0</td>\n",
              "      <td>NaN</td>\n",
              "      <td>NaN</td>\n",
              "      <td>NaN</td>\n",
              "      <td>NaN</td>\n",
              "      <td>NaN</td>\n",
              "      <td>NaN</td>\n",
              "      <td>NaN</td>\n",
              "      <td>0.0</td>\n",
              "      <td>212559409.0</td>\n",
              "      <td>25.04</td>\n",
              "      <td>33.5</td>\n",
              "      <td>8.552</td>\n",
              "      <td>5.06</td>\n",
              "      <td>14103.452</td>\n",
              "      <td>3.4</td>\n",
              "      <td>177.961</td>\n",
              "      <td>8.11</td>\n",
              "      <td>10.1</td>\n",
              "      <td>17.9</td>\n",
              "      <td>NaN</td>\n",
              "      <td>2.2</td>\n",
              "      <td>75.88</td>\n",
              "    </tr>\n",
              "  </tbody>\n",
              "</table>\n",
              "</div>"
            ],
            "text/plain": [
              "     iso_code      continent  ... hospital_beds_per_thousand life_expectancy\n",
              "4229      BRA  South America  ...                        2.2           75.88\n",
              "4230      BRA  South America  ...                        2.2           75.88\n",
              "4231      BRA  South America  ...                        2.2           75.88\n",
              "4232      BRA  South America  ...                        2.2           75.88\n",
              "4233      BRA  South America  ...                        2.2           75.88\n",
              "\n",
              "[5 rows x 34 columns]"
            ]
          },
          "metadata": {
            "tags": []
          },
          "execution_count": 203
        }
      ]
    },
    {
      "cell_type": "markdown",
      "metadata": {
        "id": "uRRcnPHsSpzp",
        "colab_type": "text"
      },
      "source": [
        "Vamos verificar o primero registro no dataset que foi feito com relação ao Brasil."
      ]
    },
    {
      "cell_type": "code",
      "metadata": {
        "id": "yOwITl62hyrR",
        "colab_type": "code",
        "colab": {
          "base_uri": "https://localhost:8080/",
          "height": 34
        },
        "outputId": "8121ae09-438d-46ad-f3ad-9a11796f5c79"
      },
      "source": [
        "# data mais antiga\n",
        "df_brasil.date.min()"
      ],
      "execution_count": 204,
      "outputs": [
        {
          "output_type": "execute_result",
          "data": {
            "text/plain": [
              "Timestamp('2019-12-31 00:00:00')"
            ]
          },
          "metadata": {
            "tags": []
          },
          "execution_count": 204
        }
      ]
    },
    {
      "cell_type": "markdown",
      "metadata": {
        "id": "hdcyvacTqg13",
        "colab_type": "text"
      },
      "source": [
        "Podemos identificar que o primeiro registro foi feito em 31-12-2019."
      ]
    },
    {
      "cell_type": "code",
      "metadata": {
        "id": "g67DwlaviGHC",
        "colab_type": "code",
        "colab": {
          "base_uri": "https://localhost:8080/",
          "height": 81
        },
        "outputId": "68ae64ec-8e5f-4512-a2c2-47d025d4250e"
      },
      "source": [
        "# verificando a data mais antiga registrada\n",
        "df_brasil.loc[df_brasil.date  == '2019-12-31', ['iso_code', 'continent', 'location', 'date', 'total_cases',\t'new_cases', 'total_deaths', 'new_deaths']]"
      ],
      "execution_count": 205,
      "outputs": [
        {
          "output_type": "execute_result",
          "data": {
            "text/html": [
              "<div>\n",
              "<style scoped>\n",
              "    .dataframe tbody tr th:only-of-type {\n",
              "        vertical-align: middle;\n",
              "    }\n",
              "\n",
              "    .dataframe tbody tr th {\n",
              "        vertical-align: top;\n",
              "    }\n",
              "\n",
              "    .dataframe thead th {\n",
              "        text-align: right;\n",
              "    }\n",
              "</style>\n",
              "<table border=\"1\" class=\"dataframe\">\n",
              "  <thead>\n",
              "    <tr style=\"text-align: right;\">\n",
              "      <th></th>\n",
              "      <th>iso_code</th>\n",
              "      <th>continent</th>\n",
              "      <th>location</th>\n",
              "      <th>date</th>\n",
              "      <th>total_cases</th>\n",
              "      <th>new_cases</th>\n",
              "      <th>total_deaths</th>\n",
              "      <th>new_deaths</th>\n",
              "    </tr>\n",
              "  </thead>\n",
              "  <tbody>\n",
              "    <tr>\n",
              "      <th>4229</th>\n",
              "      <td>BRA</td>\n",
              "      <td>South America</td>\n",
              "      <td>Brazil</td>\n",
              "      <td>2019-12-31</td>\n",
              "      <td>0.0</td>\n",
              "      <td>0.0</td>\n",
              "      <td>0.0</td>\n",
              "      <td>0.0</td>\n",
              "    </tr>\n",
              "  </tbody>\n",
              "</table>\n",
              "</div>"
            ],
            "text/plain": [
              "     iso_code      continent location  ... new_cases  total_deaths  new_deaths\n",
              "4229      BRA  South America   Brazil  ...       0.0           0.0         0.0\n",
              "\n",
              "[1 rows x 8 columns]"
            ]
          },
          "metadata": {
            "tags": []
          },
          "execution_count": 205
        }
      ]
    },
    {
      "cell_type": "markdown",
      "metadata": {
        "id": "hVdV6BI-qn8P",
        "colab_type": "text"
      },
      "source": [
        "Na data do primeiro registro, 31-12-2019, não tem nenhuma informação inserida quanto a casos ou óbitos registrados."
      ]
    },
    {
      "cell_type": "markdown",
      "metadata": {
        "id": "I23g8C6qmlGZ",
        "colab_type": "text"
      },
      "source": [
        "Vamos verificar o primeiro caso registrado no Brasil."
      ]
    },
    {
      "cell_type": "code",
      "metadata": {
        "id": "DoaEcG7oiQ3C",
        "colab_type": "code",
        "colab": {
          "base_uri": "https://localhost:8080/",
          "height": 81
        },
        "outputId": "b24b11d5-6eef-4b1e-bc77-d8c79ca77b64"
      },
      "source": [
        "# primeiro caso registrado\n",
        "df_brasil.loc[df_brasil.new_cases != 0.0 ,['iso_code', 'location', 'date', 'new_cases']].head(1)"
      ],
      "execution_count": 206,
      "outputs": [
        {
          "output_type": "execute_result",
          "data": {
            "text/html": [
              "<div>\n",
              "<style scoped>\n",
              "    .dataframe tbody tr th:only-of-type {\n",
              "        vertical-align: middle;\n",
              "    }\n",
              "\n",
              "    .dataframe tbody tr th {\n",
              "        vertical-align: top;\n",
              "    }\n",
              "\n",
              "    .dataframe thead th {\n",
              "        text-align: right;\n",
              "    }\n",
              "</style>\n",
              "<table border=\"1\" class=\"dataframe\">\n",
              "  <thead>\n",
              "    <tr style=\"text-align: right;\">\n",
              "      <th></th>\n",
              "      <th>iso_code</th>\n",
              "      <th>location</th>\n",
              "      <th>date</th>\n",
              "      <th>new_cases</th>\n",
              "    </tr>\n",
              "  </thead>\n",
              "  <tbody>\n",
              "    <tr>\n",
              "      <th>4286</th>\n",
              "      <td>BRA</td>\n",
              "      <td>Brazil</td>\n",
              "      <td>2020-02-26</td>\n",
              "      <td>1.0</td>\n",
              "    </tr>\n",
              "  </tbody>\n",
              "</table>\n",
              "</div>"
            ],
            "text/plain": [
              "     iso_code location       date  new_cases\n",
              "4286      BRA   Brazil 2020-02-26        1.0"
            ]
          },
          "metadata": {
            "tags": []
          },
          "execution_count": 206
        }
      ]
    },
    {
      "cell_type": "markdown",
      "metadata": {
        "id": "GaRIhXiZsQ8W",
        "colab_type": "text"
      },
      "source": [
        "O primeiro caso registrado no Brasil foi no dia 26-02-2020."
      ]
    },
    {
      "cell_type": "markdown",
      "metadata": {
        "id": "qXw73lSWmxoX",
        "colab_type": "text"
      },
      "source": [
        "Vamos verificar o primeiro óbito registrado no Brasil."
      ]
    },
    {
      "cell_type": "code",
      "metadata": {
        "id": "VNfYxaJMmQFg",
        "colab_type": "code",
        "colab": {
          "base_uri": "https://localhost:8080/",
          "height": 206
        },
        "outputId": "9a110564-6a68-4763-8ce6-17904f1ec2bf"
      },
      "source": [
        "# primeira morte registrada\n",
        "df_brasil.loc[df_brasil.new_deaths != 0.0, ['iso_code', 'location', 'date', 'new_cases', 'total_deaths']].head()"
      ],
      "execution_count": 207,
      "outputs": [
        {
          "output_type": "execute_result",
          "data": {
            "text/html": [
              "<div>\n",
              "<style scoped>\n",
              "    .dataframe tbody tr th:only-of-type {\n",
              "        vertical-align: middle;\n",
              "    }\n",
              "\n",
              "    .dataframe tbody tr th {\n",
              "        vertical-align: top;\n",
              "    }\n",
              "\n",
              "    .dataframe thead th {\n",
              "        text-align: right;\n",
              "    }\n",
              "</style>\n",
              "<table border=\"1\" class=\"dataframe\">\n",
              "  <thead>\n",
              "    <tr style=\"text-align: right;\">\n",
              "      <th></th>\n",
              "      <th>iso_code</th>\n",
              "      <th>location</th>\n",
              "      <th>date</th>\n",
              "      <th>new_cases</th>\n",
              "      <th>total_deaths</th>\n",
              "    </tr>\n",
              "  </thead>\n",
              "  <tbody>\n",
              "    <tr>\n",
              "      <th>4307</th>\n",
              "      <td>BRA</td>\n",
              "      <td>Brazil</td>\n",
              "      <td>2020-03-18</td>\n",
              "      <td>57.0</td>\n",
              "      <td>1.0</td>\n",
              "    </tr>\n",
              "    <tr>\n",
              "      <th>4308</th>\n",
              "      <td>BRA</td>\n",
              "      <td>Brazil</td>\n",
              "      <td>2020-03-19</td>\n",
              "      <td>137.0</td>\n",
              "      <td>4.0</td>\n",
              "    </tr>\n",
              "    <tr>\n",
              "      <th>4309</th>\n",
              "      <td>BRA</td>\n",
              "      <td>Brazil</td>\n",
              "      <td>2020-03-20</td>\n",
              "      <td>193.0</td>\n",
              "      <td>6.0</td>\n",
              "    </tr>\n",
              "    <tr>\n",
              "      <th>4310</th>\n",
              "      <td>BRA</td>\n",
              "      <td>Brazil</td>\n",
              "      <td>2020-03-21</td>\n",
              "      <td>283.0</td>\n",
              "      <td>11.0</td>\n",
              "    </tr>\n",
              "    <tr>\n",
              "      <th>4311</th>\n",
              "      <td>BRA</td>\n",
              "      <td>Brazil</td>\n",
              "      <td>2020-03-22</td>\n",
              "      <td>224.0</td>\n",
              "      <td>18.0</td>\n",
              "    </tr>\n",
              "  </tbody>\n",
              "</table>\n",
              "</div>"
            ],
            "text/plain": [
              "     iso_code location       date  new_cases  total_deaths\n",
              "4307      BRA   Brazil 2020-03-18       57.0           1.0\n",
              "4308      BRA   Brazil 2020-03-19      137.0           4.0\n",
              "4309      BRA   Brazil 2020-03-20      193.0           6.0\n",
              "4310      BRA   Brazil 2020-03-21      283.0          11.0\n",
              "4311      BRA   Brazil 2020-03-22      224.0          18.0"
            ]
          },
          "metadata": {
            "tags": []
          },
          "execution_count": 207
        }
      ]
    },
    {
      "cell_type": "markdown",
      "metadata": {
        "id": "9dixC88kS5kZ",
        "colab_type": "text"
      },
      "source": [
        "O primeiro óbito registrado no Brasil foi em 18-03-2020."
      ]
    },
    {
      "cell_type": "markdown",
      "metadata": {
        "id": "cenNvmK0o7xn",
        "colab_type": "text"
      },
      "source": [
        "Vamos verificar quanto tempo se passou da data do primeiro caso até a data do primeiro óbito."
      ]
    },
    {
      "cell_type": "code",
      "metadata": {
        "id": "kxGX5f8hnnGa",
        "colab_type": "code",
        "colab": {
          "base_uri": "https://localhost:8080/",
          "height": 34
        },
        "outputId": "ffaac14b-13ff-4198-9d9e-eaf5e53647ec"
      },
      "source": [
        "# quantos dias passaram do primeiro caso até a primeira morte\n",
        "dif_data = df_brasil.date.loc[4259] - df_brasil.date.loc[4280]\n",
        "dif_data"
      ],
      "execution_count": 216,
      "outputs": [
        {
          "output_type": "execute_result",
          "data": {
            "text/plain": [
              "Timedelta('-21 days +00:00:00')"
            ]
          },
          "metadata": {
            "tags": []
          },
          "execution_count": 216
        }
      ]
    },
    {
      "cell_type": "markdown",
      "metadata": {
        "id": "EfezzIfbTTFb",
        "colab_type": "text"
      },
      "source": [
        "Passaram-se 21 dias desde o primeiro registro de casos até o dia do primeiro óbito."
      ]
    },
    {
      "cell_type": "markdown",
      "metadata": {
        "id": "xm0WNSSjNoeV",
        "colab_type": "text"
      },
      "source": [
        "Abaixo veremos o gráfico de total de óbitos no Brasil no decorrer dos meses de 2020."
      ]
    },
    {
      "cell_type": "code",
      "metadata": {
        "id": "LkdLDXPdx31S",
        "colab_type": "code",
        "colab": {
          "base_uri": "https://localhost:8080/",
          "height": 34
        },
        "outputId": "b711084d-899f-4ca3-9de1-7a4437354c8a"
      },
      "source": [
        "df_brasil.total_deaths.max()"
      ],
      "execution_count": 209,
      "outputs": [
        {
          "output_type": "execute_result",
          "data": {
            "text/plain": [
              "86449.0"
            ]
          },
          "metadata": {
            "tags": []
          },
          "execution_count": 209
        }
      ]
    },
    {
      "cell_type": "code",
      "metadata": {
        "id": "OQe9fzk8bqR2",
        "colab_type": "code",
        "colab": {
          "base_uri": "https://localhost:8080/",
          "height": 416
        },
        "outputId": "a81973fa-159a-41ff-ff39-02f85943015b"
      },
      "source": [
        "# gráfico do total de mortes Brasil\n",
        "fig, ax = plt.subplots(nrows=1, ncols=1, figsize=(10,6))\n",
        "\n",
        "df_brasil.loc[df.location == 'Brazil'].plot('date', 'total_deaths', ax = ax)\n",
        "\n",
        "plt.title('ÓBITOS NO BRASIL')\n",
        "plt.xlabel('Meses')\n",
        "plt.ylabel('Total de óbitos')\n",
        "\n",
        "plt.show()"
      ],
      "execution_count": 183,
      "outputs": [
        {
          "output_type": "display_data",
          "data": {
            "image/png": "[encoded data removed]",
            "text/plain": [
              "<Figure size 720x432 with 1 Axes>"
            ]
          },
          "metadata": {
            "tags": [],
            "needs_background": "light"
          }
        }
      ]
    },
    {
      "cell_type": "markdown",
      "metadata": {
        "id": "y-QnRgJMH34t",
        "colab_type": "text"
      },
      "source": [
        "Como podemos verificar no gráfico acima, os óbitos no Brasil começam a se intensificar no mês de Abril em uma curva ascedente.\n",
        "\n",
        "Que até o momento continua crescendo com o número de 86.449 óbitos."
      ]
    },
    {
      "cell_type": "markdown",
      "metadata": {
        "id": "9p3u60lXTlce",
        "colab_type": "text"
      },
      "source": [
        "Vamos verificar no gráfico abaixo o total de casos registrados no Brasil."
      ]
    },
    {
      "cell_type": "code",
      "metadata": {
        "id": "-4G5hPoixdeH",
        "colab_type": "code",
        "colab": {
          "base_uri": "https://localhost:8080/",
          "height": 34
        },
        "outputId": "3a18f783-091d-42e0-a400-5ad56676d182"
      },
      "source": [
        "df_brasil.total_cases.max()"
      ],
      "execution_count": 210,
      "outputs": [
        {
          "output_type": "execute_result",
          "data": {
            "text/plain": [
              "2394513.0"
            ]
          },
          "metadata": {
            "tags": []
          },
          "execution_count": 210
        }
      ]
    },
    {
      "cell_type": "code",
      "metadata": {
        "id": "HkBGhT5qaba0",
        "colab_type": "code",
        "colab": {
          "base_uri": "https://localhost:8080/",
          "height": 416
        },
        "outputId": "07ab3891-4dd0-4d4c-ce3f-5d13d833dff3"
      },
      "source": [
        "# total de casos no Brasil\n",
        "fig, ax = plt.subplots(nrows=1, ncols=1, figsize=(10,6))\n",
        "df_brasil.loc[df.location == 'Brazil'].plot(x='date', y='total_cases', ax = ax)\n",
        "\n",
        "plt.title('CASOS NO BRASIL')\n",
        "plt.xlabel('Meses')\n",
        "plt.ylabel('Total de casos em milhão')\n",
        "\n",
        "plt.show()"
      ],
      "execution_count": 211,
      "outputs": [
        {
          "output_type": "display_data",
          "data": {
            "image/png": "[encoded data removed]",
            "text/plain": [
              "<Figure size 720x432 with 1 Axes>"
            ]
          },
          "metadata": {
            "tags": [],
            "needs_background": "light"
          }
        }
      ]
    },
    {
      "cell_type": "markdown",
      "metadata": {
        "id": "kTpBpnMiTvcU",
        "colab_type": "text"
      },
      "source": [
        "Assim como o número de óbitos, o número de casos começa a se intensificar em Abril e vem tendo crescimento exponencial e continua crescendo diariamente. Chegando ao total de 2.394.513 de casos registrados até o momento."
      ]
    },
    {
      "cell_type": "markdown",
      "metadata": {
        "id": "1tFLFu2aUBE8",
        "colab_type": "text"
      },
      "source": [
        "Vamos verificar os cresimento de óbitos nos últimos 10 dias;"
      ]
    },
    {
      "cell_type": "code",
      "metadata": {
        "id": "xOnUKXtKmkxF",
        "colab_type": "code",
        "colab": {}
      },
      "source": [
        "# criar cópia do dataset apenas com data e total de óbitos\n",
        "df2 = df_brasil.loc[df_brasil.date > '2020-07-15', ['date', 'total_deaths']].copy()"
      ],
      "execution_count": 212,
      "outputs": []
    },
    {
      "cell_type": "markdown",
      "metadata": {
        "id": "rfraK7HuUUtK",
        "colab_type": "text"
      },
      "source": [
        "Abaixo iremos verificar o número de óbitos diários dos últimos dez dias."
      ]
    },
    {
      "cell_type": "code",
      "metadata": {
        "id": "3zZU_s3X7QM9",
        "colab_type": "code",
        "colab": {
          "base_uri": "https://localhost:8080/",
          "height": 363
        },
        "outputId": "6378c985-a247-451f-8d8e-bf054ea73cfd"
      },
      "source": [
        "# calculando a diferença dos óbitos dos últimos dez dias\n",
        "df2.date = df2.date.dt.date\n",
        "df2.total_deaths = df2.total_deaths.diff()\n",
        "df2.iloc[1:]"
      ],
      "execution_count": 213,
      "outputs": [
        {
          "output_type": "execute_result",
          "data": {
            "text/html": [
              "<div>\n",
              "<style scoped>\n",
              "    .dataframe tbody tr th:only-of-type {\n",
              "        vertical-align: middle;\n",
              "    }\n",
              "\n",
              "    .dataframe tbody tr th {\n",
              "        vertical-align: top;\n",
              "    }\n",
              "\n",
              "    .dataframe thead th {\n",
              "        text-align: right;\n",
              "    }\n",
              "</style>\n",
              "<table border=\"1\" class=\"dataframe\">\n",
              "  <thead>\n",
              "    <tr style=\"text-align: right;\">\n",
              "      <th></th>\n",
              "      <th>date</th>\n",
              "      <th>total_deaths</th>\n",
              "    </tr>\n",
              "  </thead>\n",
              "  <tbody>\n",
              "    <tr>\n",
              "      <th>4428</th>\n",
              "      <td>2020-07-17</td>\n",
              "      <td>1322.0</td>\n",
              "    </tr>\n",
              "    <tr>\n",
              "      <th>4429</th>\n",
              "      <td>2020-07-18</td>\n",
              "      <td>1163.0</td>\n",
              "    </tr>\n",
              "    <tr>\n",
              "      <th>4430</th>\n",
              "      <td>2020-07-19</td>\n",
              "      <td>921.0</td>\n",
              "    </tr>\n",
              "    <tr>\n",
              "      <th>4431</th>\n",
              "      <td>2020-07-20</td>\n",
              "      <td>716.0</td>\n",
              "    </tr>\n",
              "    <tr>\n",
              "      <th>4432</th>\n",
              "      <td>2020-07-21</td>\n",
              "      <td>632.0</td>\n",
              "    </tr>\n",
              "    <tr>\n",
              "      <th>4433</th>\n",
              "      <td>2020-07-22</td>\n",
              "      <td>1367.0</td>\n",
              "    </tr>\n",
              "    <tr>\n",
              "      <th>4434</th>\n",
              "      <td>2020-07-23</td>\n",
              "      <td>1284.0</td>\n",
              "    </tr>\n",
              "    <tr>\n",
              "      <th>4435</th>\n",
              "      <td>2020-07-24</td>\n",
              "      <td>1311.0</td>\n",
              "    </tr>\n",
              "    <tr>\n",
              "      <th>4436</th>\n",
              "      <td>2020-07-25</td>\n",
              "      <td>1156.0</td>\n",
              "    </tr>\n",
              "    <tr>\n",
              "      <th>4437</th>\n",
              "      <td>2020-07-26</td>\n",
              "      <td>1211.0</td>\n",
              "    </tr>\n",
              "  </tbody>\n",
              "</table>\n",
              "</div>"
            ],
            "text/plain": [
              "            date  total_deaths\n",
              "4428  2020-07-17        1322.0\n",
              "4429  2020-07-18        1163.0\n",
              "4430  2020-07-19         921.0\n",
              "4431  2020-07-20         716.0\n",
              "4432  2020-07-21         632.0\n",
              "4433  2020-07-22        1367.0\n",
              "4434  2020-07-23        1284.0\n",
              "4435  2020-07-24        1311.0\n",
              "4436  2020-07-25        1156.0\n",
              "4437  2020-07-26        1211.0"
            ]
          },
          "metadata": {
            "tags": []
          },
          "execution_count": 213
        }
      ]
    },
    {
      "cell_type": "markdown",
      "metadata": {
        "id": "Ebwfl5aXGbKQ",
        "colab_type": "text"
      },
      "source": [
        "Abaixo iremos verificar num  gráfico o número de óbitos diários dos últimos dez dias."
      ]
    },
    {
      "cell_type": "code",
      "metadata": {
        "id": "EeAu2xzYFIO5",
        "colab_type": "code",
        "colab": {
          "base_uri": "https://localhost:8080/",
          "height": 452
        },
        "outputId": "3d2d2b1f-838f-41a9-bdf7-9f946ebac8d2"
      },
      "source": [
        "# gráfico de crescimento de óbitos nos últimos dez dias\n",
        "fig, ax = plt.subplots(nrows=1, ncols=1, figsize=(10,6))\n",
        "\n",
        "df2.plot('date', 'total_deaths', kind='bar', label = 'óbitos', ax = ax)\n",
        "\n",
        "plt.title('ÓBITOS NOS ÚLTIMOS DEZ DIAS')\n",
        "plt.xlabel('Datas')\n",
        "plt.ylabel('Óbitos')\n",
        "\n",
        "plt.show()"
      ],
      "execution_count": 214,
      "outputs": [
        {
          "output_type": "display_data",
          "data": {
            "image/png": "[encoded data removed]",
            "text/plain": [
              "<Figure size 720x432 with 1 Axes>"
            ]
          },
          "metadata": {
            "tags": [],
            "needs_background": "light"
          }
        }
      ]
    },
    {
      "cell_type": "markdown",
      "metadata": {
        "id": "UZIkANwQU6ik",
        "colab_type": "text"
      },
      "source": [
        "Podemos ver no gráfico acima, uma variação nas data de 19 à 21, relacionado uma queda no número total de óbitos.\n",
        "\n",
        "Isso pode ser em decorrência do final de semana, por ter uma dimnuição no número de pessooal para registro atualizado.\n",
        "\n",
        "Percebendo-se que existe um aumento maior no próximo dia."
      ]
    },
    {
      "cell_type": "markdown",
      "metadata": {
        "id": "eeexp3E412Iy",
        "colab_type": "text"
      },
      "source": [
        "#Conclusão\n",
        "\n",
        "Podemos verificar nessa análise exploratória dos dados obtidos sobre COVID-19, que existe um número extremamente alto de óbitos e um número maior ainda de casos no mundo. Vimos que segundo a curva dos gráficos ainda continua crescendo devido à  países que ainda estão enfrentando a crise e tendo seus número internos em crescimento e assim contribuindo para o número geral.\n",
        "\n",
        "Como é o caso do Brasil. \n",
        "Que continua no meio da pandemia com mais de mil óbitos diários. Com uma curva de crescimento em acendência e com previsões não muito satisfatórias.\n",
        "\n",
        "Verificando os gráficos que estão em estado crescente e sem o desenvolvimento de uma vacina efetiva com previsão para 2021. Acredita-se que esta pandemia tenha um período longo de duração, elevando ainda mais os números obitidos até a data desta análise.\n",
        "\n",
        "Se compararmos com outras pandemias ocorridas na hitória da humanidade, a covid-19 tem suas difernças biológicas, sociais, temporais e geográficas, mas constumas trazer alguns pontos em comuns como o caos social, mudanças de comportamento e disseminação de informações falsas.\n",
        "\n",
        "Percebemos a necessidade de investir e valorizar cada vez mais as pesquisas científicas, os estudos e os profissionais da saúde.\n",
        "\n",
        "Mesmo com um histótico de pandemias, percebemos que temos muito a aprender e avançar para que esetes fenômenos não volte a assolar  terrivelmente a humanidade."
      ]
    }
  ]
}
